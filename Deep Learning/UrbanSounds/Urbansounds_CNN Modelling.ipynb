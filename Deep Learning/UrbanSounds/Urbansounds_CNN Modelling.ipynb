{
 "cells": [
  {
   "cell_type": "markdown",
   "metadata": {},
   "source": [
    "# CNN Modelling"
   ]
  },
  {
   "cell_type": "markdown",
   "metadata": {
    "ExecuteTime": {
     "end_time": "2022-10-04T09:22:38.116724Z",
     "start_time": "2022-10-04T09:22:38.106760Z"
    }
   },
   "source": [
    "### İmport NecessaryLibrary "
   ]
  },
  {
   "cell_type": "code",
   "execution_count": 1,
   "metadata": {
    "ExecuteTime": {
     "end_time": "2022-10-04T12:33:53.852641Z",
     "start_time": "2022-10-04T12:33:50.913346Z"
    }
   },
   "outputs": [],
   "source": [
    "import pickle\n",
    "import pandas as pd\n",
    "import numpy as np\n",
    "import matplotlib.pyplot as plt\n",
    "%matplotlib inline\n",
    "import seaborn as sns\n",
    "sns.set_style(\"whitegrid\")\n",
    "from tensorflow.keras.models import Sequential\n",
    "from tensorflow.keras.layers import Conv2D, Flatten, Dense, MaxPool2D, Dropout\n",
    "from sklearn.metrics import classification_report,confusion_matrix, plot_confusion_matrix\n",
    "from tensorflow.keras.optimizers import Adam, Adadelta, RMSprop, Nadam\n",
    "from tensorflow.keras.wrappers.scikit_learn import KerasClassifier\n",
    "from sklearn.model_selection import GridSearchCV\n",
    "import tensorflow as tf\n",
    "import warnings\n",
    "warnings.filterwarnings(\"ignore\")"
   ]
  },
  {
   "cell_type": "markdown",
   "metadata": {
    "ExecuteTime": {
     "end_time": "2022-10-04T09:18:55.223602Z",
     "start_time": "2022-10-04T09:18:55.215663Z"
    }
   },
   "source": [
    "### Load Data set"
   ]
  },
  {
   "cell_type": "code",
   "execution_count": 2,
   "metadata": {
    "ExecuteTime": {
     "end_time": "2022-10-04T12:33:53.859608Z",
     "start_time": "2022-10-04T12:33:53.852641Z"
    }
   },
   "outputs": [],
   "source": [
    "fileName=[\"X_train.pickle\",\"X_val.pickle\", \"X_test.pickle\",\"Y_train.pickle\",\"Y_val.pickle\",\"Y_test.pickle\"]\n",
    "datas=[\"X_train\",\"X_val\", \"X_test\",\"Y_train\",\"Y_val\",\"Y_test\"]"
   ]
  },
  {
   "cell_type": "code",
   "execution_count": 3,
   "metadata": {
    "ExecuteTime": {
     "end_time": "2022-10-04T12:33:53.885049Z",
     "start_time": "2022-10-04T12:33:53.859608Z"
    }
   },
   "outputs": [],
   "source": [
    "for i in range(6):\n",
    "    with open(fileName[i], 'rb') as data:\n",
    "            datas[i]=pickle.load(data)\n",
    "     \n",
    "       "
   ]
  },
  {
   "cell_type": "code",
   "execution_count": 4,
   "metadata": {
    "ExecuteTime": {
     "end_time": "2022-10-04T12:33:53.901058Z",
     "start_time": "2022-10-04T12:33:53.885789Z"
    }
   },
   "outputs": [],
   "source": [
    "X_train=datas[0]\n",
    "X_test=datas[1]\n",
    "X_val=datas[2]"
   ]
  },
  {
   "cell_type": "code",
   "execution_count": 5,
   "metadata": {
    "ExecuteTime": {
     "end_time": "2022-10-04T12:33:53.916447Z",
     "start_time": "2022-10-04T12:33:53.902332Z"
    }
   },
   "outputs": [],
   "source": [
    "Y_train=datas[3]\n",
    "Y_test=datas[4]\n",
    "Y_val=datas[5]"
   ]
  },
  {
   "cell_type": "code",
   "execution_count": 6,
   "metadata": {
    "ExecuteTime": {
     "end_time": "2022-10-04T12:33:53.935228Z",
     "start_time": "2022-10-04T12:33:53.917439Z"
    }
   },
   "outputs": [
    {
     "data": {
      "text/plain": [
       "((7072, 16, 8, 1), (874, 16, 8, 1), (786, 16, 8, 1))"
      ]
     },
     "execution_count": 6,
     "metadata": {},
     "output_type": "execute_result"
    }
   ],
   "source": [
    "X_train.shape,X_val.shape, X_test.shape"
   ]
  },
  {
   "cell_type": "code",
   "execution_count": 7,
   "metadata": {
    "ExecuteTime": {
     "end_time": "2022-10-04T12:33:53.953744Z",
     "start_time": "2022-10-04T12:33:53.936231Z"
    }
   },
   "outputs": [
    {
     "data": {
      "text/plain": [
       "((7072, 10), (874, 10), (786, 10))"
      ]
     },
     "execution_count": 7,
     "metadata": {},
     "output_type": "execute_result"
    }
   ],
   "source": [
    "Y_train.shape,Y_val.shape,Y_test.shape"
   ]
  },
  {
   "cell_type": "markdown",
   "metadata": {},
   "source": [
    "### Modelling"
   ]
  },
  {
   "cell_type": "code",
   "execution_count": 8,
   "metadata": {
    "ExecuteTime": {
     "end_time": "2022-10-04T12:33:54.631262Z",
     "start_time": "2022-10-04T12:33:53.955168Z"
    }
   },
   "outputs": [],
   "source": [
    "seed=42\n",
    "tf.random.set_seed(seed)\n",
    "model = Sequential()\n",
    "input_dim = (16, 8, 1)    \n",
    "model.add(Conv2D(64, (3, 3), padding = \"same\", activation = \"relu\", input_shape = input_dim))\n",
    "model.add(MaxPool2D(pool_size=(2, 2)))\n",
    "model.add(Conv2D(128, (3, 3), padding = \"same\", activation = \"relu\"))\n",
    "model.add(MaxPool2D(pool_size=(2, 2)))\n",
    "model.add(Dropout(0.5))\n",
    "model.add(Flatten())\n",
    "model.add(Dense(1024, activation = \"relu\"))\n",
    "model.add(Dense(512, activation = \"relu\"))\n",
    "model.add(Dense(10, activation = \"softmax\"))\n",
    "model.compile(optimizer = 'adam', loss = 'categorical_crossentropy', metrics = ['accuracy'])"
   ]
  },
  {
   "cell_type": "code",
   "execution_count": 9,
   "metadata": {
    "ExecuteTime": {
     "end_time": "2022-10-04T12:33:54.653585Z",
     "start_time": "2022-10-04T12:33:54.631262Z"
    }
   },
   "outputs": [
    {
     "name": "stdout",
     "output_type": "stream",
     "text": [
      "Model: \"sequential\"\n",
      "_________________________________________________________________\n",
      " Layer (type)                Output Shape              Param #   \n",
      "=================================================================\n",
      " conv2d (Conv2D)             (None, 16, 8, 64)         640       \n",
      "                                                                 \n",
      " max_pooling2d (MaxPooling2D  (None, 8, 4, 64)         0         \n",
      " )                                                               \n",
      "                                                                 \n",
      " conv2d_1 (Conv2D)           (None, 8, 4, 128)         73856     \n",
      "                                                                 \n",
      " max_pooling2d_1 (MaxPooling  (None, 4, 2, 128)        0         \n",
      " 2D)                                                             \n",
      "                                                                 \n",
      " dropout (Dropout)           (None, 4, 2, 128)         0         \n",
      "                                                                 \n",
      " flatten (Flatten)           (None, 1024)              0         \n",
      "                                                                 \n",
      " dense (Dense)               (None, 1024)              1049600   \n",
      "                                                                 \n",
      " dense_1 (Dense)             (None, 512)               524800    \n",
      "                                                                 \n",
      " dense_2 (Dense)             (None, 10)                5130      \n",
      "                                                                 \n",
      "=================================================================\n",
      "Total params: 1,654,026\n",
      "Trainable params: 1,654,026\n",
      "Non-trainable params: 0\n",
      "_________________________________________________________________\n"
     ]
    }
   ],
   "source": [
    "model.summary()"
   ]
  },
  {
   "cell_type": "code",
   "execution_count": 10,
   "metadata": {
    "ExecuteTime": {
     "end_time": "2022-10-04T12:33:54.669278Z",
     "start_time": "2022-10-04T12:33:54.653935Z"
    }
   },
   "outputs": [],
   "source": [
    "from tensorflow.keras.callbacks import EarlyStopping"
   ]
  },
  {
   "cell_type": "code",
   "execution_count": 11,
   "metadata": {
    "ExecuteTime": {
     "end_time": "2022-10-04T12:33:54.685738Z",
     "start_time": "2022-10-04T12:33:54.670271Z"
    }
   },
   "outputs": [],
   "source": [
    "early_stop = EarlyStopping(monitor='val_loss',patience=5,restore_best_weights=True)"
   ]
  },
  {
   "cell_type": "code",
   "execution_count": 12,
   "metadata": {
    "ExecuteTime": {
     "end_time": "2022-10-04T12:35:14.696856Z",
     "start_time": "2022-10-04T12:33:54.685738Z"
    }
   },
   "outputs": [
    {
     "name": "stdout",
     "output_type": "stream",
     "text": [
      "Epoch 1/100\n",
      "221/221 [==============================] - 3s 11ms/step - loss: 2.1820 - accuracy: 0.2952 - val_loss: 1.7684 - val_accuracy: 0.4062\n",
      "Epoch 2/100\n",
      "221/221 [==============================] - 2s 10ms/step - loss: 1.6801 - accuracy: 0.4219 - val_loss: 1.5198 - val_accuracy: 0.5080\n",
      "Epoch 3/100\n",
      "221/221 [==============================] - 2s 10ms/step - loss: 1.5221 - accuracy: 0.4775 - val_loss: 1.3248 - val_accuracy: 0.5400\n",
      "Epoch 4/100\n",
      "221/221 [==============================] - 2s 10ms/step - loss: 1.3642 - accuracy: 0.5354 - val_loss: 1.3355 - val_accuracy: 0.5526\n",
      "Epoch 5/100\n",
      "221/221 [==============================] - 2s 10ms/step - loss: 1.2608 - accuracy: 0.5761 - val_loss: 1.1935 - val_accuracy: 0.6087\n",
      "Epoch 6/100\n",
      "221/221 [==============================] - 2s 10ms/step - loss: 1.2132 - accuracy: 0.6025 - val_loss: 1.1757 - val_accuracy: 0.6190\n",
      "Epoch 7/100\n",
      "221/221 [==============================] - 2s 10ms/step - loss: 1.0989 - accuracy: 0.6382 - val_loss: 1.2103 - val_accuracy: 0.6773\n",
      "Epoch 8/100\n",
      "221/221 [==============================] - 2s 10ms/step - loss: 1.0394 - accuracy: 0.6543 - val_loss: 1.1215 - val_accuracy: 0.6876\n",
      "Epoch 9/100\n",
      "221/221 [==============================] - 2s 10ms/step - loss: 1.0251 - accuracy: 0.6669 - val_loss: 0.9362 - val_accuracy: 0.6957\n",
      "Epoch 10/100\n",
      "221/221 [==============================] - 2s 10ms/step - loss: 0.9171 - accuracy: 0.6987 - val_loss: 0.9371 - val_accuracy: 0.7140\n",
      "Epoch 11/100\n",
      "221/221 [==============================] - 2s 10ms/step - loss: 0.8739 - accuracy: 0.7139 - val_loss: 0.8424 - val_accuracy: 0.7506\n",
      "Epoch 12/100\n",
      "221/221 [==============================] - 2s 10ms/step - loss: 0.8262 - accuracy: 0.7311 - val_loss: 0.8067 - val_accuracy: 0.7449\n",
      "Epoch 13/100\n",
      "221/221 [==============================] - 2s 10ms/step - loss: 0.7789 - accuracy: 0.7415 - val_loss: 0.7357 - val_accuracy: 0.7723\n",
      "Epoch 14/100\n",
      "221/221 [==============================] - 2s 10ms/step - loss: 0.7581 - accuracy: 0.7494 - val_loss: 0.7803 - val_accuracy: 0.7712\n",
      "Epoch 15/100\n",
      "221/221 [==============================] - 2s 10ms/step - loss: 0.6833 - accuracy: 0.7745 - val_loss: 0.7111 - val_accuracy: 0.7860\n",
      "Epoch 16/100\n",
      "221/221 [==============================] - 2s 10ms/step - loss: 0.6719 - accuracy: 0.7841 - val_loss: 0.7036 - val_accuracy: 0.7746\n",
      "Epoch 17/100\n",
      "221/221 [==============================] - 2s 10ms/step - loss: 0.6507 - accuracy: 0.7890 - val_loss: 0.6838 - val_accuracy: 0.7929\n",
      "Epoch 18/100\n",
      "221/221 [==============================] - 2s 10ms/step - loss: 0.6047 - accuracy: 0.7988 - val_loss: 0.6363 - val_accuracy: 0.7975\n",
      "Epoch 19/100\n",
      "221/221 [==============================] - 2s 10ms/step - loss: 0.5977 - accuracy: 0.8067 - val_loss: 0.6674 - val_accuracy: 0.8021\n",
      "Epoch 20/100\n",
      "221/221 [==============================] - 2s 10ms/step - loss: 0.5408 - accuracy: 0.8228 - val_loss: 0.6515 - val_accuracy: 0.8112\n",
      "Epoch 21/100\n",
      "221/221 [==============================] - 2s 10ms/step - loss: 0.5495 - accuracy: 0.8262 - val_loss: 0.6873 - val_accuracy: 0.8032\n",
      "Epoch 22/100\n",
      "221/221 [==============================] - 2s 10ms/step - loss: 0.5687 - accuracy: 0.8186 - val_loss: 0.6079 - val_accuracy: 0.8146\n",
      "Epoch 23/100\n",
      "221/221 [==============================] - 2s 10ms/step - loss: 0.5068 - accuracy: 0.8337 - val_loss: 0.6169 - val_accuracy: 0.8192\n",
      "Epoch 24/100\n",
      "221/221 [==============================] - 2s 10ms/step - loss: 0.4746 - accuracy: 0.8447 - val_loss: 0.5878 - val_accuracy: 0.8364\n",
      "Epoch 25/100\n",
      "221/221 [==============================] - 2s 10ms/step - loss: 0.5030 - accuracy: 0.8422 - val_loss: 0.5498 - val_accuracy: 0.8387\n",
      "Epoch 26/100\n",
      "221/221 [==============================] - 2s 10ms/step - loss: 0.4812 - accuracy: 0.8457 - val_loss: 0.5861 - val_accuracy: 0.8295\n",
      "Epoch 27/100\n",
      "221/221 [==============================] - 2s 10ms/step - loss: 0.4591 - accuracy: 0.8503 - val_loss: 0.5720 - val_accuracy: 0.8352\n",
      "Epoch 28/100\n",
      "221/221 [==============================] - 2s 10ms/step - loss: 0.4207 - accuracy: 0.8607 - val_loss: 0.5450 - val_accuracy: 0.8364\n",
      "Epoch 29/100\n",
      "221/221 [==============================] - 2s 10ms/step - loss: 0.4276 - accuracy: 0.8579 - val_loss: 0.5986 - val_accuracy: 0.8249\n",
      "Epoch 30/100\n",
      "221/221 [==============================] - 2s 10ms/step - loss: 0.4367 - accuracy: 0.8638 - val_loss: 0.5777 - val_accuracy: 0.8467\n",
      "Epoch 31/100\n",
      "221/221 [==============================] - 2s 10ms/step - loss: 0.4323 - accuracy: 0.8575 - val_loss: 0.5328 - val_accuracy: 0.8421\n",
      "Epoch 32/100\n",
      "221/221 [==============================] - 2s 10ms/step - loss: 0.3826 - accuracy: 0.8768 - val_loss: 0.5511 - val_accuracy: 0.8444\n",
      "Epoch 33/100\n",
      "221/221 [==============================] - 2s 10ms/step - loss: 0.3923 - accuracy: 0.8744 - val_loss: 0.5511 - val_accuracy: 0.8490\n",
      "Epoch 34/100\n",
      "221/221 [==============================] - 2s 10ms/step - loss: 0.3821 - accuracy: 0.8798 - val_loss: 0.5979 - val_accuracy: 0.8455\n",
      "Epoch 35/100\n",
      "221/221 [==============================] - 2s 10ms/step - loss: 0.3424 - accuracy: 0.8898 - val_loss: 0.5824 - val_accuracy: 0.8547\n",
      "Epoch 36/100\n",
      "221/221 [==============================] - 2s 10ms/step - loss: 0.3278 - accuracy: 0.8925 - val_loss: 0.5478 - val_accuracy: 0.8650\n"
     ]
    },
    {
     "data": {
      "text/plain": [
       "<keras.callbacks.History at 0x2e0fd0e7a60>"
      ]
     },
     "execution_count": 12,
     "metadata": {},
     "output_type": "execute_result"
    }
   ],
   "source": [
    "model.fit(X_train, Y_train, epochs = 100, batch_size = 32, validation_data=(X_val,Y_val), callbacks=[early_stop])"
   ]
  },
  {
   "cell_type": "markdown",
   "metadata": {},
   "source": [
    "### Evaluation"
   ]
  },
  {
   "cell_type": "code",
   "execution_count": 13,
   "metadata": {
    "ExecuteTime": {
     "end_time": "2022-10-04T12:35:14.712279Z",
     "start_time": "2022-10-04T12:35:14.696856Z"
    }
   },
   "outputs": [
    {
     "data": {
      "text/html": [
       "<div>\n",
       "<style scoped>\n",
       "    .dataframe tbody tr th:only-of-type {\n",
       "        vertical-align: middle;\n",
       "    }\n",
       "\n",
       "    .dataframe tbody tr th {\n",
       "        vertical-align: top;\n",
       "    }\n",
       "\n",
       "    .dataframe thead th {\n",
       "        text-align: right;\n",
       "    }\n",
       "</style>\n",
       "<table border=\"1\" class=\"dataframe\">\n",
       "  <thead>\n",
       "    <tr style=\"text-align: right;\">\n",
       "      <th></th>\n",
       "      <th>loss</th>\n",
       "      <th>accuracy</th>\n",
       "      <th>val_loss</th>\n",
       "      <th>val_accuracy</th>\n",
       "    </tr>\n",
       "  </thead>\n",
       "  <tbody>\n",
       "    <tr>\n",
       "      <th>31</th>\n",
       "      <td>0.382637</td>\n",
       "      <td>0.876838</td>\n",
       "      <td>0.551077</td>\n",
       "      <td>0.844394</td>\n",
       "    </tr>\n",
       "    <tr>\n",
       "      <th>32</th>\n",
       "      <td>0.392288</td>\n",
       "      <td>0.874434</td>\n",
       "      <td>0.551142</td>\n",
       "      <td>0.848970</td>\n",
       "    </tr>\n",
       "    <tr>\n",
       "      <th>33</th>\n",
       "      <td>0.382058</td>\n",
       "      <td>0.879808</td>\n",
       "      <td>0.597884</td>\n",
       "      <td>0.845538</td>\n",
       "    </tr>\n",
       "    <tr>\n",
       "      <th>34</th>\n",
       "      <td>0.342374</td>\n",
       "      <td>0.889847</td>\n",
       "      <td>0.582370</td>\n",
       "      <td>0.854691</td>\n",
       "    </tr>\n",
       "    <tr>\n",
       "      <th>35</th>\n",
       "      <td>0.327798</td>\n",
       "      <td>0.892534</td>\n",
       "      <td>0.547809</td>\n",
       "      <td>0.864989</td>\n",
       "    </tr>\n",
       "  </tbody>\n",
       "</table>\n",
       "</div>"
      ],
      "text/plain": [
       "        loss  accuracy  val_loss  val_accuracy\n",
       "31  0.382637  0.876838  0.551077      0.844394\n",
       "32  0.392288  0.874434  0.551142      0.848970\n",
       "33  0.382058  0.879808  0.597884      0.845538\n",
       "34  0.342374  0.889847  0.582370      0.854691\n",
       "35  0.327798  0.892534  0.547809      0.864989"
      ]
     },
     "execution_count": 13,
     "metadata": {},
     "output_type": "execute_result"
    }
   ],
   "source": [
    "summary = pd.DataFrame(model.history.history)\n",
    "summary.tail()"
   ]
  },
  {
   "cell_type": "code",
   "execution_count": 14,
   "metadata": {
    "ExecuteTime": {
     "end_time": "2022-10-04T12:35:14.844839Z",
     "start_time": "2022-10-04T12:35:14.712880Z"
    }
   },
   "outputs": [
    {
     "data": {
      "image/png": "[encoded data removed]",
      "text/plain": [
       "<Figure size 1080x432 with 1 Axes>"
      ]
     },
     "metadata": {},
     "output_type": "display_data"
    }
   ],
   "source": [
    "plt.figure(figsize=(15, 6))\n",
    "plt.plot(summary.loss, label=\"loss\")\n",
    "plt.plot(summary.val_loss, label=\"val_loss\")\n",
    "plt.legend(loc=\"upper right\")\n",
    "plt.ylabel(\"Loss\")\n",
    "plt.xlabel(\"Epoch\")\n",
    "plt.show()"
   ]
  },
  {
   "cell_type": "code",
   "execution_count": 15,
   "metadata": {
    "ExecuteTime": {
     "end_time": "2022-10-04T12:35:15.078652Z",
     "start_time": "2022-10-04T12:35:14.846127Z"
    }
   },
   "outputs": [
    {
     "data": {
      "image/png": "[encoded data removed]",
      "text/plain": [
       "<Figure size 1080x432 with 1 Axes>"
      ]
     },
     "metadata": {},
     "output_type": "display_data"
    }
   ],
   "source": [
    "plt.figure(figsize=(15, 6))\n",
    "plt.plot(summary.accuracy, label=\"accuracy\")\n",
    "plt.plot(summary.val_accuracy, label=\"val_accuracy\")\n",
    "plt.legend(loc=\"upper left\")\n",
    "plt.ylabel(\"Accuracy\")\n",
    "plt.xlabel(\"Epoch\")\n",
    "plt.show()"
   ]
  },
  {
   "cell_type": "code",
   "execution_count": 16,
   "metadata": {
    "ExecuteTime": {
     "end_time": "2022-10-04T12:35:15.095010Z",
     "start_time": "2022-10-04T12:35:15.079385Z"
    }
   },
   "outputs": [],
   "source": [
    "y_test=np.argmax(Y_test, axis=1)"
   ]
  },
  {
   "cell_type": "code",
   "execution_count": 17,
   "metadata": {
    "ExecuteTime": {
     "end_time": "2022-10-04T12:35:15.326182Z",
     "start_time": "2022-10-04T12:35:15.096418Z"
    }
   },
   "outputs": [
    {
     "name": "stdout",
     "output_type": "stream",
     "text": [
      "TEST SCORE\n",
      "25/25 [==============================] - 0s 4ms/step\n",
      "              precision    recall  f1-score   support\n",
      "\n",
      "           0       0.83      0.90      0.86        90\n",
      "           1       0.93      0.64      0.76        39\n",
      "           2       0.63      0.71      0.67        90\n",
      "           3       0.81      0.58      0.68        90\n",
      "           4       0.92      0.84      0.88        90\n",
      "           5       0.87      0.96      0.91        90\n",
      "           6       0.85      0.88      0.87        33\n",
      "           7       0.89      0.96      0.92        90\n",
      "           8       0.78      0.87      0.82        84\n",
      "           9       0.76      0.76      0.76        90\n",
      "\n",
      "    accuracy                           0.81       786\n",
      "   macro avg       0.83      0.81      0.81       786\n",
      "weighted avg       0.82      0.81      0.81       786\n",
      "\n"
     ]
    }
   ],
   "source": [
    "print('TEST SCORE')\n",
    "preds = model.predict(X_test)\n",
    "predictions = np.argmax(preds, axis=1)\n",
    "print(classification_report(y_test, predictions))"
   ]
  },
  {
   "cell_type": "code",
   "execution_count": 18,
   "metadata": {
    "ExecuteTime": {
     "end_time": "2022-10-04T12:35:56.758023Z",
     "start_time": "2022-10-04T12:35:56.694961Z"
    }
   },
   "outputs": [],
   "source": [
    "model.save(\"model_CNN_for_UrbanSounds.h5\")"
   ]
  },
  {
   "cell_type": "markdown",
   "metadata": {},
   "source": [
    "# Gridsearch"
   ]
  },
  {
   "cell_type": "code",
   "execution_count": 20,
   "metadata": {
    "ExecuteTime": {
     "end_time": "2022-10-04T12:40:16.262364Z",
     "start_time": "2022-10-04T12:40:16.243449Z"
    }
   },
   "outputs": [],
   "source": [
    "def build_classifier(optimizer, learn_rate):\n",
    "    tf.random.set_seed(seed)\n",
    "    classifier = Sequential()\n",
    "    classifier.add(Conv2D(64, (3, 3), padding = \"same\", activation = \"relu\", input_shape = input_dim))\n",
    "    classifier.add(MaxPool2D(pool_size=(2, 2)))\n",
    "    classifier.add(Conv2D(128, (3, 3), padding = \"same\", activation = \"relu\"))\n",
    "    classifier.add(MaxPool2D(pool_size=(2, 2)))\n",
    "    classifier.add(Dropout(0.5))\n",
    "    classifier.add(Flatten())\n",
    "    classifier.add(Dense(1024, activation = \"relu\"))\n",
    "    classifier.add(Dense(512, activation = \"relu\"))\n",
    "    classifier.add(Dense(10, activation = \"softmax\"))\n",
    "    classifier.compile(optimizer = optimizer(learn_rate), loss = \"categorical_crossentropy\", metrics=['accuracy'])\n",
    "    return classifier"
   ]
  },
  {
   "cell_type": "code",
   "execution_count": 21,
   "metadata": {
    "ExecuteTime": {
     "end_time": "2022-10-04T12:41:16.149775Z",
     "start_time": "2022-10-04T12:41:16.136817Z"
    }
   },
   "outputs": [],
   "source": [
    "early_stop = EarlyStopping(monitor = \"val_accuracy\", mode = \"auto\", verbose = 1, patience = 5,restore_best_weights=True)"
   ]
  },
  {
   "cell_type": "code",
   "execution_count": 23,
   "metadata": {
    "ExecuteTime": {
     "end_time": "2022-10-04T13:42:49.509195Z",
     "start_time": "2022-10-04T12:43:03.823257Z"
    }
   },
   "outputs": [
    {
     "name": "stdout",
     "output_type": "stream",
     "text": [
      "Fitting 10 folds for each of 4 candidates, totalling 40 fits\n",
      "Epoch 1/100\n",
      "221/221 [==============================] - 4s 16ms/step - loss: 2.1773 - accuracy: 0.2827 - val_loss: 1.7565 - val_accuracy: 0.4359\n",
      "Epoch 2/100\n",
      "221/221 [==============================] - 3s 15ms/step - loss: 1.6846 - accuracy: 0.4150 - val_loss: 1.5022 - val_accuracy: 0.5080\n",
      "Epoch 3/100\n",
      "221/221 [==============================] - 3s 15ms/step - loss: 1.4859 - accuracy: 0.4854 - val_loss: 1.2970 - val_accuracy: 0.5446\n",
      "Epoch 4/100\n",
      "221/221 [==============================] - 3s 15ms/step - loss: 1.3585 - accuracy: 0.5395 - val_loss: 1.3422 - val_accuracy: 0.5629\n",
      "Epoch 5/100\n",
      "221/221 [==============================] - 3s 15ms/step - loss: 1.2302 - accuracy: 0.5868 - val_loss: 1.1310 - val_accuracy: 0.6259\n",
      "Epoch 6/100\n",
      "221/221 [==============================] - 3s 15ms/step - loss: 1.1819 - accuracy: 0.6127 - val_loss: 1.0469 - val_accuracy: 0.6670\n",
      "Epoch 7/100\n",
      "221/221 [==============================] - 3s 16ms/step - loss: 1.0733 - accuracy: 0.6456 - val_loss: 1.0347 - val_accuracy: 0.6945\n",
      "Epoch 8/100\n",
      "221/221 [==============================] - 3s 15ms/step - loss: 1.0120 - accuracy: 0.6650 - val_loss: 0.9664 - val_accuracy: 0.6899\n",
      "Epoch 9/100\n",
      "221/221 [==============================] - 3s 16ms/step - loss: 0.9735 - accuracy: 0.6841 - val_loss: 0.8822 - val_accuracy: 0.7231\n",
      "Epoch 10/100\n",
      "221/221 [==============================] - 3s 16ms/step - loss: 0.8730 - accuracy: 0.7108 - val_loss: 0.8589 - val_accuracy: 0.7300\n",
      "Epoch 11/100\n",
      "221/221 [==============================] - 3s 15ms/step - loss: 0.8139 - accuracy: 0.7315 - val_loss: 0.7676 - val_accuracy: 0.7620\n",
      "Epoch 12/100\n",
      "221/221 [==============================] - 3s 15ms/step - loss: 0.7399 - accuracy: 0.7508 - val_loss: 0.8178 - val_accuracy: 0.7460\n",
      "Epoch 13/100\n",
      "221/221 [==============================] - 3s 15ms/step - loss: 0.7711 - accuracy: 0.7490 - val_loss: 0.7318 - val_accuracy: 0.7757\n",
      "Epoch 14/100\n",
      "221/221 [==============================] - 4s 16ms/step - loss: 0.7151 - accuracy: 0.7658 - val_loss: 0.7459 - val_accuracy: 0.7792\n",
      "Epoch 15/100\n",
      "221/221 [==============================] - 8s 34ms/step - loss: 0.6625 - accuracy: 0.7815 - val_loss: 0.7603 - val_accuracy: 0.7666\n",
      "Epoch 16/100\n",
      "221/221 [==============================] - 3s 15ms/step - loss: 0.6678 - accuracy: 0.7822 - val_loss: 0.6780 - val_accuracy: 0.7929\n",
      "Epoch 17/100\n",
      "221/221 [==============================] - 3s 15ms/step - loss: 0.6135 - accuracy: 0.7931 - val_loss: 0.6348 - val_accuracy: 0.7941\n",
      "Epoch 18/100\n",
      "221/221 [==============================] - 3s 15ms/step - loss: 0.6052 - accuracy: 0.8019 - val_loss: 0.6542 - val_accuracy: 0.8043\n",
      "Epoch 19/100\n",
      "221/221 [==============================] - 3s 15ms/step - loss: 0.5285 - accuracy: 0.8228 - val_loss: 0.6500 - val_accuracy: 0.8021\n",
      "Epoch 20/100\n",
      "221/221 [==============================] - 3s 15ms/step - loss: 0.5767 - accuracy: 0.8189 - val_loss: 0.6174 - val_accuracy: 0.8112\n",
      "Epoch 21/100\n",
      "221/221 [==============================] - 3s 16ms/step - loss: 0.5533 - accuracy: 0.8214 - val_loss: 0.6444 - val_accuracy: 0.8055\n",
      "Epoch 22/100\n",
      "221/221 [==============================] - 7s 30ms/step - loss: 0.5881 - accuracy: 0.8117 - val_loss: 0.7333 - val_accuracy: 0.8124\n",
      "Epoch 23/100\n",
      "221/221 [==============================] - 5s 20ms/step - loss: 0.5313 - accuracy: 0.8374 - val_loss: 0.5713 - val_accuracy: 0.8101\n",
      "Epoch 24/100\n",
      "221/221 [==============================] - 3s 15ms/step - loss: 0.4791 - accuracy: 0.8413 - val_loss: 0.6849 - val_accuracy: 0.8215\n",
      "Epoch 25/100\n",
      "221/221 [==============================] - 3s 15ms/step - loss: 0.4482 - accuracy: 0.8570 - val_loss: 0.5383 - val_accuracy: 0.8375\n",
      "Epoch 26/100\n",
      "221/221 [==============================] - 3s 15ms/step - loss: 0.4622 - accuracy: 0.8508 - val_loss: 0.5672 - val_accuracy: 0.8467\n",
      "Epoch 27/100\n",
      "221/221 [==============================] - 4s 16ms/step - loss: 0.4451 - accuracy: 0.8532 - val_loss: 0.6248 - val_accuracy: 0.8444\n",
      "Epoch 28/100\n",
      "221/221 [==============================] - 7s 32ms/step - loss: 0.4091 - accuracy: 0.8654 - val_loss: 0.6190 - val_accuracy: 0.8387\n",
      "Epoch 29/100\n",
      "221/221 [==============================] - 4s 20ms/step - loss: 0.4260 - accuracy: 0.8695 - val_loss: 0.6306 - val_accuracy: 0.8410\n",
      "Epoch 30/100\n",
      "221/221 [==============================] - 3s 16ms/step - loss: 0.3982 - accuracy: 0.8739 - val_loss: 0.7685 - val_accuracy: 0.8318\n",
      "Epoch 31/100\n",
      "220/221 [============================>.] - ETA: 0s - loss: 0.3799 - accuracy: 0.8751Restoring model weights from the end of the best epoch: 26.\n",
      "221/221 [==============================] - 3s 16ms/step - loss: 0.3795 - accuracy: 0.8753 - val_loss: 0.5907 - val_accuracy: 0.8444\n",
      "Epoch 31: early stopping\n"
     ]
    },
    {
     "data": {
      "text/plain": [
       "GridSearchCV(cv=10,\n",
       "             estimator=<keras.wrappers.scikit_learn.KerasClassifier object at 0x000002E08862F040>,\n",
       "             n_jobs=-1,\n",
       "             param_grid={'learn_rate': [0.001, 0.003],\n",
       "                         'optimizer': [<class 'keras.optimizers.optimizer_v2.adam.Adam'>,\n",
       "                                       <class 'keras.optimizers.optimizer_v2.nadam.Nadam'>]},\n",
       "             scoring='accuracy', verbose=1)"
      ]
     },
     "execution_count": 23,
     "metadata": {},
     "output_type": "execute_result"
    }
   ],
   "source": [
    "classifier_model = KerasClassifier(build_fn = build_classifier, validation_data=(X_val,Y_val), epochs = 100)\n",
    "\n",
    "parameters = {'optimizer': [Adam,Nadam],\n",
    "              'learn_rate': [0.001, 0.003]}\n",
    "\n",
    "grid_model = GridSearchCV(estimator = classifier_model,\n",
    "                          param_grid = parameters,\n",
    "                          scoring = 'accuracy',\n",
    "                          cv = 10,\n",
    "                          n_jobs = -1,\n",
    "                          verbose = 1)\n",
    "\n",
    "grid_model.fit(X_train, Y_train, callbacks = [early_stop])"
   ]
  },
  {
   "cell_type": "code",
   "execution_count": 24,
   "metadata": {
    "ExecuteTime": {
     "end_time": "2022-10-04T13:42:49.787945Z",
     "start_time": "2022-10-04T13:42:49.729316Z"
    }
   },
   "outputs": [],
   "source": [
    "model.save(\"model_Tunned_CNN_for_UrbanSounds.h5\")"
   ]
  },
  {
   "cell_type": "code",
   "execution_count": 25,
   "metadata": {
    "ExecuteTime": {
     "end_time": "2022-10-04T13:42:50.039576Z",
     "start_time": "2022-10-04T13:42:50.024119Z"
    }
   },
   "outputs": [
    {
     "data": {
      "text/plain": [
       "{'learn_rate': 0.001, 'optimizer': keras.optimizers.optimizer_v2.adam.Adam}"
      ]
     },
     "execution_count": 25,
     "metadata": {},
     "output_type": "execute_result"
    }
   ],
   "source": [
    "grid_model.best_params_"
   ]
  },
  {
   "cell_type": "code",
   "execution_count": 37,
   "metadata": {
    "ExecuteTime": {
     "end_time": "2022-10-04T13:46:58.037221Z",
     "start_time": "2022-10-04T13:46:57.830654Z"
    }
   },
   "outputs": [
    {
     "name": "stdout",
     "output_type": "stream",
     "text": [
      "TEST SCORE\n",
      "25/25 [==============================] - 0s 5ms/step\n",
      "[[79  0  3  0  2  2  1  0  2  1]\n",
      " [ 1 32  2  0  0  1  0  0  3  0]\n",
      " [ 4  0 66  3  3  1  1  1  8  3]\n",
      " [ 0  0  8 64  3  2  0  0  9  4]\n",
      " [ 1  1  5  1 74  0  0  5  0  3]\n",
      " [ 0  0  1  0  0 88  0  0  1  0]\n",
      " [ 0  0  4  1  1  0 26  0  0  1]\n",
      " [ 3  1  3  0  3  1  1 76  1  1]\n",
      " [ 0  1  3  3  1  0  0  0 76  0]\n",
      " [ 3  1 13  4  2  3  0  1  1 62]]\n",
      "              precision    recall  f1-score   support\n",
      "\n",
      "           0       0.87      0.88      0.87        90\n",
      "           1       0.89      0.82      0.85        39\n",
      "           2       0.61      0.73      0.67        90\n",
      "           3       0.84      0.71      0.77        90\n",
      "           4       0.83      0.82      0.83        90\n",
      "           5       0.90      0.98      0.94        90\n",
      "           6       0.90      0.79      0.84        33\n",
      "           7       0.92      0.84      0.88        90\n",
      "           8       0.75      0.90      0.82        84\n",
      "           9       0.83      0.69      0.75        90\n",
      "\n",
      "    accuracy                           0.82       786\n",
      "   macro avg       0.83      0.82      0.82       786\n",
      "weighted avg       0.83      0.82      0.82       786\n",
      "\n"
     ]
    }
   ],
   "source": [
    "print('TEST SCORE')\n",
    "y_pred = grid_model.predict(X_test)\n",
    "print(confusion_matrix(y_test, y_pred))\n",
    "print(classification_report(y_test, y_pred))"
   ]
  },
  {
   "cell_type": "code",
   "execution_count": null,
   "metadata": {},
   "outputs": [],
   "source": []
  }
 ],
 "metadata": {
  "kernelspec": {
   "display_name": "Python 3 (ipykernel)",
   "language": "python",
   "name": "python3"
  },
  "language_info": {
   "codemirror_mode": {
    "name": "ipython",
    "version": 3
   },
   "file_extension": ".py",
   "mimetype": "text/x-python",
   "name": "python",
   "nbconvert_exporter": "python",
   "pygments_lexer": "ipython3",
   "version": "3.9.12"
  },
  "toc": {
   "base_numbering": 1,
   "nav_menu": {},
   "number_sections": true,
   "sideBar": true,
   "skip_h1_title": false,
   "title_cell": "Table of Contents",
   "title_sidebar": "Contents",
   "toc_cell": false,
   "toc_position": {},
   "toc_section_display": true,
   "toc_window_display": false
  },
  "varInspector": {
   "cols": {
    "lenName": 16,
    "lenType": 16,
    "lenVar": 40
   },
   "kernels_config": {
    "python": {
     "delete_cmd_postfix": "",
     "delete_cmd_prefix": "del ",
     "library": "var_list.py",
     "varRefreshCmd": "print(var_dic_list())"
    },
    "r": {
     "delete_cmd_postfix": ") ",
     "delete_cmd_prefix": "rm(",
     "library": "var_list.r",
     "varRefreshCmd": "cat(var_dic_list()) "
    }
   },
   "types_to_exclude": [
    "module",
    "function",
    "builtin_function_or_method",
    "instance",
    "_Feature"
   ],
   "window_display": false
  }
 },
 "nbformat": 4,
 "nbformat_minor": 4
}
