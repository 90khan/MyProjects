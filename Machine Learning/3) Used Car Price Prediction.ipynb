{
 "cells": [
  {
   "cell_type": "markdown",
   "metadata": {
    "id": "curQqdpMbV8a"
   },
   "source": [
    "<img src=\"https://miro.medium.com/max/647/1*ZOcUPrSXLYucFxppoI-dYg.png\">"
   ]
  },
  {
   "cell_type": "markdown",
   "metadata": {
    "id": "vIdfp9zXbV8w"
   },
   "source": [
    "# Problem definition\n"
   ]
  },
  {
   "cell_type": "markdown",
   "metadata": {
    "id": "_f1vwRmsbV8z"
   },
   "source": [
    "For this project we are using a car dataset, where we want to predict the selling price of car based on its certain features.\n",
    "Since we need to find the real value, with real calculation, therefore this problem is regression problem. \n",
    "We will be using linear regression to solve this problem.\n",
    "\n",
    "General equation of Multiple Linear Regression:\n",
    "$$y = \\beta_0 + \\beta_{1}x_1 + \\beta_{2}x_2 + \\beta_{3}x_3 + \\beta_{4}x_4 + ... + \\beta_{n}x_n$$"
   ]
  },
  {
   "cell_type": "markdown",
   "metadata": {
    "id": "m79bZ3ojbV82"
   },
   "source": [
    "# Libraries"
   ]
  },
  {
   "cell_type": "code",
   "execution_count": 1,
   "metadata": {
    "id": "zk6tvPRBbV84"
   },
   "outputs": [],
   "source": [
    "import numpy as np\n",
    "import pandas as pd\n",
    "import matplotlib.pyplot as plt\n",
    "import seaborn as sns\n",
    "plt.rcParams[\"figure.figsize\"] = (10,6)\n",
    "import warnings\n",
    "warnings.filterwarnings('ignore')\n",
    "pd.set_option(\"display.max_columns\",100)"
   ]
  },
  {
   "cell_type": "markdown",
   "metadata": {
    "id": "Zu7fPn5HbV87"
   },
   "source": [
    "# Data Gathering"
   ]
  },
  {
   "cell_type": "code",
   "execution_count": 2,
   "metadata": {
    "id": "Hgyy7dkrbV89"
   },
   "outputs": [],
   "source": [
    "df=pd.read_csv('car_dataset.csv')"
   ]
  },
  {
   "cell_type": "markdown",
   "metadata": {
    "id": "EyXAGsjnbV8_"
   },
   "source": [
    "# Data Preparation"
   ]
  },
  {
   "cell_type": "code",
   "execution_count": 3,
   "metadata": {},
   "outputs": [
    {
     "data": {
      "text/html": [
       "<div>\n",
       "<style scoped>\n",
       "    .dataframe tbody tr th:only-of-type {\n",
       "        vertical-align: middle;\n",
       "    }\n",
       "\n",
       "    .dataframe tbody tr th {\n",
       "        vertical-align: top;\n",
       "    }\n",
       "\n",
       "    .dataframe thead th {\n",
       "        text-align: right;\n",
       "    }\n",
       "</style>\n",
       "<table border=\"1\" class=\"dataframe\">\n",
       "  <thead>\n",
       "    <tr style=\"text-align: right;\">\n",
       "      <th></th>\n",
       "      <th>Car_Name</th>\n",
       "      <th>Year</th>\n",
       "      <th>Selling_Price</th>\n",
       "      <th>Present_Price</th>\n",
       "      <th>Kms_Driven</th>\n",
       "      <th>Fuel_Type</th>\n",
       "      <th>Seller_Type</th>\n",
       "      <th>Transmission</th>\n",
       "      <th>Owner</th>\n",
       "    </tr>\n",
       "  </thead>\n",
       "  <tbody>\n",
       "    <tr>\n",
       "      <th>0</th>\n",
       "      <td>ritz</td>\n",
       "      <td>2014</td>\n",
       "      <td>3.35</td>\n",
       "      <td>5.59</td>\n",
       "      <td>27000</td>\n",
       "      <td>Petrol</td>\n",
       "      <td>Dealer</td>\n",
       "      <td>Manual</td>\n",
       "      <td>0</td>\n",
       "    </tr>\n",
       "    <tr>\n",
       "      <th>1</th>\n",
       "      <td>sx4</td>\n",
       "      <td>2013</td>\n",
       "      <td>4.75</td>\n",
       "      <td>9.54</td>\n",
       "      <td>43000</td>\n",
       "      <td>Diesel</td>\n",
       "      <td>Dealer</td>\n",
       "      <td>Manual</td>\n",
       "      <td>0</td>\n",
       "    </tr>\n",
       "    <tr>\n",
       "      <th>2</th>\n",
       "      <td>ciaz</td>\n",
       "      <td>2017</td>\n",
       "      <td>7.25</td>\n",
       "      <td>9.85</td>\n",
       "      <td>6900</td>\n",
       "      <td>Petrol</td>\n",
       "      <td>Dealer</td>\n",
       "      <td>Manual</td>\n",
       "      <td>0</td>\n",
       "    </tr>\n",
       "    <tr>\n",
       "      <th>3</th>\n",
       "      <td>wagon r</td>\n",
       "      <td>2011</td>\n",
       "      <td>2.85</td>\n",
       "      <td>4.15</td>\n",
       "      <td>5200</td>\n",
       "      <td>Petrol</td>\n",
       "      <td>Dealer</td>\n",
       "      <td>Manual</td>\n",
       "      <td>0</td>\n",
       "    </tr>\n",
       "    <tr>\n",
       "      <th>4</th>\n",
       "      <td>swift</td>\n",
       "      <td>2014</td>\n",
       "      <td>4.60</td>\n",
       "      <td>6.87</td>\n",
       "      <td>42450</td>\n",
       "      <td>Diesel</td>\n",
       "      <td>Dealer</td>\n",
       "      <td>Manual</td>\n",
       "      <td>0</td>\n",
       "    </tr>\n",
       "  </tbody>\n",
       "</table>\n",
       "</div>"
      ],
      "text/plain": [
       "  Car_Name  Year  Selling_Price  Present_Price  Kms_Driven Fuel_Type  \\\n",
       "0     ritz  2014           3.35           5.59       27000    Petrol   \n",
       "1      sx4  2013           4.75           9.54       43000    Diesel   \n",
       "2     ciaz  2017           7.25           9.85        6900    Petrol   \n",
       "3  wagon r  2011           2.85           4.15        5200    Petrol   \n",
       "4    swift  2014           4.60           6.87       42450    Diesel   \n",
       "\n",
       "  Seller_Type Transmission  Owner  \n",
       "0      Dealer       Manual      0  \n",
       "1      Dealer       Manual      0  \n",
       "2      Dealer       Manual      0  \n",
       "3      Dealer       Manual      0  \n",
       "4      Dealer       Manual      0  "
      ]
     },
     "execution_count": 3,
     "metadata": {},
     "output_type": "execute_result"
    }
   ],
   "source": [
    "df.head()"
   ]
  },
  {
   "cell_type": "code",
   "execution_count": 4,
   "metadata": {},
   "outputs": [
    {
     "data": {
      "text/plain": [
       "array([0, 1, 3], dtype=int64)"
      ]
     },
     "execution_count": 4,
     "metadata": {},
     "output_type": "execute_result"
    }
   ],
   "source": [
    "df['Owner'].unique()"
   ]
  },
  {
   "cell_type": "code",
   "execution_count": 5,
   "metadata": {},
   "outputs": [
    {
     "name": "stdout",
     "output_type": "stream",
     "text": [
      "<class 'pandas.core.frame.DataFrame'>\n",
      "RangeIndex: 301 entries, 0 to 300\n",
      "Data columns (total 9 columns):\n",
      " #   Column         Non-Null Count  Dtype  \n",
      "---  ------         --------------  -----  \n",
      " 0   Car_Name       301 non-null    object \n",
      " 1   Year           301 non-null    int64  \n",
      " 2   Selling_Price  301 non-null    float64\n",
      " 3   Present_Price  301 non-null    float64\n",
      " 4   Kms_Driven     301 non-null    int64  \n",
      " 5   Fuel_Type      301 non-null    object \n",
      " 6   Seller_Type    301 non-null    object \n",
      " 7   Transmission   301 non-null    object \n",
      " 8   Owner          301 non-null    int64  \n",
      "dtypes: float64(2), int64(3), object(4)\n",
      "memory usage: 21.3+ KB\n"
     ]
    }
   ],
   "source": [
    "df.info()"
   ]
  },
  {
   "cell_type": "code",
   "execution_count": 6,
   "metadata": {},
   "outputs": [
    {
     "data": {
      "text/html": [
       "<div>\n",
       "<style scoped>\n",
       "    .dataframe tbody tr th:only-of-type {\n",
       "        vertical-align: middle;\n",
       "    }\n",
       "\n",
       "    .dataframe tbody tr th {\n",
       "        vertical-align: top;\n",
       "    }\n",
       "\n",
       "    .dataframe thead th {\n",
       "        text-align: right;\n",
       "    }\n",
       "</style>\n",
       "<table border=\"1\" class=\"dataframe\">\n",
       "  <thead>\n",
       "    <tr style=\"text-align: right;\">\n",
       "      <th></th>\n",
       "      <th>count</th>\n",
       "      <th>mean</th>\n",
       "      <th>std</th>\n",
       "      <th>min</th>\n",
       "      <th>25%</th>\n",
       "      <th>50%</th>\n",
       "      <th>75%</th>\n",
       "      <th>max</th>\n",
       "    </tr>\n",
       "  </thead>\n",
       "  <tbody>\n",
       "    <tr>\n",
       "      <th>Year</th>\n",
       "      <td>301.0</td>\n",
       "      <td>2013.627907</td>\n",
       "      <td>2.891554</td>\n",
       "      <td>2003.00</td>\n",
       "      <td>2012.0</td>\n",
       "      <td>2014.0</td>\n",
       "      <td>2016.0</td>\n",
       "      <td>2018.0</td>\n",
       "    </tr>\n",
       "    <tr>\n",
       "      <th>Selling_Price</th>\n",
       "      <td>301.0</td>\n",
       "      <td>4.661296</td>\n",
       "      <td>5.082812</td>\n",
       "      <td>0.10</td>\n",
       "      <td>0.9</td>\n",
       "      <td>3.6</td>\n",
       "      <td>6.0</td>\n",
       "      <td>35.0</td>\n",
       "    </tr>\n",
       "    <tr>\n",
       "      <th>Present_Price</th>\n",
       "      <td>301.0</td>\n",
       "      <td>7.628472</td>\n",
       "      <td>8.644115</td>\n",
       "      <td>0.32</td>\n",
       "      <td>1.2</td>\n",
       "      <td>6.4</td>\n",
       "      <td>9.9</td>\n",
       "      <td>92.6</td>\n",
       "    </tr>\n",
       "    <tr>\n",
       "      <th>Kms_Driven</th>\n",
       "      <td>301.0</td>\n",
       "      <td>36947.205980</td>\n",
       "      <td>38886.883882</td>\n",
       "      <td>500.00</td>\n",
       "      <td>15000.0</td>\n",
       "      <td>32000.0</td>\n",
       "      <td>48767.0</td>\n",
       "      <td>500000.0</td>\n",
       "    </tr>\n",
       "    <tr>\n",
       "      <th>Owner</th>\n",
       "      <td>301.0</td>\n",
       "      <td>0.043189</td>\n",
       "      <td>0.247915</td>\n",
       "      <td>0.00</td>\n",
       "      <td>0.0</td>\n",
       "      <td>0.0</td>\n",
       "      <td>0.0</td>\n",
       "      <td>3.0</td>\n",
       "    </tr>\n",
       "  </tbody>\n",
       "</table>\n",
       "</div>"
      ],
      "text/plain": [
       "               count          mean           std      min      25%      50%  \\\n",
       "Year           301.0   2013.627907      2.891554  2003.00   2012.0   2014.0   \n",
       "Selling_Price  301.0      4.661296      5.082812     0.10      0.9      3.6   \n",
       "Present_Price  301.0      7.628472      8.644115     0.32      1.2      6.4   \n",
       "Kms_Driven     301.0  36947.205980  38886.883882   500.00  15000.0  32000.0   \n",
       "Owner          301.0      0.043189      0.247915     0.00      0.0      0.0   \n",
       "\n",
       "                   75%       max  \n",
       "Year            2016.0    2018.0  \n",
       "Selling_Price      6.0      35.0  \n",
       "Present_Price      9.9      92.6  \n",
       "Kms_Driven     48767.0  500000.0  \n",
       "Owner              0.0       3.0  "
      ]
     },
     "execution_count": 6,
     "metadata": {},
     "output_type": "execute_result"
    }
   ],
   "source": [
    "df.describe().T"
   ]
  },
  {
   "cell_type": "code",
   "execution_count": 7,
   "metadata": {},
   "outputs": [
    {
     "data": {
      "text/plain": [
       "Selling_Price    1.000000\n",
       "Present_Price    0.878983\n",
       "Year             0.236141\n",
       "Kms_Driven       0.029187\n",
       "Owner           -0.088344\n",
       "Name: Selling_Price, dtype: float64"
      ]
     },
     "execution_count": 7,
     "metadata": {},
     "output_type": "execute_result"
    }
   ],
   "source": [
    "df.corr()['Selling_Price'].sort_values(ascending=False)"
   ]
  },
  {
   "cell_type": "code",
   "execution_count": 8,
   "metadata": {},
   "outputs": [
    {
     "data": {
      "text/plain": [
       "<seaborn.axisgrid.PairGrid at 0x24f7f2c2850>"
      ]
     },
     "execution_count": 8,
     "metadata": {},
     "output_type": "execute_result"
    },
    {
     "data": {
      "image/png": "[encoded data removed]",
      "text/plain": [
       "<Figure size 900x900 with 30 Axes>"
      ]
     },
     "metadata": {
      "needs_background": "light"
     },
     "output_type": "display_data"
    }
   ],
   "source": [
    "sns.pairplot(df)"
   ]
  },
  {
   "cell_type": "code",
   "execution_count": 9,
   "metadata": {},
   "outputs": [
    {
     "data": {
      "text/plain": [
       "<AxesSubplot:>"
      ]
     },
     "execution_count": 9,
     "metadata": {},
     "output_type": "execute_result"
    },
    {
     "data": {
      "image/png": "[encoded data removed]",
      "text/plain": [
       "<Figure size 720x432 with 2 Axes>"
      ]
     },
     "metadata": {
      "needs_background": "light"
     },
     "output_type": "display_data"
    }
   ],
   "source": [
    "sns.heatmap(df.corr(), annot=True)"
   ]
  },
  {
   "cell_type": "markdown",
   "metadata": {
    "id": "12PKntblbV9C"
   },
   "source": [
    "# Feature Engineering"
   ]
  },
  {
   "cell_type": "markdown",
   "metadata": {
    "id": "P49wP0afbV9E"
   },
   "source": [
    "<ul>Fuel_Type feature:\n",
    "    <li>Fuel is Petrol if Fuel_type_diesel = 0 ,Fuel_Type_Petrol = 1</li>\n",
    "    <li>Fuel is Diesel if Fuel_type_diesel = 1 ,Fuel_Type_Petrol = 0</li>\n",
    "    <li>Fuel is cng if Fuel_type_diesel = 0 ,Fuel_Type_Petrol = 0</li>\n",
    "   </ul>\n",
    "<ul>Transmission feature:\n",
    "    <li>transmission is manual if Transmission_Manual = 1</li> \n",
    "    <li>transmission is automatic if Transmission_Manual = 0</li></ul>\n",
    "<ul>Seller_Type feature:\n",
    "    <li>Seller_Type is Individual if Seller_Type_Individual = 1 </li> \n",
    "    <li>Seller_Type is dealer if Seller_Type_Individual = 0</li> </ul>\n",
    "    \n"
   ]
  },
  {
   "cell_type": "code",
   "execution_count": 10,
   "metadata": {},
   "outputs": [
    {
     "data": {
      "text/plain": [
       "array(['Petrol', 'Diesel', 'CNG'], dtype=object)"
      ]
     },
     "execution_count": 10,
     "metadata": {},
     "output_type": "execute_result"
    }
   ],
   "source": [
    "df['Fuel_Type'].unique()"
   ]
  },
  {
   "cell_type": "code",
   "execution_count": 11,
   "metadata": {},
   "outputs": [
    {
     "data": {
      "text/plain": [
       "array(['Dealer', 'Individual'], dtype=object)"
      ]
     },
     "execution_count": 11,
     "metadata": {},
     "output_type": "execute_result"
    }
   ],
   "source": [
    "df['Seller_Type'].unique()"
   ]
  },
  {
   "cell_type": "code",
   "execution_count": 12,
   "metadata": {},
   "outputs": [
    {
     "data": {
      "text/plain": [
       "array(['Manual', 'Automatic'], dtype=object)"
      ]
     },
     "execution_count": 12,
     "metadata": {},
     "output_type": "execute_result"
    }
   ],
   "source": [
    "df['Transmission'].unique()"
   ]
  },
  {
   "cell_type": "code",
   "execution_count": 13,
   "metadata": {},
   "outputs": [],
   "source": [
    "df.drop(['Car_Name'],axis=1,inplace=True)"
   ]
  },
  {
   "cell_type": "code",
   "execution_count": 14,
   "metadata": {},
   "outputs": [],
   "source": [
    "df['Year']=2022-df['Year']"
   ]
  },
  {
   "cell_type": "code",
   "execution_count": 15,
   "metadata": {},
   "outputs": [
    {
     "data": {
      "text/html": [
       "<div>\n",
       "<style scoped>\n",
       "    .dataframe tbody tr th:only-of-type {\n",
       "        vertical-align: middle;\n",
       "    }\n",
       "\n",
       "    .dataframe tbody tr th {\n",
       "        vertical-align: top;\n",
       "    }\n",
       "\n",
       "    .dataframe thead th {\n",
       "        text-align: right;\n",
       "    }\n",
       "</style>\n",
       "<table border=\"1\" class=\"dataframe\">\n",
       "  <thead>\n",
       "    <tr style=\"text-align: right;\">\n",
       "      <th></th>\n",
       "      <th>Year</th>\n",
       "      <th>Selling_Price</th>\n",
       "      <th>Present_Price</th>\n",
       "      <th>Kms_Driven</th>\n",
       "      <th>Owner</th>\n",
       "      <th>Fuel_Type_Diesel</th>\n",
       "      <th>Fuel_Type_Petrol</th>\n",
       "      <th>Seller_Type_Individual</th>\n",
       "      <th>Transmission_Manual</th>\n",
       "    </tr>\n",
       "  </thead>\n",
       "  <tbody>\n",
       "    <tr>\n",
       "      <th>0</th>\n",
       "      <td>8</td>\n",
       "      <td>3.35</td>\n",
       "      <td>5.59</td>\n",
       "      <td>27000</td>\n",
       "      <td>0</td>\n",
       "      <td>0</td>\n",
       "      <td>1</td>\n",
       "      <td>0</td>\n",
       "      <td>1</td>\n",
       "    </tr>\n",
       "    <tr>\n",
       "      <th>1</th>\n",
       "      <td>9</td>\n",
       "      <td>4.75</td>\n",
       "      <td>9.54</td>\n",
       "      <td>43000</td>\n",
       "      <td>0</td>\n",
       "      <td>1</td>\n",
       "      <td>0</td>\n",
       "      <td>0</td>\n",
       "      <td>1</td>\n",
       "    </tr>\n",
       "    <tr>\n",
       "      <th>2</th>\n",
       "      <td>5</td>\n",
       "      <td>7.25</td>\n",
       "      <td>9.85</td>\n",
       "      <td>6900</td>\n",
       "      <td>0</td>\n",
       "      <td>0</td>\n",
       "      <td>1</td>\n",
       "      <td>0</td>\n",
       "      <td>1</td>\n",
       "    </tr>\n",
       "    <tr>\n",
       "      <th>3</th>\n",
       "      <td>11</td>\n",
       "      <td>2.85</td>\n",
       "      <td>4.15</td>\n",
       "      <td>5200</td>\n",
       "      <td>0</td>\n",
       "      <td>0</td>\n",
       "      <td>1</td>\n",
       "      <td>0</td>\n",
       "      <td>1</td>\n",
       "    </tr>\n",
       "    <tr>\n",
       "      <th>4</th>\n",
       "      <td>8</td>\n",
       "      <td>4.60</td>\n",
       "      <td>6.87</td>\n",
       "      <td>42450</td>\n",
       "      <td>0</td>\n",
       "      <td>1</td>\n",
       "      <td>0</td>\n",
       "      <td>0</td>\n",
       "      <td>1</td>\n",
       "    </tr>\n",
       "    <tr>\n",
       "      <th>...</th>\n",
       "      <td>...</td>\n",
       "      <td>...</td>\n",
       "      <td>...</td>\n",
       "      <td>...</td>\n",
       "      <td>...</td>\n",
       "      <td>...</td>\n",
       "      <td>...</td>\n",
       "      <td>...</td>\n",
       "      <td>...</td>\n",
       "    </tr>\n",
       "    <tr>\n",
       "      <th>296</th>\n",
       "      <td>6</td>\n",
       "      <td>9.50</td>\n",
       "      <td>11.60</td>\n",
       "      <td>33988</td>\n",
       "      <td>0</td>\n",
       "      <td>1</td>\n",
       "      <td>0</td>\n",
       "      <td>0</td>\n",
       "      <td>1</td>\n",
       "    </tr>\n",
       "    <tr>\n",
       "      <th>297</th>\n",
       "      <td>7</td>\n",
       "      <td>4.00</td>\n",
       "      <td>5.90</td>\n",
       "      <td>60000</td>\n",
       "      <td>0</td>\n",
       "      <td>0</td>\n",
       "      <td>1</td>\n",
       "      <td>0</td>\n",
       "      <td>1</td>\n",
       "    </tr>\n",
       "    <tr>\n",
       "      <th>298</th>\n",
       "      <td>13</td>\n",
       "      <td>3.35</td>\n",
       "      <td>11.00</td>\n",
       "      <td>87934</td>\n",
       "      <td>0</td>\n",
       "      <td>0</td>\n",
       "      <td>1</td>\n",
       "      <td>0</td>\n",
       "      <td>1</td>\n",
       "    </tr>\n",
       "    <tr>\n",
       "      <th>299</th>\n",
       "      <td>5</td>\n",
       "      <td>11.50</td>\n",
       "      <td>12.50</td>\n",
       "      <td>9000</td>\n",
       "      <td>0</td>\n",
       "      <td>1</td>\n",
       "      <td>0</td>\n",
       "      <td>0</td>\n",
       "      <td>1</td>\n",
       "    </tr>\n",
       "    <tr>\n",
       "      <th>300</th>\n",
       "      <td>6</td>\n",
       "      <td>5.30</td>\n",
       "      <td>5.90</td>\n",
       "      <td>5464</td>\n",
       "      <td>0</td>\n",
       "      <td>0</td>\n",
       "      <td>1</td>\n",
       "      <td>0</td>\n",
       "      <td>1</td>\n",
       "    </tr>\n",
       "  </tbody>\n",
       "</table>\n",
       "<p>301 rows × 9 columns</p>\n",
       "</div>"
      ],
      "text/plain": [
       "     Year  Selling_Price  Present_Price  Kms_Driven  Owner  Fuel_Type_Diesel  \\\n",
       "0       8           3.35           5.59       27000      0                 0   \n",
       "1       9           4.75           9.54       43000      0                 1   \n",
       "2       5           7.25           9.85        6900      0                 0   \n",
       "3      11           2.85           4.15        5200      0                 0   \n",
       "4       8           4.60           6.87       42450      0                 1   \n",
       "..    ...            ...            ...         ...    ...               ...   \n",
       "296     6           9.50          11.60       33988      0                 1   \n",
       "297     7           4.00           5.90       60000      0                 0   \n",
       "298    13           3.35          11.00       87934      0                 0   \n",
       "299     5          11.50          12.50        9000      0                 1   \n",
       "300     6           5.30           5.90        5464      0                 0   \n",
       "\n",
       "     Fuel_Type_Petrol  Seller_Type_Individual  Transmission_Manual  \n",
       "0                   1                       0                    1  \n",
       "1                   0                       0                    1  \n",
       "2                   1                       0                    1  \n",
       "3                   1                       0                    1  \n",
       "4                   0                       0                    1  \n",
       "..                ...                     ...                  ...  \n",
       "296                 0                       0                    1  \n",
       "297                 1                       0                    1  \n",
       "298                 1                       0                    1  \n",
       "299                 0                       0                    1  \n",
       "300                 1                       0                    1  \n",
       "\n",
       "[301 rows x 9 columns]"
      ]
     },
     "execution_count": 15,
     "metadata": {},
     "output_type": "execute_result"
    }
   ],
   "source": [
    "df_dummies=pd.get_dummies(df,drop_first=True)\n",
    "df_dummies"
   ]
  },
  {
   "cell_type": "markdown",
   "metadata": {
    "id": "Pe9yr6oCbV9I"
   },
   "source": [
    "### Features and target variable"
   ]
  },
  {
   "cell_type": "markdown",
   "metadata": {
    "id": "IxhZbAYsbV9L"
   },
   "source": [
    "### Splitting data into training and testing"
   ]
  },
  {
   "cell_type": "code",
   "execution_count": 16,
   "metadata": {
    "id": "aS1EZ-6bbV9N"
   },
   "outputs": [],
   "source": [
    "X=df_dummies.drop(['Selling_Price'],axis=1)"
   ]
  },
  {
   "cell_type": "code",
   "execution_count": 17,
   "metadata": {},
   "outputs": [],
   "source": [
    "y=df[['Selling_Price']]"
   ]
  },
  {
   "cell_type": "code",
   "execution_count": 18,
   "metadata": {},
   "outputs": [
    {
     "data": {
      "text/plain": [
       "(301, 1)"
      ]
     },
     "execution_count": 18,
     "metadata": {},
     "output_type": "execute_result"
    }
   ],
   "source": [
    "y.shape"
   ]
  },
  {
   "cell_type": "code",
   "execution_count": 19,
   "metadata": {},
   "outputs": [
    {
     "data": {
      "text/plain": [
       "(301, 8)"
      ]
     },
     "execution_count": 19,
     "metadata": {},
     "output_type": "execute_result"
    }
   ],
   "source": [
    "X.shape\n"
   ]
  },
  {
   "cell_type": "code",
   "execution_count": 20,
   "metadata": {},
   "outputs": [],
   "source": [
    "from sklearn.model_selection import train_test_split"
   ]
  },
  {
   "cell_type": "code",
   "execution_count": 21,
   "metadata": {},
   "outputs": [],
   "source": [
    "X_train, X_test, y_train, y_test = train_test_split(X, y, test_size=0.2, random_state=123)"
   ]
  },
  {
   "cell_type": "code",
   "execution_count": 22,
   "metadata": {
    "id": "VEOdF27LbV9P"
   },
   "outputs": [],
   "source": [
    "from sklearn.linear_model import LinearRegression\n",
    "lm = LinearRegression()"
   ]
  },
  {
   "cell_type": "code",
   "execution_count": 23,
   "metadata": {},
   "outputs": [
    {
     "data": {
      "text/plain": [
       "LinearRegression()"
      ]
     },
     "execution_count": 23,
     "metadata": {},
     "output_type": "execute_result"
    }
   ],
   "source": [
    "lm.fit(X_train, y_train)"
   ]
  },
  {
   "cell_type": "code",
   "execution_count": 24,
   "metadata": {},
   "outputs": [
    {
     "data": {
      "text/plain": [
       "LinearRegression()"
      ]
     },
     "execution_count": 24,
     "metadata": {},
     "output_type": "execute_result"
    }
   ],
   "source": [
    "lm.fit(X_train, y_train)"
   ]
  },
  {
   "cell_type": "code",
   "execution_count": 25,
   "metadata": {},
   "outputs": [],
   "source": [
    "y_pred = lm.predict(X_test)"
   ]
  },
  {
   "cell_type": "markdown",
   "metadata": {
    "id": "Xf8mmQdSbV9R"
   },
   "source": [
    "# Model Evaluation"
   ]
  },
  {
   "cell_type": "code",
   "execution_count": 26,
   "metadata": {},
   "outputs": [],
   "source": [
    "from sklearn.metrics import mean_absolute_error, mean_squared_error, r2_score"
   ]
  },
  {
   "cell_type": "code",
   "execution_count": 27,
   "metadata": {
    "id": "cZTXxOlxbV9T"
   },
   "outputs": [],
   "source": [
    "def eval_metric(actual, pred):\n",
    "    mae = mean_absolute_error(actual, pred)\n",
    "    mse = mean_squared_error(actual, pred)\n",
    "    rmse = np.sqrt(mean_squared_error(actual, pred))\n",
    "    R2_score = r2_score(actual, pred)\n",
    "    print(\"Model testing performance:\")\n",
    "    print(\"--------------------------\")\n",
    "    print(f\"R2_score \\t: {R2_score}\")\n",
    "    print(f\"MAE \\t\\t: {mae}\")\n",
    "    print(f\"MSE \\t\\t: {mse}\")\n",
    "    print(f\"RMSE \\t\\t: {rmse}\")"
   ]
  },
  {
   "cell_type": "code",
   "execution_count": 28,
   "metadata": {},
   "outputs": [
    {
     "name": "stdout",
     "output_type": "stream",
     "text": [
      "Model testing performance:\n",
      "--------------------------\n",
      "R2_score \t: 0.8172782474447546\n",
      "MAE \t\t: 1.2878826382841537\n",
      "MSE \t\t: 3.3804678399573924\n",
      "RMSE \t\t: 1.8386048623772844\n"
     ]
    }
   ],
   "source": [
    "eval_metric(y_test, y_pred) # 0.81 oranında açıklıyor "
   ]
  },
  {
   "cell_type": "code",
   "execution_count": 29,
   "metadata": {},
   "outputs": [],
   "source": [
    "y_pred = lm.predict(X_train)"
   ]
  },
  {
   "cell_type": "code",
   "execution_count": 30,
   "metadata": {
    "scrolled": true
   },
   "outputs": [
    {
     "name": "stdout",
     "output_type": "stream",
     "text": [
      "Model testing performance:\n",
      "--------------------------\n",
      "R2_score \t: 0.8928958124202901\n",
      "MAE \t\t: 1.1403638852033775\n",
      "MSE \t\t: 2.9536023211642255\n",
      "RMSE \t\t: 1.7186047600202397\n"
     ]
    }
   ],
   "source": [
    "eval_metric(y_train, y_pred)   "
   ]
  },
  {
   "cell_type": "markdown",
   "metadata": {},
   "source": [
    "#### Overfitting var"
   ]
  },
  {
   "cell_type": "markdown",
   "metadata": {
    "id": "ngfv0b5vbnO6"
   },
   "source": [
    "# Regularization"
   ]
  },
  {
   "cell_type": "markdown",
   "metadata": {},
   "source": [
    "## Scaling"
   ]
  },
  {
   "cell_type": "code",
   "execution_count": 31,
   "metadata": {},
   "outputs": [],
   "source": [
    "from sklearn.preprocessing import StandardScaler, MinMaxScaler, RobustScaler\n",
    "scaler = MinMaxScaler()"
   ]
  },
  {
   "cell_type": "code",
   "execution_count": 32,
   "metadata": {},
   "outputs": [
    {
     "data": {
      "text/plain": [
       "MinMaxScaler()"
      ]
     },
     "execution_count": 32,
     "metadata": {},
     "output_type": "execute_result"
    }
   ],
   "source": [
    "scaler.fit(X_train)"
   ]
  },
  {
   "cell_type": "code",
   "execution_count": 33,
   "metadata": {},
   "outputs": [],
   "source": [
    "X_train_scaled = scaler.transform(X_train)"
   ]
  },
  {
   "cell_type": "code",
   "execution_count": 34,
   "metadata": {},
   "outputs": [],
   "source": [
    "X_test_scaled = scaler.transform(X_test)"
   ]
  },
  {
   "cell_type": "code",
   "execution_count": 35,
   "metadata": {},
   "outputs": [],
   "source": [
    "model=LinearRegression()"
   ]
  },
  {
   "cell_type": "code",
   "execution_count": 36,
   "metadata": {},
   "outputs": [
    {
     "data": {
      "text/plain": [
       "LinearRegression()"
      ]
     },
     "execution_count": 36,
     "metadata": {},
     "output_type": "execute_result"
    }
   ],
   "source": [
    "model.fit(X_train_scaled, y_train)"
   ]
  },
  {
   "cell_type": "code",
   "execution_count": 37,
   "metadata": {},
   "outputs": [],
   "source": [
    "y_pred = model.predict(X_test_scaled)\n",
    "y_train_pred = model.predict(X_train_scaled)"
   ]
  },
  {
   "cell_type": "code",
   "execution_count": 38,
   "metadata": {},
   "outputs": [],
   "source": [
    "def train_val(y_train, y_train_pred, y_test, y_pred, i):\n",
    "    \n",
    "    scores = {i+\"_train\": {\"R2\" : r2_score(y_train, y_train_pred),\n",
    "    \"mae\" : mean_absolute_error(y_train, y_train_pred),\n",
    "    \"mse\" : mean_squared_error(y_train, y_train_pred),                          \n",
    "    \"rmse\" : np.sqrt(mean_squared_error(y_train, y_train_pred))},\n",
    "    \n",
    "    i+\"_test\": {\"R2\" : r2_score(y_test, y_pred),\n",
    "    \"mae\" : mean_absolute_error(y_test, y_pred),\n",
    "    \"mse\" : mean_squared_error(y_test, y_pred),\n",
    "    \"rmse\" : np.sqrt(mean_squared_error(y_test, y_pred))}}\n",
    "    \n",
    "    return pd.DataFrame(scores)"
   ]
  },
  {
   "cell_type": "code",
   "execution_count": 39,
   "metadata": {},
   "outputs": [
    {
     "data": {
      "text/html": [
       "<div>\n",
       "<style scoped>\n",
       "    .dataframe tbody tr th:only-of-type {\n",
       "        vertical-align: middle;\n",
       "    }\n",
       "\n",
       "    .dataframe tbody tr th {\n",
       "        vertical-align: top;\n",
       "    }\n",
       "\n",
       "    .dataframe thead th {\n",
       "        text-align: right;\n",
       "    }\n",
       "</style>\n",
       "<table border=\"1\" class=\"dataframe\">\n",
       "  <thead>\n",
       "    <tr style=\"text-align: right;\">\n",
       "      <th></th>\n",
       "      <th>linear_train</th>\n",
       "      <th>linear_test</th>\n",
       "    </tr>\n",
       "  </thead>\n",
       "  <tbody>\n",
       "    <tr>\n",
       "      <th>R2</th>\n",
       "      <td>0.892896</td>\n",
       "      <td>0.817278</td>\n",
       "    </tr>\n",
       "    <tr>\n",
       "      <th>mae</th>\n",
       "      <td>1.140364</td>\n",
       "      <td>1.287883</td>\n",
       "    </tr>\n",
       "    <tr>\n",
       "      <th>mse</th>\n",
       "      <td>2.953602</td>\n",
       "      <td>3.380468</td>\n",
       "    </tr>\n",
       "    <tr>\n",
       "      <th>rmse</th>\n",
       "      <td>1.718605</td>\n",
       "      <td>1.838605</td>\n",
       "    </tr>\n",
       "  </tbody>\n",
       "</table>\n",
       "</div>"
      ],
      "text/plain": [
       "      linear_train  linear_test\n",
       "R2        0.892896     0.817278\n",
       "mae       1.140364     1.287883\n",
       "mse       2.953602     3.380468\n",
       "rmse      1.718605     1.838605"
      ]
     },
     "execution_count": 39,
     "metadata": {},
     "output_type": "execute_result"
    }
   ],
   "source": [
    "ls =train_val(y_train, y_train_pred, y_test, y_pred, \"linear\")\n",
    "ls"
   ]
  },
  {
   "cell_type": "markdown",
   "metadata": {},
   "source": [
    "### Cross Validation"
   ]
  },
  {
   "cell_type": "code",
   "execution_count": 40,
   "metadata": {},
   "outputs": [],
   "source": [
    "from sklearn.model_selection import cross_validate, cross_val_score"
   ]
  },
  {
   "cell_type": "code",
   "execution_count": 41,
   "metadata": {},
   "outputs": [],
   "source": [
    "model_cv = LinearRegression()\n",
    "scores = cross_validate(model_cv, X_train_scaled, y_train, scoring = ['r2', 'neg_mean_absolute_error','neg_mean_squared_error', \\\n",
    "                                                            'neg_root_mean_squared_error'], cv = 5)"
   ]
  },
  {
   "cell_type": "code",
   "execution_count": 42,
   "metadata": {},
   "outputs": [
    {
     "data": {
      "text/html": [
       "<div>\n",
       "<style scoped>\n",
       "    .dataframe tbody tr th:only-of-type {\n",
       "        vertical-align: middle;\n",
       "    }\n",
       "\n",
       "    .dataframe tbody tr th {\n",
       "        vertical-align: top;\n",
       "    }\n",
       "\n",
       "    .dataframe thead th {\n",
       "        text-align: right;\n",
       "    }\n",
       "</style>\n",
       "<table border=\"1\" class=\"dataframe\">\n",
       "  <thead>\n",
       "    <tr style=\"text-align: right;\">\n",
       "      <th></th>\n",
       "      <th>fit_time</th>\n",
       "      <th>score_time</th>\n",
       "      <th>test_r2</th>\n",
       "      <th>test_neg_mean_absolute_error</th>\n",
       "      <th>test_neg_mean_squared_error</th>\n",
       "      <th>test_neg_root_mean_squared_error</th>\n",
       "    </tr>\n",
       "  </thead>\n",
       "  <tbody>\n",
       "    <tr>\n",
       "      <th>1</th>\n",
       "      <td>0.002001</td>\n",
       "      <td>0.003999</td>\n",
       "      <td>0.433288</td>\n",
       "      <td>-1.516722</td>\n",
       "      <td>-8.487326</td>\n",
       "      <td>-2.913302</td>\n",
       "    </tr>\n",
       "    <tr>\n",
       "      <th>2</th>\n",
       "      <td>0.002001</td>\n",
       "      <td>0.003999</td>\n",
       "      <td>0.795524</td>\n",
       "      <td>-1.391818</td>\n",
       "      <td>-4.973951</td>\n",
       "      <td>-2.230236</td>\n",
       "    </tr>\n",
       "    <tr>\n",
       "      <th>3</th>\n",
       "      <td>0.001999</td>\n",
       "      <td>0.003000</td>\n",
       "      <td>0.935306</td>\n",
       "      <td>-1.044482</td>\n",
       "      <td>-1.911249</td>\n",
       "      <td>-1.382479</td>\n",
       "    </tr>\n",
       "    <tr>\n",
       "      <th>4</th>\n",
       "      <td>0.001999</td>\n",
       "      <td>0.003000</td>\n",
       "      <td>0.849487</td>\n",
       "      <td>-1.268014</td>\n",
       "      <td>-5.420901</td>\n",
       "      <td>-2.328283</td>\n",
       "    </tr>\n",
       "    <tr>\n",
       "      <th>5</th>\n",
       "      <td>0.002000</td>\n",
       "      <td>0.002000</td>\n",
       "      <td>0.841452</td>\n",
       "      <td>-1.202200</td>\n",
       "      <td>-5.038450</td>\n",
       "      <td>-2.244649</td>\n",
       "    </tr>\n",
       "  </tbody>\n",
       "</table>\n",
       "</div>"
      ],
      "text/plain": [
       "   fit_time  score_time   test_r2  test_neg_mean_absolute_error  \\\n",
       "1  0.002001    0.003999  0.433288                     -1.516722   \n",
       "2  0.002001    0.003999  0.795524                     -1.391818   \n",
       "3  0.001999    0.003000  0.935306                     -1.044482   \n",
       "4  0.001999    0.003000  0.849487                     -1.268014   \n",
       "5  0.002000    0.002000  0.841452                     -1.202200   \n",
       "\n",
       "   test_neg_mean_squared_error  test_neg_root_mean_squared_error  \n",
       "1                    -8.487326                         -2.913302  \n",
       "2                    -4.973951                         -2.230236  \n",
       "3                    -1.911249                         -1.382479  \n",
       "4                    -5.420901                         -2.328283  \n",
       "5                    -5.038450                         -2.244649  "
      ]
     },
     "execution_count": 42,
     "metadata": {},
     "output_type": "execute_result"
    }
   ],
   "source": [
    "pd.DataFrame(scores, index = range(1,6))"
   ]
  },
  {
   "cell_type": "code",
   "execution_count": 43,
   "metadata": {},
   "outputs": [
    {
     "data": {
      "text/plain": [
       "test_r2                             0.771011\n",
       "test_neg_mean_absolute_error       -1.284647\n",
       "test_neg_mean_squared_error        -5.166376\n",
       "test_neg_root_mean_squared_error   -2.219790\n",
       "dtype: float64"
      ]
     },
     "execution_count": 43,
     "metadata": {},
     "output_type": "execute_result"
    }
   ],
   "source": [
    "scores = pd.DataFrame(scores, index=range(1,6))\n",
    "scores.iloc[:, 2:].mean()"
   ]
  },
  {
   "cell_type": "code",
   "execution_count": 44,
   "metadata": {},
   "outputs": [
    {
     "data": {
      "text/html": [
       "<div>\n",
       "<style scoped>\n",
       "    .dataframe tbody tr th:only-of-type {\n",
       "        vertical-align: middle;\n",
       "    }\n",
       "\n",
       "    .dataframe tbody tr th {\n",
       "        vertical-align: top;\n",
       "    }\n",
       "\n",
       "    .dataframe thead th {\n",
       "        text-align: right;\n",
       "    }\n",
       "</style>\n",
       "<table border=\"1\" class=\"dataframe\">\n",
       "  <thead>\n",
       "    <tr style=\"text-align: right;\">\n",
       "      <th></th>\n",
       "      <th>linear_train</th>\n",
       "      <th>linear_test</th>\n",
       "    </tr>\n",
       "  </thead>\n",
       "  <tbody>\n",
       "    <tr>\n",
       "      <th>R2</th>\n",
       "      <td>0.892896</td>\n",
       "      <td>0.817278</td>\n",
       "    </tr>\n",
       "    <tr>\n",
       "      <th>mae</th>\n",
       "      <td>1.140364</td>\n",
       "      <td>1.287883</td>\n",
       "    </tr>\n",
       "    <tr>\n",
       "      <th>mse</th>\n",
       "      <td>2.953602</td>\n",
       "      <td>3.380468</td>\n",
       "    </tr>\n",
       "    <tr>\n",
       "      <th>rmse</th>\n",
       "      <td>1.718605</td>\n",
       "      <td>1.838605</td>\n",
       "    </tr>\n",
       "  </tbody>\n",
       "</table>\n",
       "</div>"
      ],
      "text/plain": [
       "      linear_train  linear_test\n",
       "R2        0.892896     0.817278\n",
       "mae       1.140364     1.287883\n",
       "mse       2.953602     3.380468\n",
       "rmse      1.718605     1.838605"
      ]
     },
     "execution_count": 44,
     "metadata": {},
     "output_type": "execute_result"
    }
   ],
   "source": [
    "train_val(y_train, y_train_pred, y_test, y_pred, \"linear\")"
   ]
  },
  {
   "cell_type": "markdown",
   "metadata": {
    "id": "PbnRHneJbV9T"
   },
   "source": [
    "# Ridge"
   ]
  },
  {
   "cell_type": "code",
   "execution_count": 45,
   "metadata": {
    "id": "sLbDL68AbV9V"
   },
   "outputs": [],
   "source": [
    "from sklearn.linear_model import Ridge,RidgeCV"
   ]
  },
  {
   "cell_type": "code",
   "execution_count": 46,
   "metadata": {},
   "outputs": [],
   "source": [
    "ridge_model = Ridge(alpha=1, random_state=42)"
   ]
  },
  {
   "cell_type": "code",
   "execution_count": 47,
   "metadata": {},
   "outputs": [
    {
     "data": {
      "text/plain": [
       "Ridge(alpha=1, random_state=42)"
      ]
     },
     "execution_count": 47,
     "metadata": {},
     "output_type": "execute_result"
    }
   ],
   "source": [
    "ridge_model.fit(X_train_scaled, y_train)"
   ]
  },
  {
   "cell_type": "code",
   "execution_count": 48,
   "metadata": {},
   "outputs": [],
   "source": [
    "y_pred = ridge_model.predict(X_test_scaled)\n",
    "y_train_pred = ridge_model.predict(X_train_scaled)"
   ]
  },
  {
   "cell_type": "code",
   "execution_count": 49,
   "metadata": {
    "scrolled": true
   },
   "outputs": [
    {
     "data": {
      "text/html": [
       "<div>\n",
       "<style scoped>\n",
       "    .dataframe tbody tr th:only-of-type {\n",
       "        vertical-align: middle;\n",
       "    }\n",
       "\n",
       "    .dataframe tbody tr th {\n",
       "        vertical-align: top;\n",
       "    }\n",
       "\n",
       "    .dataframe thead th {\n",
       "        text-align: right;\n",
       "    }\n",
       "</style>\n",
       "<table border=\"1\" class=\"dataframe\">\n",
       "  <thead>\n",
       "    <tr style=\"text-align: right;\">\n",
       "      <th></th>\n",
       "      <th>ridge_train</th>\n",
       "      <th>ridge_test</th>\n",
       "    </tr>\n",
       "  </thead>\n",
       "  <tbody>\n",
       "    <tr>\n",
       "      <th>R2</th>\n",
       "      <td>0.833805</td>\n",
       "      <td>0.775099</td>\n",
       "    </tr>\n",
       "    <tr>\n",
       "      <th>mae</th>\n",
       "      <td>1.376066</td>\n",
       "      <td>1.480386</td>\n",
       "    </tr>\n",
       "    <tr>\n",
       "      <th>mse</th>\n",
       "      <td>4.583138</td>\n",
       "      <td>4.160803</td>\n",
       "    </tr>\n",
       "    <tr>\n",
       "      <th>rmse</th>\n",
       "      <td>2.140826</td>\n",
       "      <td>2.039805</td>\n",
       "    </tr>\n",
       "  </tbody>\n",
       "</table>\n",
       "</div>"
      ],
      "text/plain": [
       "      ridge_train  ridge_test\n",
       "R2       0.833805    0.775099\n",
       "mae      1.376066    1.480386\n",
       "mse      4.583138    4.160803\n",
       "rmse     2.140826    2.039805"
      ]
     },
     "execution_count": 49,
     "metadata": {},
     "output_type": "execute_result"
    }
   ],
   "source": [
    "rs = train_val(y_train, y_train_pred, y_test, y_pred, \"ridge\")\n",
    "rs"
   ]
  },
  {
   "cell_type": "code",
   "execution_count": 50,
   "metadata": {},
   "outputs": [
    {
     "data": {
      "text/html": [
       "<div>\n",
       "<style scoped>\n",
       "    .dataframe tbody tr th:only-of-type {\n",
       "        vertical-align: middle;\n",
       "    }\n",
       "\n",
       "    .dataframe tbody tr th {\n",
       "        vertical-align: top;\n",
       "    }\n",
       "\n",
       "    .dataframe thead th {\n",
       "        text-align: right;\n",
       "    }\n",
       "</style>\n",
       "<table border=\"1\" class=\"dataframe\">\n",
       "  <thead>\n",
       "    <tr style=\"text-align: right;\">\n",
       "      <th></th>\n",
       "      <th>linear_train</th>\n",
       "      <th>linear_test</th>\n",
       "      <th>ridge_train</th>\n",
       "      <th>ridge_test</th>\n",
       "    </tr>\n",
       "  </thead>\n",
       "  <tbody>\n",
       "    <tr>\n",
       "      <th>R2</th>\n",
       "      <td>0.892896</td>\n",
       "      <td>0.817278</td>\n",
       "      <td>0.833805</td>\n",
       "      <td>0.775099</td>\n",
       "    </tr>\n",
       "    <tr>\n",
       "      <th>mae</th>\n",
       "      <td>1.140364</td>\n",
       "      <td>1.287883</td>\n",
       "      <td>1.376066</td>\n",
       "      <td>1.480386</td>\n",
       "    </tr>\n",
       "    <tr>\n",
       "      <th>mse</th>\n",
       "      <td>2.953602</td>\n",
       "      <td>3.380468</td>\n",
       "      <td>4.583138</td>\n",
       "      <td>4.160803</td>\n",
       "    </tr>\n",
       "    <tr>\n",
       "      <th>rmse</th>\n",
       "      <td>1.718605</td>\n",
       "      <td>1.838605</td>\n",
       "      <td>2.140826</td>\n",
       "      <td>2.039805</td>\n",
       "    </tr>\n",
       "  </tbody>\n",
       "</table>\n",
       "</div>"
      ],
      "text/plain": [
       "      linear_train  linear_test  ridge_train  ridge_test\n",
       "R2        0.892896     0.817278     0.833805    0.775099\n",
       "mae       1.140364     1.287883     1.376066    1.480386\n",
       "mse       2.953602     3.380468     4.583138    4.160803\n",
       "rmse      1.718605     1.838605     2.140826    2.039805"
      ]
     },
     "execution_count": 50,
     "metadata": {},
     "output_type": "execute_result"
    }
   ],
   "source": [
    "pd.concat([ls, rs], axis=1)"
   ]
  },
  {
   "cell_type": "code",
   "execution_count": 51,
   "metadata": {},
   "outputs": [],
   "source": [
    "alpha_space = np.linspace(0.01, 1, 100)"
   ]
  },
  {
   "cell_type": "code",
   "execution_count": 52,
   "metadata": {},
   "outputs": [],
   "source": [
    "ridge_cv_model = RidgeCV(alphas=alpha_space, cv = 5, scoring= \"neg_root_mean_squared_error\")"
   ]
  },
  {
   "cell_type": "code",
   "execution_count": 53,
   "metadata": {},
   "outputs": [
    {
     "data": {
      "text/plain": [
       "RidgeCV(alphas=array([0.01, 0.02, 0.03, 0.04, 0.05, 0.06, 0.07, 0.08, 0.09, 0.1 , 0.11,\n",
       "       0.12, 0.13, 0.14, 0.15, 0.16, 0.17, 0.18, 0.19, 0.2 , 0.21, 0.22,\n",
       "       0.23, 0.24, 0.25, 0.26, 0.27, 0.28, 0.29, 0.3 , 0.31, 0.32, 0.33,\n",
       "       0.34, 0.35, 0.36, 0.37, 0.38, 0.39, 0.4 , 0.41, 0.42, 0.43, 0.44,\n",
       "       0.45, 0.46, 0.47, 0.48, 0.49, 0.5 , 0.51, 0.52, 0.53, 0.54, 0.55,\n",
       "       0.56, 0.57, 0.58, 0.59, 0.6 , 0.61, 0.62, 0.63, 0.64, 0.65, 0.66,\n",
       "       0.67, 0.68, 0.69, 0.7 , 0.71, 0.72, 0.73, 0.74, 0.75, 0.76, 0.77,\n",
       "       0.78, 0.79, 0.8 , 0.81, 0.82, 0.83, 0.84, 0.85, 0.86, 0.87, 0.88,\n",
       "       0.89, 0.9 , 0.91, 0.92, 0.93, 0.94, 0.95, 0.96, 0.97, 0.98, 0.99,\n",
       "       1.  ]),\n",
       "        cv=5, scoring='neg_root_mean_squared_error')"
      ]
     },
     "execution_count": 53,
     "metadata": {},
     "output_type": "execute_result"
    }
   ],
   "source": [
    "ridge_cv_model.fit(X_train_scaled, y_train)"
   ]
  },
  {
   "cell_type": "code",
   "execution_count": 54,
   "metadata": {},
   "outputs": [
    {
     "data": {
      "text/plain": [
       "0.19"
      ]
     },
     "execution_count": 54,
     "metadata": {},
     "output_type": "execute_result"
    }
   ],
   "source": [
    "ridge_cv_model.alpha_"
   ]
  },
  {
   "cell_type": "code",
   "execution_count": 55,
   "metadata": {},
   "outputs": [
    {
     "data": {
      "text/plain": [
       "-1.9625431308531076"
      ]
     },
     "execution_count": 55,
     "metadata": {},
     "output_type": "execute_result"
    }
   ],
   "source": [
    "ridge_cv_model.best_score_"
   ]
  },
  {
   "cell_type": "code",
   "execution_count": 56,
   "metadata": {},
   "outputs": [],
   "source": [
    "y_pred = ridge_cv_model.predict(X_test_scaled)\n",
    "y_train_pred = ridge_cv_model.predict(X_train_scaled)"
   ]
  },
  {
   "cell_type": "code",
   "execution_count": 57,
   "metadata": {},
   "outputs": [
    {
     "data": {
      "text/html": [
       "<div>\n",
       "<style scoped>\n",
       "    .dataframe tbody tr th:only-of-type {\n",
       "        vertical-align: middle;\n",
       "    }\n",
       "\n",
       "    .dataframe tbody tr th {\n",
       "        vertical-align: top;\n",
       "    }\n",
       "\n",
       "    .dataframe thead th {\n",
       "        text-align: right;\n",
       "    }\n",
       "</style>\n",
       "<table border=\"1\" class=\"dataframe\">\n",
       "  <thead>\n",
       "    <tr style=\"text-align: right;\">\n",
       "      <th></th>\n",
       "      <th>ridge_cv_train</th>\n",
       "      <th>ridge_cv_test</th>\n",
       "    </tr>\n",
       "  </thead>\n",
       "  <tbody>\n",
       "    <tr>\n",
       "      <th>R2</th>\n",
       "      <td>0.887826</td>\n",
       "      <td>0.811294</td>\n",
       "    </tr>\n",
       "    <tr>\n",
       "      <th>mae</th>\n",
       "      <td>1.173030</td>\n",
       "      <td>1.329779</td>\n",
       "    </tr>\n",
       "    <tr>\n",
       "      <th>mse</th>\n",
       "      <td>3.093423</td>\n",
       "      <td>3.491178</td>\n",
       "    </tr>\n",
       "    <tr>\n",
       "      <th>rmse</th>\n",
       "      <td>1.758813</td>\n",
       "      <td>1.868469</td>\n",
       "    </tr>\n",
       "  </tbody>\n",
       "</table>\n",
       "</div>"
      ],
      "text/plain": [
       "      ridge_cv_train  ridge_cv_test\n",
       "R2          0.887826       0.811294\n",
       "mae         1.173030       1.329779\n",
       "mse         3.093423       3.491178\n",
       "rmse        1.758813       1.868469"
      ]
     },
     "execution_count": 57,
     "metadata": {},
     "output_type": "execute_result"
    }
   ],
   "source": [
    "rcs = train_val(y_train, y_train_pred, y_test, y_pred, \"ridge_cv\")\n",
    "rcs"
   ]
  },
  {
   "cell_type": "code",
   "execution_count": 58,
   "metadata": {},
   "outputs": [
    {
     "data": {
      "text/html": [
       "<div>\n",
       "<style scoped>\n",
       "    .dataframe tbody tr th:only-of-type {\n",
       "        vertical-align: middle;\n",
       "    }\n",
       "\n",
       "    .dataframe tbody tr th {\n",
       "        vertical-align: top;\n",
       "    }\n",
       "\n",
       "    .dataframe thead th {\n",
       "        text-align: right;\n",
       "    }\n",
       "</style>\n",
       "<table border=\"1\" class=\"dataframe\">\n",
       "  <thead>\n",
       "    <tr style=\"text-align: right;\">\n",
       "      <th></th>\n",
       "      <th>linear_train</th>\n",
       "      <th>linear_test</th>\n",
       "      <th>ridge_train</th>\n",
       "      <th>ridge_test</th>\n",
       "      <th>ridge_cv_train</th>\n",
       "      <th>ridge_cv_test</th>\n",
       "    </tr>\n",
       "  </thead>\n",
       "  <tbody>\n",
       "    <tr>\n",
       "      <th>R2</th>\n",
       "      <td>0.892896</td>\n",
       "      <td>0.817278</td>\n",
       "      <td>0.833805</td>\n",
       "      <td>0.775099</td>\n",
       "      <td>0.887826</td>\n",
       "      <td>0.811294</td>\n",
       "    </tr>\n",
       "    <tr>\n",
       "      <th>mae</th>\n",
       "      <td>1.140364</td>\n",
       "      <td>1.287883</td>\n",
       "      <td>1.376066</td>\n",
       "      <td>1.480386</td>\n",
       "      <td>1.173030</td>\n",
       "      <td>1.329779</td>\n",
       "    </tr>\n",
       "    <tr>\n",
       "      <th>mse</th>\n",
       "      <td>2.953602</td>\n",
       "      <td>3.380468</td>\n",
       "      <td>4.583138</td>\n",
       "      <td>4.160803</td>\n",
       "      <td>3.093423</td>\n",
       "      <td>3.491178</td>\n",
       "    </tr>\n",
       "    <tr>\n",
       "      <th>rmse</th>\n",
       "      <td>1.718605</td>\n",
       "      <td>1.838605</td>\n",
       "      <td>2.140826</td>\n",
       "      <td>2.039805</td>\n",
       "      <td>1.758813</td>\n",
       "      <td>1.868469</td>\n",
       "    </tr>\n",
       "  </tbody>\n",
       "</table>\n",
       "</div>"
      ],
      "text/plain": [
       "      linear_train  linear_test  ridge_train  ridge_test  ridge_cv_train  \\\n",
       "R2        0.892896     0.817278     0.833805    0.775099        0.887826   \n",
       "mae       1.140364     1.287883     1.376066    1.480386        1.173030   \n",
       "mse       2.953602     3.380468     4.583138    4.160803        3.093423   \n",
       "rmse      1.718605     1.838605     2.140826    2.039805        1.758813   \n",
       "\n",
       "      ridge_cv_test  \n",
       "R2         0.811294  \n",
       "mae        1.329779  \n",
       "mse        3.491178  \n",
       "rmse       1.868469  "
      ]
     },
     "execution_count": 58,
     "metadata": {},
     "output_type": "execute_result"
    }
   ],
   "source": [
    "pd.concat([ls, rs, rcs], axis = 1)"
   ]
  },
  {
   "cell_type": "code",
   "execution_count": null,
   "metadata": {},
   "outputs": [],
   "source": []
  },
  {
   "cell_type": "markdown",
   "metadata": {
    "id": "B_T57TpNbV9V"
   },
   "source": [
    "# Lasso"
   ]
  },
  {
   "cell_type": "code",
   "execution_count": 59,
   "metadata": {},
   "outputs": [],
   "source": [
    "from sklearn.linear_model import Lasso, LassoCV"
   ]
  },
  {
   "cell_type": "code",
   "execution_count": 60,
   "metadata": {
    "id": "MBAiMxBAbV9W"
   },
   "outputs": [
    {
     "data": {
      "text/plain": [
       "Lasso(alpha=1, random_state=42)"
      ]
     },
     "execution_count": 60,
     "metadata": {},
     "output_type": "execute_result"
    }
   ],
   "source": [
    "lasso_model = Lasso(alpha=1, random_state=42)\n",
    "lasso_model.fit(X_train_scaled, y_train)"
   ]
  },
  {
   "cell_type": "code",
   "execution_count": 61,
   "metadata": {},
   "outputs": [],
   "source": [
    "y_pred = lasso_model.predict(X_test_scaled)\n",
    "y_train_pred = lasso_model.predict(X_train_scaled)"
   ]
  },
  {
   "cell_type": "code",
   "execution_count": 62,
   "metadata": {},
   "outputs": [
    {
     "data": {
      "text/html": [
       "<div>\n",
       "<style scoped>\n",
       "    .dataframe tbody tr th:only-of-type {\n",
       "        vertical-align: middle;\n",
       "    }\n",
       "\n",
       "    .dataframe tbody tr th {\n",
       "        vertical-align: top;\n",
       "    }\n",
       "\n",
       "    .dataframe thead th {\n",
       "        text-align: right;\n",
       "    }\n",
       "</style>\n",
       "<table border=\"1\" class=\"dataframe\">\n",
       "  <thead>\n",
       "    <tr style=\"text-align: right;\">\n",
       "      <th></th>\n",
       "      <th>lasso_train</th>\n",
       "      <th>lasso_test</th>\n",
       "    </tr>\n",
       "  </thead>\n",
       "  <tbody>\n",
       "    <tr>\n",
       "      <th>R2</th>\n",
       "      <td>0.154359</td>\n",
       "      <td>0.176500</td>\n",
       "    </tr>\n",
       "    <tr>\n",
       "      <th>mae</th>\n",
       "      <td>3.118397</td>\n",
       "      <td>2.713117</td>\n",
       "    </tr>\n",
       "    <tr>\n",
       "      <th>mse</th>\n",
       "      <td>23.320175</td>\n",
       "      <td>15.235270</td>\n",
       "    </tr>\n",
       "    <tr>\n",
       "      <th>rmse</th>\n",
       "      <td>4.829097</td>\n",
       "      <td>3.903238</td>\n",
       "    </tr>\n",
       "  </tbody>\n",
       "</table>\n",
       "</div>"
      ],
      "text/plain": [
       "      lasso_train  lasso_test\n",
       "R2       0.154359    0.176500\n",
       "mae      3.118397    2.713117\n",
       "mse     23.320175   15.235270\n",
       "rmse     4.829097    3.903238"
      ]
     },
     "execution_count": 62,
     "metadata": {},
     "output_type": "execute_result"
    }
   ],
   "source": [
    "lss = train_val(y_train, y_train_pred, y_test, y_pred, \"lasso\")\n",
    "lss"
   ]
  },
  {
   "cell_type": "code",
   "execution_count": 63,
   "metadata": {},
   "outputs": [
    {
     "data": {
      "text/html": [
       "<div>\n",
       "<style scoped>\n",
       "    .dataframe tbody tr th:only-of-type {\n",
       "        vertical-align: middle;\n",
       "    }\n",
       "\n",
       "    .dataframe tbody tr th {\n",
       "        vertical-align: top;\n",
       "    }\n",
       "\n",
       "    .dataframe thead th {\n",
       "        text-align: right;\n",
       "    }\n",
       "</style>\n",
       "<table border=\"1\" class=\"dataframe\">\n",
       "  <thead>\n",
       "    <tr style=\"text-align: right;\">\n",
       "      <th></th>\n",
       "      <th>linear_train</th>\n",
       "      <th>linear_test</th>\n",
       "      <th>ridge_train</th>\n",
       "      <th>ridge_test</th>\n",
       "      <th>ridge_cv_train</th>\n",
       "      <th>ridge_cv_test</th>\n",
       "      <th>lasso_train</th>\n",
       "      <th>lasso_test</th>\n",
       "    </tr>\n",
       "  </thead>\n",
       "  <tbody>\n",
       "    <tr>\n",
       "      <th>R2</th>\n",
       "      <td>0.892896</td>\n",
       "      <td>0.817278</td>\n",
       "      <td>0.833805</td>\n",
       "      <td>0.775099</td>\n",
       "      <td>0.887826</td>\n",
       "      <td>0.811294</td>\n",
       "      <td>0.154359</td>\n",
       "      <td>0.176500</td>\n",
       "    </tr>\n",
       "    <tr>\n",
       "      <th>mae</th>\n",
       "      <td>1.140364</td>\n",
       "      <td>1.287883</td>\n",
       "      <td>1.376066</td>\n",
       "      <td>1.480386</td>\n",
       "      <td>1.173030</td>\n",
       "      <td>1.329779</td>\n",
       "      <td>3.118397</td>\n",
       "      <td>2.713117</td>\n",
       "    </tr>\n",
       "    <tr>\n",
       "      <th>mse</th>\n",
       "      <td>2.953602</td>\n",
       "      <td>3.380468</td>\n",
       "      <td>4.583138</td>\n",
       "      <td>4.160803</td>\n",
       "      <td>3.093423</td>\n",
       "      <td>3.491178</td>\n",
       "      <td>23.320175</td>\n",
       "      <td>15.235270</td>\n",
       "    </tr>\n",
       "    <tr>\n",
       "      <th>rmse</th>\n",
       "      <td>1.718605</td>\n",
       "      <td>1.838605</td>\n",
       "      <td>2.140826</td>\n",
       "      <td>2.039805</td>\n",
       "      <td>1.758813</td>\n",
       "      <td>1.868469</td>\n",
       "      <td>4.829097</td>\n",
       "      <td>3.903238</td>\n",
       "    </tr>\n",
       "  </tbody>\n",
       "</table>\n",
       "</div>"
      ],
      "text/plain": [
       "      linear_train  linear_test  ridge_train  ridge_test  ridge_cv_train  \\\n",
       "R2        0.892896     0.817278     0.833805    0.775099        0.887826   \n",
       "mae       1.140364     1.287883     1.376066    1.480386        1.173030   \n",
       "mse       2.953602     3.380468     4.583138    4.160803        3.093423   \n",
       "rmse      1.718605     1.838605     2.140826    2.039805        1.758813   \n",
       "\n",
       "      ridge_cv_test  lasso_train  lasso_test  \n",
       "R2         0.811294     0.154359    0.176500  \n",
       "mae        1.329779     3.118397    2.713117  \n",
       "mse        3.491178    23.320175   15.235270  \n",
       "rmse       1.868469     4.829097    3.903238  "
      ]
     },
     "execution_count": 63,
     "metadata": {},
     "output_type": "execute_result"
    }
   ],
   "source": [
    "pd.concat([ls, rs, rcs, lss], axis = 1)"
   ]
  },
  {
   "cell_type": "code",
   "execution_count": 64,
   "metadata": {},
   "outputs": [],
   "source": [
    "lasso_cv_model = LassoCV(alphas = alpha_space, cv = 5, max_iter=100000, random_state=42)"
   ]
  },
  {
   "cell_type": "code",
   "execution_count": 65,
   "metadata": {},
   "outputs": [
    {
     "data": {
      "text/plain": [
       "LassoCV(alphas=array([0.01, 0.02, 0.03, 0.04, 0.05, 0.06, 0.07, 0.08, 0.09, 0.1 , 0.11,\n",
       "       0.12, 0.13, 0.14, 0.15, 0.16, 0.17, 0.18, 0.19, 0.2 , 0.21, 0.22,\n",
       "       0.23, 0.24, 0.25, 0.26, 0.27, 0.28, 0.29, 0.3 , 0.31, 0.32, 0.33,\n",
       "       0.34, 0.35, 0.36, 0.37, 0.38, 0.39, 0.4 , 0.41, 0.42, 0.43, 0.44,\n",
       "       0.45, 0.46, 0.47, 0.48, 0.49, 0.5 , 0.51, 0.52, 0.53, 0.54, 0.55,\n",
       "       0.56, 0.57, 0.58, 0.59, 0.6 , 0.61, 0.62, 0.63, 0.64, 0.65, 0.66,\n",
       "       0.67, 0.68, 0.69, 0.7 , 0.71, 0.72, 0.73, 0.74, 0.75, 0.76, 0.77,\n",
       "       0.78, 0.79, 0.8 , 0.81, 0.82, 0.83, 0.84, 0.85, 0.86, 0.87, 0.88,\n",
       "       0.89, 0.9 , 0.91, 0.92, 0.93, 0.94, 0.95, 0.96, 0.97, 0.98, 0.99,\n",
       "       1.  ]),\n",
       "        cv=5, max_iter=100000, random_state=42)"
      ]
     },
     "execution_count": 65,
     "metadata": {},
     "output_type": "execute_result"
    }
   ],
   "source": [
    "lasso_cv_model.fit(X_train_scaled, y_train)"
   ]
  },
  {
   "cell_type": "code",
   "execution_count": 66,
   "metadata": {},
   "outputs": [
    {
     "data": {
      "text/plain": [
       "0.03"
      ]
     },
     "execution_count": 66,
     "metadata": {},
     "output_type": "execute_result"
    }
   ],
   "source": [
    "lasso_cv_model.alpha_"
   ]
  },
  {
   "cell_type": "code",
   "execution_count": 67,
   "metadata": {},
   "outputs": [],
   "source": [
    "y_pred = lasso_cv_model.predict(X_test_scaled)   #Lasso(alpha =0.03)\n",
    "y_train_pred = lasso_cv_model.predict(X_train_scaled)"
   ]
  },
  {
   "cell_type": "code",
   "execution_count": 68,
   "metadata": {},
   "outputs": [
    {
     "data": {
      "text/html": [
       "<div>\n",
       "<style scoped>\n",
       "    .dataframe tbody tr th:only-of-type {\n",
       "        vertical-align: middle;\n",
       "    }\n",
       "\n",
       "    .dataframe tbody tr th {\n",
       "        vertical-align: top;\n",
       "    }\n",
       "\n",
       "    .dataframe thead th {\n",
       "        text-align: right;\n",
       "    }\n",
       "</style>\n",
       "<table border=\"1\" class=\"dataframe\">\n",
       "  <thead>\n",
       "    <tr style=\"text-align: right;\">\n",
       "      <th></th>\n",
       "      <th>lasso_cv_train</th>\n",
       "      <th>lasso_cv_test</th>\n",
       "    </tr>\n",
       "  </thead>\n",
       "  <tbody>\n",
       "    <tr>\n",
       "      <th>R2</th>\n",
       "      <td>0.884184</td>\n",
       "      <td>0.810954</td>\n",
       "    </tr>\n",
       "    <tr>\n",
       "      <th>mae</th>\n",
       "      <td>1.155333</td>\n",
       "      <td>1.312965</td>\n",
       "    </tr>\n",
       "    <tr>\n",
       "      <th>mse</th>\n",
       "      <td>3.193849</td>\n",
       "      <td>3.497467</td>\n",
       "    </tr>\n",
       "    <tr>\n",
       "      <th>rmse</th>\n",
       "      <td>1.787134</td>\n",
       "      <td>1.870151</td>\n",
       "    </tr>\n",
       "  </tbody>\n",
       "</table>\n",
       "</div>"
      ],
      "text/plain": [
       "      lasso_cv_train  lasso_cv_test\n",
       "R2          0.884184       0.810954\n",
       "mae         1.155333       1.312965\n",
       "mse         3.193849       3.497467\n",
       "rmse        1.787134       1.870151"
      ]
     },
     "execution_count": 68,
     "metadata": {},
     "output_type": "execute_result"
    }
   ],
   "source": [
    "lcs = train_val(y_train, y_train_pred, y_test, y_pred, \"lasso_cv\")\n",
    "lcs"
   ]
  },
  {
   "cell_type": "code",
   "execution_count": 69,
   "metadata": {},
   "outputs": [
    {
     "data": {
      "text/html": [
       "<div>\n",
       "<style scoped>\n",
       "    .dataframe tbody tr th:only-of-type {\n",
       "        vertical-align: middle;\n",
       "    }\n",
       "\n",
       "    .dataframe tbody tr th {\n",
       "        vertical-align: top;\n",
       "    }\n",
       "\n",
       "    .dataframe thead th {\n",
       "        text-align: right;\n",
       "    }\n",
       "</style>\n",
       "<table border=\"1\" class=\"dataframe\">\n",
       "  <thead>\n",
       "    <tr style=\"text-align: right;\">\n",
       "      <th></th>\n",
       "      <th>linear_train</th>\n",
       "      <th>linear_test</th>\n",
       "      <th>ridge_train</th>\n",
       "      <th>ridge_test</th>\n",
       "      <th>ridge_cv_train</th>\n",
       "      <th>ridge_cv_test</th>\n",
       "      <th>lasso_train</th>\n",
       "      <th>lasso_test</th>\n",
       "      <th>lasso_cv_train</th>\n",
       "      <th>lasso_cv_test</th>\n",
       "    </tr>\n",
       "  </thead>\n",
       "  <tbody>\n",
       "    <tr>\n",
       "      <th>R2</th>\n",
       "      <td>0.892896</td>\n",
       "      <td>0.817278</td>\n",
       "      <td>0.833805</td>\n",
       "      <td>0.775099</td>\n",
       "      <td>0.887826</td>\n",
       "      <td>0.811294</td>\n",
       "      <td>0.154359</td>\n",
       "      <td>0.176500</td>\n",
       "      <td>0.884184</td>\n",
       "      <td>0.810954</td>\n",
       "    </tr>\n",
       "    <tr>\n",
       "      <th>mae</th>\n",
       "      <td>1.140364</td>\n",
       "      <td>1.287883</td>\n",
       "      <td>1.376066</td>\n",
       "      <td>1.480386</td>\n",
       "      <td>1.173030</td>\n",
       "      <td>1.329779</td>\n",
       "      <td>3.118397</td>\n",
       "      <td>2.713117</td>\n",
       "      <td>1.155333</td>\n",
       "      <td>1.312965</td>\n",
       "    </tr>\n",
       "    <tr>\n",
       "      <th>mse</th>\n",
       "      <td>2.953602</td>\n",
       "      <td>3.380468</td>\n",
       "      <td>4.583138</td>\n",
       "      <td>4.160803</td>\n",
       "      <td>3.093423</td>\n",
       "      <td>3.491178</td>\n",
       "      <td>23.320175</td>\n",
       "      <td>15.235270</td>\n",
       "      <td>3.193849</td>\n",
       "      <td>3.497467</td>\n",
       "    </tr>\n",
       "    <tr>\n",
       "      <th>rmse</th>\n",
       "      <td>1.718605</td>\n",
       "      <td>1.838605</td>\n",
       "      <td>2.140826</td>\n",
       "      <td>2.039805</td>\n",
       "      <td>1.758813</td>\n",
       "      <td>1.868469</td>\n",
       "      <td>4.829097</td>\n",
       "      <td>3.903238</td>\n",
       "      <td>1.787134</td>\n",
       "      <td>1.870151</td>\n",
       "    </tr>\n",
       "  </tbody>\n",
       "</table>\n",
       "</div>"
      ],
      "text/plain": [
       "      linear_train  linear_test  ridge_train  ridge_test  ridge_cv_train  \\\n",
       "R2        0.892896     0.817278     0.833805    0.775099        0.887826   \n",
       "mae       1.140364     1.287883     1.376066    1.480386        1.173030   \n",
       "mse       2.953602     3.380468     4.583138    4.160803        3.093423   \n",
       "rmse      1.718605     1.838605     2.140826    2.039805        1.758813   \n",
       "\n",
       "      ridge_cv_test  lasso_train  lasso_test  lasso_cv_train  lasso_cv_test  \n",
       "R2         0.811294     0.154359    0.176500        0.884184       0.810954  \n",
       "mae        1.329779     3.118397    2.713117        1.155333       1.312965  \n",
       "mse        3.491178    23.320175   15.235270        3.193849       3.497467  \n",
       "rmse       1.868469     4.829097    3.903238        1.787134       1.870151  "
      ]
     },
     "execution_count": 69,
     "metadata": {},
     "output_type": "execute_result"
    }
   ],
   "source": [
    "pd.concat([ls,rs, rcs, lss, lcs], axis = 1)"
   ]
  },
  {
   "cell_type": "code",
   "execution_count": null,
   "metadata": {},
   "outputs": [],
   "source": []
  },
  {
   "cell_type": "markdown",
   "metadata": {
    "id": "26QEobIEbV9X"
   },
   "source": [
    "## Elastic-Net "
   ]
  },
  {
   "cell_type": "code",
   "execution_count": 70,
   "metadata": {
    "id": "hIgltF9YbV9Y"
   },
   "outputs": [],
   "source": [
    "from sklearn.linear_model import ElasticNet, ElasticNetCV"
   ]
  },
  {
   "cell_type": "code",
   "execution_count": 71,
   "metadata": {},
   "outputs": [
    {
     "data": {
      "text/plain": [
       "ElasticNet(alpha=1, random_state=42)"
      ]
     },
     "execution_count": 71,
     "metadata": {},
     "output_type": "execute_result"
    }
   ],
   "source": [
    "elastic_model = ElasticNet(alpha=1, l1_ratio=0.5, random_state=42)\n",
    "elastic_model.fit(X_train_scaled, y_train)"
   ]
  },
  {
   "cell_type": "code",
   "execution_count": 72,
   "metadata": {},
   "outputs": [],
   "source": [
    "y_pred = elastic_model.predict(X_test_scaled)\n",
    "y_train_pred = elastic_model.predict(X_train_scaled)"
   ]
  },
  {
   "cell_type": "code",
   "execution_count": 73,
   "metadata": {},
   "outputs": [
    {
     "data": {
      "text/html": [
       "<div>\n",
       "<style scoped>\n",
       "    .dataframe tbody tr th:only-of-type {\n",
       "        vertical-align: middle;\n",
       "    }\n",
       "\n",
       "    .dataframe tbody tr th {\n",
       "        vertical-align: top;\n",
       "    }\n",
       "\n",
       "    .dataframe thead th {\n",
       "        text-align: right;\n",
       "    }\n",
       "</style>\n",
       "<table border=\"1\" class=\"dataframe\">\n",
       "  <thead>\n",
       "    <tr style=\"text-align: right;\">\n",
       "      <th></th>\n",
       "      <th>elastic_train</th>\n",
       "      <th>elastic_test</th>\n",
       "    </tr>\n",
       "  </thead>\n",
       "  <tbody>\n",
       "    <tr>\n",
       "      <th>R2</th>\n",
       "      <td>0.203194</td>\n",
       "      <td>0.249204</td>\n",
       "    </tr>\n",
       "    <tr>\n",
       "      <th>mae</th>\n",
       "      <td>3.080474</td>\n",
       "      <td>2.598646</td>\n",
       "    </tr>\n",
       "    <tr>\n",
       "      <th>mse</th>\n",
       "      <td>21.973434</td>\n",
       "      <td>13.890199</td>\n",
       "    </tr>\n",
       "    <tr>\n",
       "      <th>rmse</th>\n",
       "      <td>4.687583</td>\n",
       "      <td>3.726956</td>\n",
       "    </tr>\n",
       "  </tbody>\n",
       "</table>\n",
       "</div>"
      ],
      "text/plain": [
       "      elastic_train  elastic_test\n",
       "R2         0.203194      0.249204\n",
       "mae        3.080474      2.598646\n",
       "mse       21.973434     13.890199\n",
       "rmse       4.687583      3.726956"
      ]
     },
     "execution_count": 73,
     "metadata": {},
     "output_type": "execute_result"
    }
   ],
   "source": [
    "es = train_val(y_train, y_train_pred, y_test, y_pred, \"elastic\")\n",
    "es"
   ]
  },
  {
   "cell_type": "code",
   "execution_count": 74,
   "metadata": {},
   "outputs": [],
   "source": [
    "model = ElasticNet(alpha=1, l1_ratio=0.5, random_state=42)\n",
    "scores = cross_validate(model, X_train_scaled, y_train,\n",
    "                        scoring=['r2', 'neg_mean_absolute_error','neg_mean_squared_error','neg_root_mean_squared_error'], cv=5)"
   ]
  },
  {
   "cell_type": "code",
   "execution_count": 75,
   "metadata": {},
   "outputs": [
    {
     "data": {
      "text/html": [
       "<div>\n",
       "<style scoped>\n",
       "    .dataframe tbody tr th:only-of-type {\n",
       "        vertical-align: middle;\n",
       "    }\n",
       "\n",
       "    .dataframe tbody tr th {\n",
       "        vertical-align: top;\n",
       "    }\n",
       "\n",
       "    .dataframe thead th {\n",
       "        text-align: right;\n",
       "    }\n",
       "</style>\n",
       "<table border=\"1\" class=\"dataframe\">\n",
       "  <thead>\n",
       "    <tr style=\"text-align: right;\">\n",
       "      <th></th>\n",
       "      <th>test_r2</th>\n",
       "      <th>test_neg_mean_absolute_error</th>\n",
       "      <th>test_neg_mean_squared_error</th>\n",
       "      <th>test_neg_root_mean_squared_error</th>\n",
       "    </tr>\n",
       "  </thead>\n",
       "  <tbody>\n",
       "    <tr>\n",
       "      <th>1</th>\n",
       "      <td>0.250566</td>\n",
       "      <td>-2.780934</td>\n",
       "      <td>-11.223850</td>\n",
       "      <td>-3.350201</td>\n",
       "    </tr>\n",
       "    <tr>\n",
       "      <th>2</th>\n",
       "      <td>0.175573</td>\n",
       "      <td>-3.152509</td>\n",
       "      <td>-20.054431</td>\n",
       "      <td>-4.478217</td>\n",
       "    </tr>\n",
       "    <tr>\n",
       "      <th>3</th>\n",
       "      <td>0.192791</td>\n",
       "      <td>-3.297600</td>\n",
       "      <td>-23.847145</td>\n",
       "      <td>-4.883354</td>\n",
       "    </tr>\n",
       "    <tr>\n",
       "      <th>4</th>\n",
       "      <td>0.159679</td>\n",
       "      <td>-3.222111</td>\n",
       "      <td>-30.265226</td>\n",
       "      <td>-5.501384</td>\n",
       "    </tr>\n",
       "    <tr>\n",
       "      <th>5</th>\n",
       "      <td>0.180141</td>\n",
       "      <td>-3.070686</td>\n",
       "      <td>-26.054066</td>\n",
       "      <td>-5.104318</td>\n",
       "    </tr>\n",
       "  </tbody>\n",
       "</table>\n",
       "</div>"
      ],
      "text/plain": [
       "    test_r2  test_neg_mean_absolute_error  test_neg_mean_squared_error  \\\n",
       "1  0.250566                     -2.780934                   -11.223850   \n",
       "2  0.175573                     -3.152509                   -20.054431   \n",
       "3  0.192791                     -3.297600                   -23.847145   \n",
       "4  0.159679                     -3.222111                   -30.265226   \n",
       "5  0.180141                     -3.070686                   -26.054066   \n",
       "\n",
       "   test_neg_root_mean_squared_error  \n",
       "1                         -3.350201  \n",
       "2                         -4.478217  \n",
       "3                         -4.883354  \n",
       "4                         -5.501384  \n",
       "5                         -5.104318  "
      ]
     },
     "execution_count": 75,
     "metadata": {},
     "output_type": "execute_result"
    }
   ],
   "source": [
    "scores = pd.DataFrame(scores, index = range(1, 6))\n",
    "scores.iloc[:,2:]"
   ]
  },
  {
   "cell_type": "code",
   "execution_count": 76,
   "metadata": {},
   "outputs": [
    {
     "data": {
      "text/plain": [
       "test_r2                              0.191750\n",
       "test_neg_mean_absolute_error        -3.104768\n",
       "test_neg_mean_squared_error        -22.288943\n",
       "test_neg_root_mean_squared_error    -4.663495\n",
       "dtype: float64"
      ]
     },
     "execution_count": 76,
     "metadata": {},
     "output_type": "execute_result"
    }
   ],
   "source": [
    "scores = pd.DataFrame(scores, index = range(1, 11))\n",
    "scores.iloc[:,2:].mean()"
   ]
  },
  {
   "cell_type": "code",
   "execution_count": 77,
   "metadata": {},
   "outputs": [
    {
     "data": {
      "text/html": [
       "<div>\n",
       "<style scoped>\n",
       "    .dataframe tbody tr th:only-of-type {\n",
       "        vertical-align: middle;\n",
       "    }\n",
       "\n",
       "    .dataframe tbody tr th {\n",
       "        vertical-align: top;\n",
       "    }\n",
       "\n",
       "    .dataframe thead th {\n",
       "        text-align: right;\n",
       "    }\n",
       "</style>\n",
       "<table border=\"1\" class=\"dataframe\">\n",
       "  <thead>\n",
       "    <tr style=\"text-align: right;\">\n",
       "      <th></th>\n",
       "      <th>elastic_train</th>\n",
       "      <th>elastic_test</th>\n",
       "    </tr>\n",
       "  </thead>\n",
       "  <tbody>\n",
       "    <tr>\n",
       "      <th>R2</th>\n",
       "      <td>0.203194</td>\n",
       "      <td>0.249204</td>\n",
       "    </tr>\n",
       "    <tr>\n",
       "      <th>mae</th>\n",
       "      <td>3.080474</td>\n",
       "      <td>2.598646</td>\n",
       "    </tr>\n",
       "    <tr>\n",
       "      <th>mse</th>\n",
       "      <td>21.973434</td>\n",
       "      <td>13.890199</td>\n",
       "    </tr>\n",
       "    <tr>\n",
       "      <th>rmse</th>\n",
       "      <td>4.687583</td>\n",
       "      <td>3.726956</td>\n",
       "    </tr>\n",
       "  </tbody>\n",
       "</table>\n",
       "</div>"
      ],
      "text/plain": [
       "      elastic_train  elastic_test\n",
       "R2         0.203194      0.249204\n",
       "mae        3.080474      2.598646\n",
       "mse       21.973434     13.890199\n",
       "rmse       4.687583      3.726956"
      ]
     },
     "execution_count": 77,
     "metadata": {},
     "output_type": "execute_result"
    }
   ],
   "source": [
    "train_val(y_train, y_train_pred, y_test, y_pred, \"elastic\")"
   ]
  },
  {
   "cell_type": "code",
   "execution_count": 78,
   "metadata": {},
   "outputs": [],
   "source": [
    "elastic_cv_model = ElasticNetCV(alphas = alpha_space, l1_ratio=[0.1, 0.5, 0.7,0.9, 0.95, 1], cv = 5, \n",
    "                                max_iter = 100000,random_state=42)"
   ]
  },
  {
   "cell_type": "code",
   "execution_count": 79,
   "metadata": {},
   "outputs": [
    {
     "data": {
      "text/plain": [
       "ElasticNetCV(alphas=array([0.01, 0.02, 0.03, 0.04, 0.05, 0.06, 0.07, 0.08, 0.09, 0.1 , 0.11,\n",
       "       0.12, 0.13, 0.14, 0.15, 0.16, 0.17, 0.18, 0.19, 0.2 , 0.21, 0.22,\n",
       "       0.23, 0.24, 0.25, 0.26, 0.27, 0.28, 0.29, 0.3 , 0.31, 0.32, 0.33,\n",
       "       0.34, 0.35, 0.36, 0.37, 0.38, 0.39, 0.4 , 0.41, 0.42, 0.43, 0.44,\n",
       "       0.45, 0.46, 0.47, 0.48, 0.49, 0.5 , 0.51, 0.52, 0.53, 0.54, 0.55,\n",
       "       0.56, 0.57, 0.58, 0.59, 0.6 , 0.61, 0.62, 0.63, 0.64, 0.65, 0.66,\n",
       "       0.67, 0.68, 0.69, 0.7 , 0.71, 0.72, 0.73, 0.74, 0.75, 0.76, 0.77,\n",
       "       0.78, 0.79, 0.8 , 0.81, 0.82, 0.83, 0.84, 0.85, 0.86, 0.87, 0.88,\n",
       "       0.89, 0.9 , 0.91, 0.92, 0.93, 0.94, 0.95, 0.96, 0.97, 0.98, 0.99,\n",
       "       1.  ]),\n",
       "             cv=5, l1_ratio=[0.1, 0.5, 0.7, 0.9, 0.95, 1], max_iter=100000,\n",
       "             random_state=42)"
      ]
     },
     "execution_count": 79,
     "metadata": {},
     "output_type": "execute_result"
    }
   ],
   "source": [
    "elastic_cv_model.fit(X_train_scaled, y_train)"
   ]
  },
  {
   "cell_type": "code",
   "execution_count": 80,
   "metadata": {},
   "outputs": [
    {
     "data": {
      "text/plain": [
       "0.03"
      ]
     },
     "execution_count": 80,
     "metadata": {},
     "output_type": "execute_result"
    }
   ],
   "source": [
    "elastic_cv_model.alpha_"
   ]
  },
  {
   "cell_type": "code",
   "execution_count": 81,
   "metadata": {},
   "outputs": [
    {
     "data": {
      "text/plain": [
       "1.0"
      ]
     },
     "execution_count": 81,
     "metadata": {},
     "output_type": "execute_result"
    }
   ],
   "source": [
    "elastic_cv_model.l1_ratio_"
   ]
  },
  {
   "cell_type": "code",
   "execution_count": 82,
   "metadata": {},
   "outputs": [],
   "source": [
    "y_pred = elastic_cv_model.predict(X_test_scaled)\n",
    "y_train_pred = elastic_cv_model.predict(X_train_scaled)"
   ]
  },
  {
   "cell_type": "code",
   "execution_count": 83,
   "metadata": {
    "scrolled": true
   },
   "outputs": [
    {
     "data": {
      "text/html": [
       "<div>\n",
       "<style scoped>\n",
       "    .dataframe tbody tr th:only-of-type {\n",
       "        vertical-align: middle;\n",
       "    }\n",
       "\n",
       "    .dataframe tbody tr th {\n",
       "        vertical-align: top;\n",
       "    }\n",
       "\n",
       "    .dataframe thead th {\n",
       "        text-align: right;\n",
       "    }\n",
       "</style>\n",
       "<table border=\"1\" class=\"dataframe\">\n",
       "  <thead>\n",
       "    <tr style=\"text-align: right;\">\n",
       "      <th></th>\n",
       "      <th>elastic_cv_train</th>\n",
       "      <th>elastic_cv_test</th>\n",
       "    </tr>\n",
       "  </thead>\n",
       "  <tbody>\n",
       "    <tr>\n",
       "      <th>R2</th>\n",
       "      <td>0.884184</td>\n",
       "      <td>0.810954</td>\n",
       "    </tr>\n",
       "    <tr>\n",
       "      <th>mae</th>\n",
       "      <td>1.155333</td>\n",
       "      <td>1.312965</td>\n",
       "    </tr>\n",
       "    <tr>\n",
       "      <th>mse</th>\n",
       "      <td>3.193849</td>\n",
       "      <td>3.497467</td>\n",
       "    </tr>\n",
       "    <tr>\n",
       "      <th>rmse</th>\n",
       "      <td>1.787134</td>\n",
       "      <td>1.870151</td>\n",
       "    </tr>\n",
       "  </tbody>\n",
       "</table>\n",
       "</div>"
      ],
      "text/plain": [
       "      elastic_cv_train  elastic_cv_test\n",
       "R2            0.884184         0.810954\n",
       "mae           1.155333         1.312965\n",
       "mse           3.193849         3.497467\n",
       "rmse          1.787134         1.870151"
      ]
     },
     "execution_count": 83,
     "metadata": {},
     "output_type": "execute_result"
    }
   ],
   "source": [
    "ecs = train_val(y_train, y_train_pred, y_test, y_pred, \"elastic_cv\")\n",
    "ecs"
   ]
  },
  {
   "cell_type": "markdown",
   "metadata": {},
   "source": [
    "## Grid Search"
   ]
  },
  {
   "cell_type": "code",
   "execution_count": 84,
   "metadata": {},
   "outputs": [],
   "source": [
    "from sklearn.model_selection import GridSearchCV"
   ]
  },
  {
   "cell_type": "code",
   "execution_count": 85,
   "metadata": {},
   "outputs": [],
   "source": [
    "elastic_model = ElasticNet(max_iter=10000, random_state=42)"
   ]
  },
  {
   "cell_type": "code",
   "execution_count": 86,
   "metadata": {},
   "outputs": [],
   "source": [
    "param_grid = {\"alpha\":[0.01, 0.012, 0.2, 0.5, 0.6, 0.7, 1],\n",
    "            \"l1_ratio\":[0.1, 0.5, 0.7, 0.9, 0.95, 0.99, 1]}"
   ]
  },
  {
   "cell_type": "code",
   "execution_count": 87,
   "metadata": {},
   "outputs": [],
   "source": [
    "grid_model = GridSearchCV(estimator = elastic_model, param_grid = param_grid, scoring = 'neg_root_mean_squared_error',\n",
    "                         cv =5, verbose =2)"
   ]
  },
  {
   "cell_type": "code",
   "execution_count": 88,
   "metadata": {},
   "outputs": [
    {
     "name": "stdout",
     "output_type": "stream",
     "text": [
      "Fitting 5 folds for each of 49 candidates, totalling 245 fits\n",
      "[CV] END ...........................alpha=0.01, l1_ratio=0.1; total time=   0.0s\n",
      "[CV] END ...........................alpha=0.01, l1_ratio=0.1; total time=   0.0s\n",
      "[CV] END ...........................alpha=0.01, l1_ratio=0.1; total time=   0.0s\n",
      "[CV] END ...........................alpha=0.01, l1_ratio=0.1; total time=   0.0s\n",
      "[CV] END ...........................alpha=0.01, l1_ratio=0.1; total time=   0.0s\n",
      "[CV] END ...........................alpha=0.01, l1_ratio=0.5; total time=   0.0s\n",
      "[CV] END ...........................alpha=0.01, l1_ratio=0.5; total time=   0.0s\n",
      "[CV] END ...........................alpha=0.01, l1_ratio=0.5; total time=   0.0s\n",
      "[CV] END ...........................alpha=0.01, l1_ratio=0.5; total time=   0.0s\n",
      "[CV] END ...........................alpha=0.01, l1_ratio=0.5; total time=   0.0s\n",
      "[CV] END ...........................alpha=0.01, l1_ratio=0.7; total time=   0.0s\n",
      "[CV] END ...........................alpha=0.01, l1_ratio=0.7; total time=   0.0s\n",
      "[CV] END ...........................alpha=0.01, l1_ratio=0.7; total time=   0.0s\n",
      "[CV] END ...........................alpha=0.01, l1_ratio=0.7; total time=   0.0s\n",
      "[CV] END ...........................alpha=0.01, l1_ratio=0.7; total time=   0.0s\n",
      "[CV] END ...........................alpha=0.01, l1_ratio=0.9; total time=   0.0s\n",
      "[CV] END ...........................alpha=0.01, l1_ratio=0.9; total time=   0.0s\n",
      "[CV] END ...........................alpha=0.01, l1_ratio=0.9; total time=   0.0s\n",
      "[CV] END ...........................alpha=0.01, l1_ratio=0.9; total time=   0.0s\n",
      "[CV] END ...........................alpha=0.01, l1_ratio=0.9; total time=   0.0s\n",
      "[CV] END ..........................alpha=0.01, l1_ratio=0.95; total time=   0.0s\n",
      "[CV] END ..........................alpha=0.01, l1_ratio=0.95; total time=   0.0s\n",
      "[CV] END ..........................alpha=0.01, l1_ratio=0.95; total time=   0.0s\n",
      "[CV] END ..........................alpha=0.01, l1_ratio=0.95; total time=   0.0s\n",
      "[CV] END ..........................alpha=0.01, l1_ratio=0.95; total time=   0.0s\n",
      "[CV] END ..........................alpha=0.01, l1_ratio=0.99; total time=   0.0s\n",
      "[CV] END ..........................alpha=0.01, l1_ratio=0.99; total time=   0.0s\n",
      "[CV] END ..........................alpha=0.01, l1_ratio=0.99; total time=   0.0s\n",
      "[CV] END ..........................alpha=0.01, l1_ratio=0.99; total time=   0.0s\n",
      "[CV] END ..........................alpha=0.01, l1_ratio=0.99; total time=   0.0s\n",
      "[CV] END .............................alpha=0.01, l1_ratio=1; total time=   0.0s\n",
      "[CV] END .............................alpha=0.01, l1_ratio=1; total time=   0.0s\n",
      "[CV] END .............................alpha=0.01, l1_ratio=1; total time=   0.0s\n",
      "[CV] END .............................alpha=0.01, l1_ratio=1; total time=   0.0s\n",
      "[CV] END .............................alpha=0.01, l1_ratio=1; total time=   0.0s\n",
      "[CV] END ..........................alpha=0.012, l1_ratio=0.1; total time=   0.0s\n",
      "[CV] END ..........................alpha=0.012, l1_ratio=0.1; total time=   0.0s\n",
      "[CV] END ..........................alpha=0.012, l1_ratio=0.1; total time=   0.0s\n",
      "[CV] END ..........................alpha=0.012, l1_ratio=0.1; total time=   0.0s\n",
      "[CV] END ..........................alpha=0.012, l1_ratio=0.1; total time=   0.0s\n",
      "[CV] END ..........................alpha=0.012, l1_ratio=0.5; total time=   0.0s\n",
      "[CV] END ..........................alpha=0.012, l1_ratio=0.5; total time=   0.0s\n",
      "[CV] END ..........................alpha=0.012, l1_ratio=0.5; total time=   0.0s\n",
      "[CV] END ..........................alpha=0.012, l1_ratio=0.5; total time=   0.0s\n",
      "[CV] END ..........................alpha=0.012, l1_ratio=0.5; total time=   0.0s\n",
      "[CV] END ..........................alpha=0.012, l1_ratio=0.7; total time=   0.0s\n",
      "[CV] END ..........................alpha=0.012, l1_ratio=0.7; total time=   0.0s\n",
      "[CV] END ..........................alpha=0.012, l1_ratio=0.7; total time=   0.0s\n",
      "[CV] END ..........................alpha=0.012, l1_ratio=0.7; total time=   0.0s\n",
      "[CV] END ..........................alpha=0.012, l1_ratio=0.7; total time=   0.0s\n",
      "[CV] END ..........................alpha=0.012, l1_ratio=0.9; total time=   0.0s\n",
      "[CV] END ..........................alpha=0.012, l1_ratio=0.9; total time=   0.0s\n",
      "[CV] END ..........................alpha=0.012, l1_ratio=0.9; total time=   0.0s\n",
      "[CV] END ..........................alpha=0.012, l1_ratio=0.9; total time=   0.0s\n",
      "[CV] END ..........................alpha=0.012, l1_ratio=0.9; total time=   0.0s\n",
      "[CV] END .........................alpha=0.012, l1_ratio=0.95; total time=   0.0s\n",
      "[CV] END .........................alpha=0.012, l1_ratio=0.95; total time=   0.0s\n",
      "[CV] END .........................alpha=0.012, l1_ratio=0.95; total time=   0.0s\n",
      "[CV] END .........................alpha=0.012, l1_ratio=0.95; total time=   0.0s\n",
      "[CV] END .........................alpha=0.012, l1_ratio=0.95; total time=   0.0s\n",
      "[CV] END .........................alpha=0.012, l1_ratio=0.99; total time=   0.0s\n",
      "[CV] END .........................alpha=0.012, l1_ratio=0.99; total time=   0.0s\n",
      "[CV] END .........................alpha=0.012, l1_ratio=0.99; total time=   0.0s\n",
      "[CV] END .........................alpha=0.012, l1_ratio=0.99; total time=   0.0s\n",
      "[CV] END .........................alpha=0.012, l1_ratio=0.99; total time=   0.0s\n",
      "[CV] END ............................alpha=0.012, l1_ratio=1; total time=   0.0s\n",
      "[CV] END ............................alpha=0.012, l1_ratio=1; total time=   0.0s\n",
      "[CV] END ............................alpha=0.012, l1_ratio=1; total time=   0.0s\n",
      "[CV] END ............................alpha=0.012, l1_ratio=1; total time=   0.0s\n",
      "[CV] END ............................alpha=0.012, l1_ratio=1; total time=   0.0s\n",
      "[CV] END ............................alpha=0.2, l1_ratio=0.1; total time=   0.0s\n",
      "[CV] END ............................alpha=0.2, l1_ratio=0.1; total time=   0.0s\n",
      "[CV] END ............................alpha=0.2, l1_ratio=0.1; total time=   0.0s\n",
      "[CV] END ............................alpha=0.2, l1_ratio=0.1; total time=   0.0s\n",
      "[CV] END ............................alpha=0.2, l1_ratio=0.1; total time=   0.0s\n",
      "[CV] END ............................alpha=0.2, l1_ratio=0.5; total time=   0.0s\n",
      "[CV] END ............................alpha=0.2, l1_ratio=0.5; total time=   0.0s\n",
      "[CV] END ............................alpha=0.2, l1_ratio=0.5; total time=   0.0s\n",
      "[CV] END ............................alpha=0.2, l1_ratio=0.5; total time=   0.0s\n",
      "[CV] END ............................alpha=0.2, l1_ratio=0.5; total time=   0.0s\n",
      "[CV] END ............................alpha=0.2, l1_ratio=0.7; total time=   0.0s\n",
      "[CV] END ............................alpha=0.2, l1_ratio=0.7; total time=   0.0s\n",
      "[CV] END ............................alpha=0.2, l1_ratio=0.7; total time=   0.0s\n",
      "[CV] END ............................alpha=0.2, l1_ratio=0.7; total time=   0.0s\n",
      "[CV] END ............................alpha=0.2, l1_ratio=0.7; total time=   0.0s\n",
      "[CV] END ............................alpha=0.2, l1_ratio=0.9; total time=   0.0s\n",
      "[CV] END ............................alpha=0.2, l1_ratio=0.9; total time=   0.0s\n",
      "[CV] END ............................alpha=0.2, l1_ratio=0.9; total time=   0.0s\n",
      "[CV] END ............................alpha=0.2, l1_ratio=0.9; total time=   0.0s\n",
      "[CV] END ............................alpha=0.2, l1_ratio=0.9; total time=   0.0s\n",
      "[CV] END ...........................alpha=0.2, l1_ratio=0.95; total time=   0.0s\n",
      "[CV] END ...........................alpha=0.2, l1_ratio=0.95; total time=   0.0s\n",
      "[CV] END ...........................alpha=0.2, l1_ratio=0.95; total time=   0.0s\n",
      "[CV] END ...........................alpha=0.2, l1_ratio=0.95; total time=   0.0s\n",
      "[CV] END ...........................alpha=0.2, l1_ratio=0.95; total time=   0.0s\n",
      "[CV] END ...........................alpha=0.2, l1_ratio=0.99; total time=   0.0s\n",
      "[CV] END ...........................alpha=0.2, l1_ratio=0.99; total time=   0.0s\n",
      "[CV] END ...........................alpha=0.2, l1_ratio=0.99; total time=   0.0s\n",
      "[CV] END ...........................alpha=0.2, l1_ratio=0.99; total time=   0.0s\n",
      "[CV] END ...........................alpha=0.2, l1_ratio=0.99; total time=   0.0s\n",
      "[CV] END ..............................alpha=0.2, l1_ratio=1; total time=   0.0s\n",
      "[CV] END ..............................alpha=0.2, l1_ratio=1; total time=   0.0s\n",
      "[CV] END ..............................alpha=0.2, l1_ratio=1; total time=   0.0s\n",
      "[CV] END ..............................alpha=0.2, l1_ratio=1; total time=   0.0s\n",
      "[CV] END ..............................alpha=0.2, l1_ratio=1; total time=   0.0s\n",
      "[CV] END ............................alpha=0.5, l1_ratio=0.1; total time=   0.0s\n",
      "[CV] END ............................alpha=0.5, l1_ratio=0.1; total time=   0.0s\n",
      "[CV] END ............................alpha=0.5, l1_ratio=0.1; total time=   0.0s\n",
      "[CV] END ............................alpha=0.5, l1_ratio=0.1; total time=   0.0s\n",
      "[CV] END ............................alpha=0.5, l1_ratio=0.1; total time=   0.0s\n",
      "[CV] END ............................alpha=0.5, l1_ratio=0.5; total time=   0.0s\n",
      "[CV] END ............................alpha=0.5, l1_ratio=0.5; total time=   0.0s\n",
      "[CV] END ............................alpha=0.5, l1_ratio=0.5; total time=   0.0s\n",
      "[CV] END ............................alpha=0.5, l1_ratio=0.5; total time=   0.0s\n",
      "[CV] END ............................alpha=0.5, l1_ratio=0.5; total time=   0.0s\n",
      "[CV] END ............................alpha=0.5, l1_ratio=0.7; total time=   0.0s\n",
      "[CV] END ............................alpha=0.5, l1_ratio=0.7; total time=   0.0s\n",
      "[CV] END ............................alpha=0.5, l1_ratio=0.7; total time=   0.0s\n",
      "[CV] END ............................alpha=0.5, l1_ratio=0.7; total time=   0.0s\n",
      "[CV] END ............................alpha=0.5, l1_ratio=0.7; total time=   0.0s\n",
      "[CV] END ............................alpha=0.5, l1_ratio=0.9; total time=   0.0s\n",
      "[CV] END ............................alpha=0.5, l1_ratio=0.9; total time=   0.0s\n",
      "[CV] END ............................alpha=0.5, l1_ratio=0.9; total time=   0.0s\n",
      "[CV] END ............................alpha=0.5, l1_ratio=0.9; total time=   0.0s\n",
      "[CV] END ............................alpha=0.5, l1_ratio=0.9; total time=   0.0s\n",
      "[CV] END ...........................alpha=0.5, l1_ratio=0.95; total time=   0.0s\n",
      "[CV] END ...........................alpha=0.5, l1_ratio=0.95; total time=   0.0s\n",
      "[CV] END ...........................alpha=0.5, l1_ratio=0.95; total time=   0.0s\n",
      "[CV] END ...........................alpha=0.5, l1_ratio=0.95; total time=   0.0s\n",
      "[CV] END ...........................alpha=0.5, l1_ratio=0.95; total time=   0.0s\n",
      "[CV] END ...........................alpha=0.5, l1_ratio=0.99; total time=   0.0s\n",
      "[CV] END ...........................alpha=0.5, l1_ratio=0.99; total time=   0.0s\n",
      "[CV] END ...........................alpha=0.5, l1_ratio=0.99; total time=   0.0s\n",
      "[CV] END ...........................alpha=0.5, l1_ratio=0.99; total time=   0.0s\n",
      "[CV] END ...........................alpha=0.5, l1_ratio=0.99; total time=   0.0s\n",
      "[CV] END ..............................alpha=0.5, l1_ratio=1; total time=   0.0s\n",
      "[CV] END ..............................alpha=0.5, l1_ratio=1; total time=   0.0s\n",
      "[CV] END ..............................alpha=0.5, l1_ratio=1; total time=   0.0s\n",
      "[CV] END ..............................alpha=0.5, l1_ratio=1; total time=   0.0s\n",
      "[CV] END ..............................alpha=0.5, l1_ratio=1; total time=   0.0s\n",
      "[CV] END ............................alpha=0.6, l1_ratio=0.1; total time=   0.0s\n",
      "[CV] END ............................alpha=0.6, l1_ratio=0.1; total time=   0.0s\n",
      "[CV] END ............................alpha=0.6, l1_ratio=0.1; total time=   0.0s\n",
      "[CV] END ............................alpha=0.6, l1_ratio=0.1; total time=   0.0s\n",
      "[CV] END ............................alpha=0.6, l1_ratio=0.1; total time=   0.0s\n",
      "[CV] END ............................alpha=0.6, l1_ratio=0.5; total time=   0.0s\n",
      "[CV] END ............................alpha=0.6, l1_ratio=0.5; total time=   0.0s\n",
      "[CV] END ............................alpha=0.6, l1_ratio=0.5; total time=   0.0s\n",
      "[CV] END ............................alpha=0.6, l1_ratio=0.5; total time=   0.0s\n",
      "[CV] END ............................alpha=0.6, l1_ratio=0.5; total time=   0.0s\n",
      "[CV] END ............................alpha=0.6, l1_ratio=0.7; total time=   0.0s\n",
      "[CV] END ............................alpha=0.6, l1_ratio=0.7; total time=   0.0s\n",
      "[CV] END ............................alpha=0.6, l1_ratio=0.7; total time=   0.0s\n",
      "[CV] END ............................alpha=0.6, l1_ratio=0.7; total time=   0.0s\n",
      "[CV] END ............................alpha=0.6, l1_ratio=0.7; total time=   0.0s\n",
      "[CV] END ............................alpha=0.6, l1_ratio=0.9; total time=   0.0s\n",
      "[CV] END ............................alpha=0.6, l1_ratio=0.9; total time=   0.0s\n",
      "[CV] END ............................alpha=0.6, l1_ratio=0.9; total time=   0.0s\n",
      "[CV] END ............................alpha=0.6, l1_ratio=0.9; total time=   0.0s\n",
      "[CV] END ............................alpha=0.6, l1_ratio=0.9; total time=   0.0s\n",
      "[CV] END ...........................alpha=0.6, l1_ratio=0.95; total time=   0.0s\n",
      "[CV] END ...........................alpha=0.6, l1_ratio=0.95; total time=   0.0s\n",
      "[CV] END ...........................alpha=0.6, l1_ratio=0.95; total time=   0.0s\n",
      "[CV] END ...........................alpha=0.6, l1_ratio=0.95; total time=   0.0s\n",
      "[CV] END ...........................alpha=0.6, l1_ratio=0.95; total time=   0.0s\n",
      "[CV] END ...........................alpha=0.6, l1_ratio=0.99; total time=   0.0s\n",
      "[CV] END ...........................alpha=0.6, l1_ratio=0.99; total time=   0.0s\n",
      "[CV] END ...........................alpha=0.6, l1_ratio=0.99; total time=   0.0s\n",
      "[CV] END ...........................alpha=0.6, l1_ratio=0.99; total time=   0.0s\n",
      "[CV] END ...........................alpha=0.6, l1_ratio=0.99; total time=   0.0s\n",
      "[CV] END ..............................alpha=0.6, l1_ratio=1; total time=   0.0s\n",
      "[CV] END ..............................alpha=0.6, l1_ratio=1; total time=   0.0s\n",
      "[CV] END ..............................alpha=0.6, l1_ratio=1; total time=   0.0s\n"
     ]
    },
    {
     "name": "stdout",
     "output_type": "stream",
     "text": [
      "[CV] END ..............................alpha=0.6, l1_ratio=1; total time=   0.0s\n",
      "[CV] END ..............................alpha=0.6, l1_ratio=1; total time=   0.0s\n",
      "[CV] END ............................alpha=0.7, l1_ratio=0.1; total time=   0.0s\n",
      "[CV] END ............................alpha=0.7, l1_ratio=0.1; total time=   0.0s\n",
      "[CV] END ............................alpha=0.7, l1_ratio=0.1; total time=   0.0s\n",
      "[CV] END ............................alpha=0.7, l1_ratio=0.1; total time=   0.0s\n",
      "[CV] END ............................alpha=0.7, l1_ratio=0.1; total time=   0.0s\n",
      "[CV] END ............................alpha=0.7, l1_ratio=0.5; total time=   0.0s\n",
      "[CV] END ............................alpha=0.7, l1_ratio=0.5; total time=   0.0s\n",
      "[CV] END ............................alpha=0.7, l1_ratio=0.5; total time=   0.0s\n",
      "[CV] END ............................alpha=0.7, l1_ratio=0.5; total time=   0.0s\n",
      "[CV] END ............................alpha=0.7, l1_ratio=0.5; total time=   0.0s\n",
      "[CV] END ............................alpha=0.7, l1_ratio=0.7; total time=   0.0s\n",
      "[CV] END ............................alpha=0.7, l1_ratio=0.7; total time=   0.0s\n",
      "[CV] END ............................alpha=0.7, l1_ratio=0.7; total time=   0.0s\n",
      "[CV] END ............................alpha=0.7, l1_ratio=0.7; total time=   0.0s\n",
      "[CV] END ............................alpha=0.7, l1_ratio=0.7; total time=   0.0s\n",
      "[CV] END ............................alpha=0.7, l1_ratio=0.9; total time=   0.0s\n",
      "[CV] END ............................alpha=0.7, l1_ratio=0.9; total time=   0.0s\n",
      "[CV] END ............................alpha=0.7, l1_ratio=0.9; total time=   0.0s\n",
      "[CV] END ............................alpha=0.7, l1_ratio=0.9; total time=   0.0s\n",
      "[CV] END ............................alpha=0.7, l1_ratio=0.9; total time=   0.0s\n",
      "[CV] END ...........................alpha=0.7, l1_ratio=0.95; total time=   0.0s\n",
      "[CV] END ...........................alpha=0.7, l1_ratio=0.95; total time=   0.0s\n",
      "[CV] END ...........................alpha=0.7, l1_ratio=0.95; total time=   0.0s\n",
      "[CV] END ...........................alpha=0.7, l1_ratio=0.95; total time=   0.0s\n",
      "[CV] END ...........................alpha=0.7, l1_ratio=0.95; total time=   0.0s\n",
      "[CV] END ...........................alpha=0.7, l1_ratio=0.99; total time=   0.0s\n",
      "[CV] END ...........................alpha=0.7, l1_ratio=0.99; total time=   0.0s\n",
      "[CV] END ...........................alpha=0.7, l1_ratio=0.99; total time=   0.0s\n",
      "[CV] END ...........................alpha=0.7, l1_ratio=0.99; total time=   0.0s\n",
      "[CV] END ...........................alpha=0.7, l1_ratio=0.99; total time=   0.0s\n",
      "[CV] END ..............................alpha=0.7, l1_ratio=1; total time=   0.0s\n",
      "[CV] END ..............................alpha=0.7, l1_ratio=1; total time=   0.0s\n",
      "[CV] END ..............................alpha=0.7, l1_ratio=1; total time=   0.0s\n",
      "[CV] END ..............................alpha=0.7, l1_ratio=1; total time=   0.0s\n",
      "[CV] END ..............................alpha=0.7, l1_ratio=1; total time=   0.0s\n",
      "[CV] END ..............................alpha=1, l1_ratio=0.1; total time=   0.0s\n",
      "[CV] END ..............................alpha=1, l1_ratio=0.1; total time=   0.0s\n",
      "[CV] END ..............................alpha=1, l1_ratio=0.1; total time=   0.0s\n",
      "[CV] END ..............................alpha=1, l1_ratio=0.1; total time=   0.0s\n",
      "[CV] END ..............................alpha=1, l1_ratio=0.1; total time=   0.0s\n",
      "[CV] END ..............................alpha=1, l1_ratio=0.5; total time=   0.0s\n",
      "[CV] END ..............................alpha=1, l1_ratio=0.5; total time=   0.0s\n",
      "[CV] END ..............................alpha=1, l1_ratio=0.5; total time=   0.0s\n",
      "[CV] END ..............................alpha=1, l1_ratio=0.5; total time=   0.0s\n",
      "[CV] END ..............................alpha=1, l1_ratio=0.5; total time=   0.0s\n",
      "[CV] END ..............................alpha=1, l1_ratio=0.7; total time=   0.0s\n",
      "[CV] END ..............................alpha=1, l1_ratio=0.7; total time=   0.0s\n",
      "[CV] END ..............................alpha=1, l1_ratio=0.7; total time=   0.0s\n",
      "[CV] END ..............................alpha=1, l1_ratio=0.7; total time=   0.0s\n",
      "[CV] END ..............................alpha=1, l1_ratio=0.7; total time=   0.0s\n",
      "[CV] END ..............................alpha=1, l1_ratio=0.9; total time=   0.0s\n",
      "[CV] END ..............................alpha=1, l1_ratio=0.9; total time=   0.0s\n",
      "[CV] END ..............................alpha=1, l1_ratio=0.9; total time=   0.0s\n",
      "[CV] END ..............................alpha=1, l1_ratio=0.9; total time=   0.0s\n",
      "[CV] END ..............................alpha=1, l1_ratio=0.9; total time=   0.0s\n",
      "[CV] END .............................alpha=1, l1_ratio=0.95; total time=   0.0s\n",
      "[CV] END .............................alpha=1, l1_ratio=0.95; total time=   0.0s\n",
      "[CV] END .............................alpha=1, l1_ratio=0.95; total time=   0.0s\n",
      "[CV] END .............................alpha=1, l1_ratio=0.95; total time=   0.0s\n",
      "[CV] END .............................alpha=1, l1_ratio=0.95; total time=   0.0s\n",
      "[CV] END .............................alpha=1, l1_ratio=0.99; total time=   0.0s\n",
      "[CV] END .............................alpha=1, l1_ratio=0.99; total time=   0.0s\n",
      "[CV] END .............................alpha=1, l1_ratio=0.99; total time=   0.0s\n",
      "[CV] END .............................alpha=1, l1_ratio=0.99; total time=   0.0s\n",
      "[CV] END .............................alpha=1, l1_ratio=0.99; total time=   0.0s\n",
      "[CV] END ................................alpha=1, l1_ratio=1; total time=   0.0s\n",
      "[CV] END ................................alpha=1, l1_ratio=1; total time=   0.0s\n",
      "[CV] END ................................alpha=1, l1_ratio=1; total time=   0.0s\n",
      "[CV] END ................................alpha=1, l1_ratio=1; total time=   0.0s\n",
      "[CV] END ................................alpha=1, l1_ratio=1; total time=   0.0s\n"
     ]
    },
    {
     "data": {
      "text/plain": [
       "GridSearchCV(cv=5, estimator=ElasticNet(max_iter=10000, random_state=42),\n",
       "             param_grid={'alpha': [0.01, 0.012, 0.2, 0.5, 0.6, 0.7, 1],\n",
       "                         'l1_ratio': [0.1, 0.5, 0.7, 0.9, 0.95, 0.99, 1]},\n",
       "             scoring='neg_root_mean_squared_error', verbose=2)"
      ]
     },
     "execution_count": 88,
     "metadata": {},
     "output_type": "execute_result"
    }
   ],
   "source": [
    "grid_model.fit(X_train_scaled, y_train)"
   ]
  },
  {
   "cell_type": "code",
   "execution_count": 89,
   "metadata": {},
   "outputs": [
    {
     "data": {
      "text/plain": [
       "{'alpha': 0.012, 'l1_ratio': 0.95}"
      ]
     },
     "execution_count": 89,
     "metadata": {},
     "output_type": "execute_result"
    }
   ],
   "source": [
    "grid_model.best_params_"
   ]
  },
  {
   "cell_type": "code",
   "execution_count": 90,
   "metadata": {},
   "outputs": [],
   "source": [
    "y_pred = grid_model.predict(X_test_scaled)\n",
    "y_train_pred = grid_model.predict(X_train_scaled)"
   ]
  },
  {
   "cell_type": "code",
   "execution_count": 91,
   "metadata": {},
   "outputs": [
    {
     "data": {
      "text/html": [
       "<div>\n",
       "<style scoped>\n",
       "    .dataframe tbody tr th:only-of-type {\n",
       "        vertical-align: middle;\n",
       "    }\n",
       "\n",
       "    .dataframe tbody tr th {\n",
       "        vertical-align: top;\n",
       "    }\n",
       "\n",
       "    .dataframe thead th {\n",
       "        text-align: right;\n",
       "    }\n",
       "</style>\n",
       "<table border=\"1\" class=\"dataframe\">\n",
       "  <thead>\n",
       "    <tr style=\"text-align: right;\">\n",
       "      <th></th>\n",
       "      <th>GridSearch_train</th>\n",
       "      <th>GridSearch_test</th>\n",
       "    </tr>\n",
       "  </thead>\n",
       "  <tbody>\n",
       "    <tr>\n",
       "      <th>R2</th>\n",
       "      <td>0.885041</td>\n",
       "      <td>0.810761</td>\n",
       "    </tr>\n",
       "    <tr>\n",
       "      <th>mae</th>\n",
       "      <td>1.171352</td>\n",
       "      <td>1.330536</td>\n",
       "    </tr>\n",
       "    <tr>\n",
       "      <th>mse</th>\n",
       "      <td>3.170213</td>\n",
       "      <td>3.501045</td>\n",
       "    </tr>\n",
       "    <tr>\n",
       "      <th>rmse</th>\n",
       "      <td>1.780509</td>\n",
       "      <td>1.871108</td>\n",
       "    </tr>\n",
       "  </tbody>\n",
       "</table>\n",
       "</div>"
      ],
      "text/plain": [
       "      GridSearch_train  GridSearch_test\n",
       "R2            0.885041         0.810761\n",
       "mae           1.171352         1.330536\n",
       "mse           3.170213         3.501045\n",
       "rmse          1.780509         1.871108"
      ]
     },
     "execution_count": 91,
     "metadata": {},
     "output_type": "execute_result"
    }
   ],
   "source": [
    "train_val(y_train, y_train_pred, y_test, y_pred, \"GridSearch\")"
   ]
  },
  {
   "cell_type": "markdown",
   "metadata": {},
   "source": [
    "## Final Model"
   ]
  },
  {
   "cell_type": "code",
   "execution_count": 92,
   "metadata": {},
   "outputs": [
    {
     "data": {
      "text/plain": [
       "ElasticNet(alpha=0.012, l1_ratio=0.95, random_state=42)"
      ]
     },
     "execution_count": 92,
     "metadata": {},
     "output_type": "execute_result"
    }
   ],
   "source": [
    "elastic_model = ElasticNet(alpha=0.012, l1_ratio=0.95, random_state=42)\n",
    "elastic_model.fit(X_train_scaled, y_train)"
   ]
  },
  {
   "cell_type": "code",
   "execution_count": 93,
   "metadata": {},
   "outputs": [],
   "source": [
    "y_pred = elastic_model.predict(X_test_scaled)\n",
    "y_train_pred = elastic_model.predict(X_train_scaled)"
   ]
  },
  {
   "cell_type": "code",
   "execution_count": 94,
   "metadata": {},
   "outputs": [
    {
     "data": {
      "text/html": [
       "<div>\n",
       "<style scoped>\n",
       "    .dataframe tbody tr th:only-of-type {\n",
       "        vertical-align: middle;\n",
       "    }\n",
       "\n",
       "    .dataframe tbody tr th {\n",
       "        vertical-align: top;\n",
       "    }\n",
       "\n",
       "    .dataframe thead th {\n",
       "        text-align: right;\n",
       "    }\n",
       "</style>\n",
       "<table border=\"1\" class=\"dataframe\">\n",
       "  <thead>\n",
       "    <tr style=\"text-align: right;\">\n",
       "      <th></th>\n",
       "      <th>elastic_cv_train</th>\n",
       "      <th>elastic_cv_test</th>\n",
       "    </tr>\n",
       "  </thead>\n",
       "  <tbody>\n",
       "    <tr>\n",
       "      <th>R2</th>\n",
       "      <td>0.885041</td>\n",
       "      <td>0.810761</td>\n",
       "    </tr>\n",
       "    <tr>\n",
       "      <th>mae</th>\n",
       "      <td>1.171352</td>\n",
       "      <td>1.330536</td>\n",
       "    </tr>\n",
       "    <tr>\n",
       "      <th>mse</th>\n",
       "      <td>3.170213</td>\n",
       "      <td>3.501045</td>\n",
       "    </tr>\n",
       "    <tr>\n",
       "      <th>rmse</th>\n",
       "      <td>1.780509</td>\n",
       "      <td>1.871108</td>\n",
       "    </tr>\n",
       "  </tbody>\n",
       "</table>\n",
       "</div>"
      ],
      "text/plain": [
       "      elastic_cv_train  elastic_cv_test\n",
       "R2            0.885041         0.810761\n",
       "mae           1.171352         1.330536\n",
       "mse           3.170213         3.501045\n",
       "rmse          1.780509         1.871108"
      ]
     },
     "execution_count": 94,
     "metadata": {},
     "output_type": "execute_result"
    }
   ],
   "source": [
    "final=train_val(y_train, y_train_pred, y_test, y_pred, \"elastic_cv\")\n",
    "final"
   ]
  },
  {
   "cell_type": "code",
   "execution_count": 95,
   "metadata": {},
   "outputs": [],
   "source": [
    "def eval_metric(actual, pred):\n",
    "    mae = mean_absolute_error(actual, pred)\n",
    "    mse = mean_squared_error(actual, pred)\n",
    "    rmse = np.sqrt(mean_squared_error(actual, pred))\n",
    "    R2_score = r2_score(actual, pred)\n",
    "    print(\"Model testing performance:\")\n",
    "    print(\"--------------------------\")\n",
    "    print(f\"R2_score \\t: {R2_score}\")\n",
    "    print(f\"MAE \\t\\t: {mae}\")\n",
    "    print(f\"MSE \\t\\t: {mse}\")\n",
    "    print(f\"RMSE \\t\\t: {rmse}\")"
   ]
  },
  {
   "cell_type": "code",
   "execution_count": 96,
   "metadata": {},
   "outputs": [
    {
     "name": "stdout",
     "output_type": "stream",
     "text": [
      "Model testing performance:\n",
      "--------------------------\n",
      "R2_score \t: 0.8107607974205139\n",
      "MAE \t\t: 1.3305359440899436\n",
      "MSE \t\t: 3.501044782206314\n",
      "RMSE \t\t: 1.8711079023419024\n"
     ]
    }
   ],
   "source": [
    "eval_metric(y_test, y_pred)"
   ]
  },
  {
   "cell_type": "code",
   "execution_count": null,
   "metadata": {},
   "outputs": [],
   "source": []
  }
 ],
 "metadata": {
  "colab": {
   "name": "used_car_price_prediction_assignment1.ipynb",
   "provenance": []
  },
  "kernelspec": {
   "display_name": "Python 3 (ipykernel)",
   "language": "python",
   "name": "python3"
  },
  "language_info": {
   "codemirror_mode": {
    "name": "ipython",
    "version": 3
   },
   "file_extension": ".py",
   "mimetype": "text/x-python",
   "name": "python",
   "nbconvert_exporter": "python",
   "pygments_lexer": "ipython3",
   "version": "3.9.7"
  }
 },
 "nbformat": 4,
 "nbformat_minor": 1
}
