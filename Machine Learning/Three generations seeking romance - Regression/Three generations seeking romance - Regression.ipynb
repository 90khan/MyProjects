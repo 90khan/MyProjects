{
 "cells": [
  {
   "cell_type": "code",
   "execution_count": 1,
   "id": "8f30e253",
   "metadata": {},
   "outputs": [],
   "source": [
    "import pandas as pd"
   ]
  },
  {
   "cell_type": "code",
   "execution_count": 2,
   "id": "8bfe46df",
   "metadata": {},
   "outputs": [
    {
     "name": "stderr",
     "output_type": "stream",
     "text": [
      "C:\\Users\\hfran\\anaconda3\\lib\\site-packages\\IPython\\core\\interactiveshell.py:3444: DtypeWarning: Columns (1,2,3,4,5,6,7,8,9,10,11,12,13,14,15,16,19,20,21,22,23,24,25,26,27,28,29,30) have mixed types.Specify dtype option on import or set low_memory=False.\n",
      "  exec(code_obj, self.user_global_ns, self.user_ns)\n"
     ]
    }
   ],
   "source": [
    "df=pd.read_csv('profiles.csv')"
   ]
  },
  {
   "cell_type": "code",
   "execution_count": 3,
   "id": "141a3731",
   "metadata": {},
   "outputs": [
    {
     "data": {
      "text/html": [
       "<div>\n",
       "<style scoped>\n",
       "    .dataframe tbody tr th:only-of-type {\n",
       "        vertical-align: middle;\n",
       "    }\n",
       "\n",
       "    .dataframe tbody tr th {\n",
       "        vertical-align: top;\n",
       "    }\n",
       "\n",
       "    .dataframe thead th {\n",
       "        text-align: right;\n",
       "    }\n",
       "</style>\n",
       "<table border=\"1\" class=\"dataframe\">\n",
       "  <thead>\n",
       "    <tr style=\"text-align: right;\">\n",
       "      <th></th>\n",
       "      <th>age</th>\n",
       "      <th>body_type</th>\n",
       "      <th>diet</th>\n",
       "      <th>drinks</th>\n",
       "      <th>drugs</th>\n",
       "      <th>education</th>\n",
       "      <th>essay0</th>\n",
       "      <th>essay1</th>\n",
       "      <th>essay2</th>\n",
       "      <th>essay3</th>\n",
       "      <th>...</th>\n",
       "      <th>location</th>\n",
       "      <th>offspring</th>\n",
       "      <th>orientation</th>\n",
       "      <th>pets</th>\n",
       "      <th>religion</th>\n",
       "      <th>sex</th>\n",
       "      <th>sign</th>\n",
       "      <th>smokes</th>\n",
       "      <th>speaks</th>\n",
       "      <th>status</th>\n",
       "    </tr>\n",
       "  </thead>\n",
       "  <tbody>\n",
       "    <tr>\n",
       "      <th>0</th>\n",
       "      <td>22.0</td>\n",
       "      <td>a little extra</td>\n",
       "      <td>strictly anything</td>\n",
       "      <td>socially</td>\n",
       "      <td>never</td>\n",
       "      <td>working on college/university</td>\n",
       "      <td>about me:&lt;br /&gt;\\n&lt;br /&gt;\\ni would love to think...</td>\n",
       "      <td>currently working as an international agent fo...</td>\n",
       "      <td>making people laugh.&lt;br /&gt;\\nranting about a go...</td>\n",
       "      <td>the way i look. i am a six foot half asian, ha...</td>\n",
       "      <td>...</td>\n",
       "      <td>south san francisco, california</td>\n",
       "      <td>doesn&amp;rsquo;t have kids, but might want them</td>\n",
       "      <td>straight</td>\n",
       "      <td>likes dogs and likes cats</td>\n",
       "      <td>agnosticism and very serious about it</td>\n",
       "      <td>m</td>\n",
       "      <td>gemini</td>\n",
       "      <td>sometimes</td>\n",
       "      <td>english</td>\n",
       "      <td>single</td>\n",
       "    </tr>\n",
       "    <tr>\n",
       "      <th>1</th>\n",
       "      <td>35.0</td>\n",
       "      <td>average</td>\n",
       "      <td>mostly other</td>\n",
       "      <td>often</td>\n",
       "      <td>sometimes</td>\n",
       "      <td>working on space camp</td>\n",
       "      <td>i am a chef: this is what that means.&lt;br /&gt;\\n1...</td>\n",
       "      <td>dedicating everyday to being an unbelievable b...</td>\n",
       "      <td>being silly. having ridiculous amonts of fun w...</td>\n",
       "      <td>NaN</td>\n",
       "      <td>...</td>\n",
       "      <td>oakland, california</td>\n",
       "      <td>doesn&amp;rsquo;t have kids, but might want them</td>\n",
       "      <td>straight</td>\n",
       "      <td>likes dogs and likes cats</td>\n",
       "      <td>agnosticism but not too serious about it</td>\n",
       "      <td>m</td>\n",
       "      <td>cancer</td>\n",
       "      <td>no</td>\n",
       "      <td>english (fluently), spanish (poorly), french (...</td>\n",
       "      <td>single</td>\n",
       "    </tr>\n",
       "    <tr>\n",
       "      <th>2</th>\n",
       "      <td>38.0</td>\n",
       "      <td>thin</td>\n",
       "      <td>anything</td>\n",
       "      <td>socially</td>\n",
       "      <td>NaN</td>\n",
       "      <td>graduated from masters program</td>\n",
       "      <td>i'm not ashamed of much, but writing public te...</td>\n",
       "      <td>i make nerdy software for musicians, artists, ...</td>\n",
       "      <td>improvising in different contexts. alternating...</td>\n",
       "      <td>my large jaw and large glasses are the physica...</td>\n",
       "      <td>...</td>\n",
       "      <td>san francisco, california</td>\n",
       "      <td>NaN</td>\n",
       "      <td>straight</td>\n",
       "      <td>has cats</td>\n",
       "      <td>NaN</td>\n",
       "      <td>m</td>\n",
       "      <td>pisces but it doesn&amp;rsquo;t matter</td>\n",
       "      <td>no</td>\n",
       "      <td>english, french, c++</td>\n",
       "      <td>available</td>\n",
       "    </tr>\n",
       "    <tr>\n",
       "      <th>3</th>\n",
       "      <td>23.0</td>\n",
       "      <td>thin</td>\n",
       "      <td>vegetarian</td>\n",
       "      <td>socially</td>\n",
       "      <td>NaN</td>\n",
       "      <td>working on college/university</td>\n",
       "      <td>i work in a library and go to school. . .</td>\n",
       "      <td>reading things written by old dead people</td>\n",
       "      <td>playing synthesizers and organizing books acco...</td>\n",
       "      <td>socially awkward but i do my best</td>\n",
       "      <td>...</td>\n",
       "      <td>berkeley, california</td>\n",
       "      <td>doesn&amp;rsquo;t want kids</td>\n",
       "      <td>straight</td>\n",
       "      <td>likes cats</td>\n",
       "      <td>NaN</td>\n",
       "      <td>m</td>\n",
       "      <td>pisces</td>\n",
       "      <td>no</td>\n",
       "      <td>english, german (poorly)</td>\n",
       "      <td>single</td>\n",
       "    </tr>\n",
       "    <tr>\n",
       "      <th>4</th>\n",
       "      <td>29.0</td>\n",
       "      <td>athletic</td>\n",
       "      <td>NaN</td>\n",
       "      <td>socially</td>\n",
       "      <td>never</td>\n",
       "      <td>graduated from college/university</td>\n",
       "      <td>hey how's it going? currently vague on the pro...</td>\n",
       "      <td>work work work work + play</td>\n",
       "      <td>creating imagery to look at:&lt;br /&gt;\\nhttp://bag...</td>\n",
       "      <td>i smile a lot and my inquisitive nature</td>\n",
       "      <td>...</td>\n",
       "      <td>san francisco, california</td>\n",
       "      <td>NaN</td>\n",
       "      <td>straight</td>\n",
       "      <td>likes dogs and likes cats</td>\n",
       "      <td>NaN</td>\n",
       "      <td>m</td>\n",
       "      <td>aquarius</td>\n",
       "      <td>no</td>\n",
       "      <td>english</td>\n",
       "      <td>single</td>\n",
       "    </tr>\n",
       "  </tbody>\n",
       "</table>\n",
       "<p>5 rows × 31 columns</p>\n",
       "</div>"
      ],
      "text/plain": [
       "    age       body_type               diet    drinks      drugs  \\\n",
       "0  22.0  a little extra  strictly anything  socially      never   \n",
       "1  35.0         average       mostly other     often  sometimes   \n",
       "2  38.0            thin           anything  socially        NaN   \n",
       "3  23.0            thin         vegetarian  socially        NaN   \n",
       "4  29.0        athletic                NaN  socially      never   \n",
       "\n",
       "                           education  \\\n",
       "0      working on college/university   \n",
       "1              working on space camp   \n",
       "2     graduated from masters program   \n",
       "3      working on college/university   \n",
       "4  graduated from college/university   \n",
       "\n",
       "                                              essay0  \\\n",
       "0  about me:<br />\\n<br />\\ni would love to think...   \n",
       "1  i am a chef: this is what that means.<br />\\n1...   \n",
       "2  i'm not ashamed of much, but writing public te...   \n",
       "3          i work in a library and go to school. . .   \n",
       "4  hey how's it going? currently vague on the pro...   \n",
       "\n",
       "                                              essay1  \\\n",
       "0  currently working as an international agent fo...   \n",
       "1  dedicating everyday to being an unbelievable b...   \n",
       "2  i make nerdy software for musicians, artists, ...   \n",
       "3          reading things written by old dead people   \n",
       "4                         work work work work + play   \n",
       "\n",
       "                                              essay2  \\\n",
       "0  making people laugh.<br />\\nranting about a go...   \n",
       "1  being silly. having ridiculous amonts of fun w...   \n",
       "2  improvising in different contexts. alternating...   \n",
       "3  playing synthesizers and organizing books acco...   \n",
       "4  creating imagery to look at:<br />\\nhttp://bag...   \n",
       "\n",
       "                                              essay3  ...  \\\n",
       "0  the way i look. i am a six foot half asian, ha...  ...   \n",
       "1                                                NaN  ...   \n",
       "2  my large jaw and large glasses are the physica...  ...   \n",
       "3                  socially awkward but i do my best  ...   \n",
       "4            i smile a lot and my inquisitive nature  ...   \n",
       "\n",
       "                          location  \\\n",
       "0  south san francisco, california   \n",
       "1              oakland, california   \n",
       "2        san francisco, california   \n",
       "3             berkeley, california   \n",
       "4        san francisco, california   \n",
       "\n",
       "                                      offspring orientation  \\\n",
       "0  doesn&rsquo;t have kids, but might want them    straight   \n",
       "1  doesn&rsquo;t have kids, but might want them    straight   \n",
       "2                                           NaN    straight   \n",
       "3                       doesn&rsquo;t want kids    straight   \n",
       "4                                           NaN    straight   \n",
       "\n",
       "                        pets                                  religion sex  \\\n",
       "0  likes dogs and likes cats     agnosticism and very serious about it   m   \n",
       "1  likes dogs and likes cats  agnosticism but not too serious about it   m   \n",
       "2                   has cats                                       NaN   m   \n",
       "3                 likes cats                                       NaN   m   \n",
       "4  likes dogs and likes cats                                       NaN   m   \n",
       "\n",
       "                                 sign     smokes  \\\n",
       "0                              gemini  sometimes   \n",
       "1                              cancer         no   \n",
       "2  pisces but it doesn&rsquo;t matter         no   \n",
       "3                              pisces         no   \n",
       "4                            aquarius         no   \n",
       "\n",
       "                                              speaks     status  \n",
       "0                                            english     single  \n",
       "1  english (fluently), spanish (poorly), french (...     single  \n",
       "2                               english, french, c++  available  \n",
       "3                           english, german (poorly)     single  \n",
       "4                                            english     single  \n",
       "\n",
       "[5 rows x 31 columns]"
      ]
     },
     "execution_count": 3,
     "metadata": {},
     "output_type": "execute_result"
    }
   ],
   "source": [
    "df.head()"
   ]
  },
  {
   "cell_type": "code",
   "execution_count": 4,
   "id": "d61f33bc",
   "metadata": {},
   "outputs": [
    {
     "name": "stdout",
     "output_type": "stream",
     "text": [
      "<class 'pandas.core.frame.DataFrame'>\n",
      "RangeIndex: 60552 entries, 0 to 60551\n",
      "Data columns (total 31 columns):\n",
      " #   Column       Non-Null Count  Dtype  \n",
      "---  ------       --------------  -----  \n",
      " 0   age          9514 non-null   float64\n",
      " 1   body_type    8666 non-null   object \n",
      " 2   diet         5761 non-null   object \n",
      " 3   drinks       9012 non-null   object \n",
      " 4   drugs        7215 non-null   object \n",
      " 5   education    8459 non-null   object \n",
      " 6   essay0       8667 non-null   object \n",
      " 7   essay1       8347 non-null   object \n",
      " 8   essay2       8049 non-null   object \n",
      " 9   essay3       7690 non-null   object \n",
      " 10  essay4       7879 non-null   object \n",
      " 11  essay5       7814 non-null   object \n",
      " 12  essay6       7352 non-null   object \n",
      " 13  essay7       7553 non-null   object \n",
      " 14  essay8       6361 non-null   object \n",
      " 15  essay9       7554 non-null   object \n",
      " 16  ethnicity    8565 non-null   object \n",
      " 17  height       9514 non-null   float64\n",
      " 18  income       9514 non-null   float64\n",
      " 19  job          8183 non-null   object \n",
      " 20  last_online  9514 non-null   object \n",
      " 21  location     9514 non-null   object \n",
      " 22  offspring    3886 non-null   object \n",
      " 23  orientation  9514 non-null   object \n",
      " 24  pets         6352 non-null   object \n",
      " 25  religion     6261 non-null   object \n",
      " 26  sex          9514 non-null   object \n",
      " 27  sign         7776 non-null   object \n",
      " 28  smokes       8596 non-null   object \n",
      " 29  speaks       9508 non-null   object \n",
      " 30  status       9514 non-null   object \n",
      "dtypes: float64(3), object(28)\n",
      "memory usage: 14.3+ MB\n"
     ]
    }
   ],
   "source": [
    "df.info()"
   ]
  },
  {
   "cell_type": "code",
   "execution_count": 5,
   "id": "b78aec91",
   "metadata": {},
   "outputs": [
    {
     "data": {
      "text/plain": [
       "age            51038\n",
       "body_type      51886\n",
       "diet           54791\n",
       "drinks         51540\n",
       "drugs          53337\n",
       "education      52093\n",
       "essay0         51885\n",
       "essay1         52205\n",
       "essay2         52503\n",
       "essay3         52862\n",
       "essay4         52673\n",
       "essay5         52738\n",
       "essay6         53200\n",
       "essay7         52999\n",
       "essay8         54191\n",
       "essay9         52998\n",
       "ethnicity      51987\n",
       "height         51038\n",
       "income         51038\n",
       "job            52369\n",
       "last_online    51038\n",
       "location       51038\n",
       "offspring      56666\n",
       "orientation    51038\n",
       "pets           54200\n",
       "religion       54291\n",
       "sex            51038\n",
       "sign           52776\n",
       "smokes         51956\n",
       "speaks         51044\n",
       "status         51038\n",
       "dtype: int64"
      ]
     },
     "execution_count": 5,
     "metadata": {},
     "output_type": "execute_result"
    }
   ],
   "source": [
    "df.isnull().sum()"
   ]
  },
  {
   "cell_type": "code",
   "execution_count": 6,
   "id": "60e3d314",
   "metadata": {},
   "outputs": [],
   "source": [
    "df=df.iloc[:9514] # sondaki boş kısımları siliyoruz"
   ]
  },
  {
   "cell_type": "code",
   "execution_count": 7,
   "id": "0831d628",
   "metadata": {},
   "outputs": [
    {
     "data": {
      "text/plain": [
       "array(['straight', 'bisexual', 'gay'], dtype=object)"
      ]
     },
     "execution_count": 7,
     "metadata": {},
     "output_type": "execute_result"
    }
   ],
   "source": [
    "df['orientation'].unique()"
   ]
  },
  {
   "cell_type": "code",
   "execution_count": 8,
   "id": "4bee8ee6",
   "metadata": {},
   "outputs": [
    {
     "data": {
      "text/plain": [
       "array(['a little extra', 'average', 'thin', 'athletic', 'fit', nan,\n",
       "       'skinny', 'curvy', 'full figured', 'jacked', 'rather not say',\n",
       "       'used up', 'overweight'], dtype=object)"
      ]
     },
     "execution_count": 8,
     "metadata": {},
     "output_type": "execute_result"
    }
   ],
   "source": [
    "df['body_type'].unique()"
   ]
  },
  {
   "cell_type": "code",
   "execution_count": 9,
   "id": "1bb9d041",
   "metadata": {},
   "outputs": [],
   "source": [
    "df=df.drop(['essay0','essay1','essay2','essay3','essay4','essay5','essay6','essay7','essay8','essay9'],axis=1)"
   ]
  },
  {
   "cell_type": "code",
   "execution_count": 10,
   "id": "15761b62",
   "metadata": {},
   "outputs": [
    {
     "data": {
      "text/plain": [
       "((9514, 21),\n",
       " Index(['age', 'body_type', 'diet', 'drinks', 'drugs', 'education', 'ethnicity',\n",
       "        'height', 'income', 'job', 'last_online', 'location', 'offspring',\n",
       "        'orientation', 'pets', 'religion', 'sex', 'sign', 'smokes', 'speaks',\n",
       "        'status'],\n",
       "       dtype='object'))"
      ]
     },
     "execution_count": 10,
     "metadata": {},
     "output_type": "execute_result"
    }
   ],
   "source": [
    "df.shape, df.columns"
   ]
  },
  {
   "cell_type": "code",
   "execution_count": 11,
   "id": "839d3a87",
   "metadata": {},
   "outputs": [
    {
     "data": {
      "text/plain": [
       "array(['single', 'available', 'seeing someone', 'married'], dtype=object)"
      ]
     },
     "execution_count": 11,
     "metadata": {},
     "output_type": "execute_result"
    }
   ],
   "source": [
    "df['status'].unique()"
   ]
  },
  {
   "cell_type": "code",
   "execution_count": 12,
   "id": "24fa3361",
   "metadata": {},
   "outputs": [
    {
     "data": {
      "text/plain": [
       "array(['a little extra', 'average', 'thin', 'athletic', 'fit', nan,\n",
       "       'skinny', 'curvy', 'full figured', 'jacked', 'rather not say',\n",
       "       'used up', 'overweight'], dtype=object)"
      ]
     },
     "execution_count": 12,
     "metadata": {},
     "output_type": "execute_result"
    }
   ],
   "source": [
    "df['body_type'].unique()"
   ]
  },
  {
   "cell_type": "code",
   "execution_count": 13,
   "id": "e7c23bfa",
   "metadata": {},
   "outputs": [],
   "source": [
    "df.replace({'athletic':'fit','curv':'full figured','rather not say':'nan','0':'nan'},inplace=True)\n",
    "df.replace({'used up':'thin','skinny':'thin','a little extra':'average'},inplace=True)"
   ]
  },
  {
   "cell_type": "code",
   "execution_count": 14,
   "id": "41174e88",
   "metadata": {},
   "outputs": [
    {
     "data": {
      "text/plain": [
       "array(['average', 'thin', 'fit', nan, 'curvy', 'full figured', 'jacked',\n",
       "       'nan', 'overweight'], dtype=object)"
      ]
     },
     "execution_count": 14,
     "metadata": {},
     "output_type": "execute_result"
    }
   ],
   "source": [
    "df['body_type'].unique()"
   ]
  },
  {
   "cell_type": "code",
   "execution_count": 15,
   "id": "87a69887",
   "metadata": {},
   "outputs": [
    {
     "data": {
      "text/plain": [
       "fit             3928\n",
       "average         2704\n",
       "thin            1056\n",
       "curvy            626\n",
       "full figured     181\n",
       "overweight        69\n",
       "jacked            64\n",
       "nan               38\n",
       "Name: body_type, dtype: int64"
      ]
     },
     "execution_count": 15,
     "metadata": {},
     "output_type": "execute_result"
    }
   ],
   "source": [
    "df['body_type'].value_counts()"
   ]
  },
  {
   "cell_type": "code",
   "execution_count": 16,
   "id": "0c4298fe",
   "metadata": {},
   "outputs": [
    {
     "data": {
      "text/plain": [
       "array(['strictly anything', 'mostly other', 'anything', 'vegetarian', nan,\n",
       "       'mostly anything', 'mostly vegetarian', 'strictly vegan',\n",
       "       'strictly vegetarian', 'mostly vegan', 'strictly other',\n",
       "       'mostly halal', 'other', 'vegan', 'mostly kosher',\n",
       "       'strictly halal', 'halal', 'strictly kosher', 'kosher'],\n",
       "      dtype=object)"
      ]
     },
     "execution_count": 16,
     "metadata": {},
     "output_type": "execute_result"
    }
   ],
   "source": [
    "df['diet'].unique()"
   ]
  },
  {
   "cell_type": "code",
   "execution_count": 17,
   "id": "a98914ec",
   "metadata": {},
   "outputs": [],
   "source": [
    "df['diet']=df['diet'].str.replace('mostly','').str.replace('strictly','')"
   ]
  },
  {
   "cell_type": "code",
   "execution_count": 18,
   "id": "31b16c64",
   "metadata": {},
   "outputs": [
    {
     "data": {
      "text/html": [
       "<div>\n",
       "<style scoped>\n",
       "    .dataframe tbody tr th:only-of-type {\n",
       "        vertical-align: middle;\n",
       "    }\n",
       "\n",
       "    .dataframe tbody tr th {\n",
       "        vertical-align: top;\n",
       "    }\n",
       "\n",
       "    .dataframe thead th {\n",
       "        text-align: right;\n",
       "    }\n",
       "</style>\n",
       "<table border=\"1\" class=\"dataframe\">\n",
       "  <thead>\n",
       "    <tr style=\"text-align: right;\">\n",
       "      <th></th>\n",
       "      <th>age</th>\n",
       "      <th>body_type</th>\n",
       "      <th>diet</th>\n",
       "      <th>drinks</th>\n",
       "      <th>drugs</th>\n",
       "      <th>education</th>\n",
       "      <th>ethnicity</th>\n",
       "      <th>height</th>\n",
       "      <th>income</th>\n",
       "      <th>job</th>\n",
       "      <th>...</th>\n",
       "      <th>location</th>\n",
       "      <th>offspring</th>\n",
       "      <th>orientation</th>\n",
       "      <th>pets</th>\n",
       "      <th>religion</th>\n",
       "      <th>sex</th>\n",
       "      <th>sign</th>\n",
       "      <th>smokes</th>\n",
       "      <th>speaks</th>\n",
       "      <th>status</th>\n",
       "    </tr>\n",
       "  </thead>\n",
       "  <tbody>\n",
       "    <tr>\n",
       "      <th>0</th>\n",
       "      <td>22.0</td>\n",
       "      <td>average</td>\n",
       "      <td>anything</td>\n",
       "      <td>socially</td>\n",
       "      <td>never</td>\n",
       "      <td>working on college/university</td>\n",
       "      <td>asian, white</td>\n",
       "      <td>75.0</td>\n",
       "      <td>-1.0</td>\n",
       "      <td>transportation</td>\n",
       "      <td>...</td>\n",
       "      <td>south san francisco, california</td>\n",
       "      <td>doesn&amp;rsquo;t have kids, but might want them</td>\n",
       "      <td>straight</td>\n",
       "      <td>likes dogs and likes cats</td>\n",
       "      <td>agnosticism and very serious about it</td>\n",
       "      <td>m</td>\n",
       "      <td>gemini</td>\n",
       "      <td>sometimes</td>\n",
       "      <td>english</td>\n",
       "      <td>single</td>\n",
       "    </tr>\n",
       "    <tr>\n",
       "      <th>1</th>\n",
       "      <td>35.0</td>\n",
       "      <td>average</td>\n",
       "      <td>other</td>\n",
       "      <td>often</td>\n",
       "      <td>sometimes</td>\n",
       "      <td>working on space camp</td>\n",
       "      <td>white</td>\n",
       "      <td>70.0</td>\n",
       "      <td>80000.0</td>\n",
       "      <td>hospitality / travel</td>\n",
       "      <td>...</td>\n",
       "      <td>oakland, california</td>\n",
       "      <td>doesn&amp;rsquo;t have kids, but might want them</td>\n",
       "      <td>straight</td>\n",
       "      <td>likes dogs and likes cats</td>\n",
       "      <td>agnosticism but not too serious about it</td>\n",
       "      <td>m</td>\n",
       "      <td>cancer</td>\n",
       "      <td>no</td>\n",
       "      <td>english (fluently), spanish (poorly), french (...</td>\n",
       "      <td>single</td>\n",
       "    </tr>\n",
       "    <tr>\n",
       "      <th>2</th>\n",
       "      <td>38.0</td>\n",
       "      <td>thin</td>\n",
       "      <td>anything</td>\n",
       "      <td>socially</td>\n",
       "      <td>NaN</td>\n",
       "      <td>graduated from masters program</td>\n",
       "      <td>NaN</td>\n",
       "      <td>68.0</td>\n",
       "      <td>-1.0</td>\n",
       "      <td>NaN</td>\n",
       "      <td>...</td>\n",
       "      <td>san francisco, california</td>\n",
       "      <td>NaN</td>\n",
       "      <td>straight</td>\n",
       "      <td>has cats</td>\n",
       "      <td>NaN</td>\n",
       "      <td>m</td>\n",
       "      <td>pisces but it doesn&amp;rsquo;t matter</td>\n",
       "      <td>no</td>\n",
       "      <td>english, french, c++</td>\n",
       "      <td>available</td>\n",
       "    </tr>\n",
       "    <tr>\n",
       "      <th>3</th>\n",
       "      <td>23.0</td>\n",
       "      <td>thin</td>\n",
       "      <td>vegetarian</td>\n",
       "      <td>socially</td>\n",
       "      <td>NaN</td>\n",
       "      <td>working on college/university</td>\n",
       "      <td>white</td>\n",
       "      <td>71.0</td>\n",
       "      <td>20000.0</td>\n",
       "      <td>student</td>\n",
       "      <td>...</td>\n",
       "      <td>berkeley, california</td>\n",
       "      <td>doesn&amp;rsquo;t want kids</td>\n",
       "      <td>straight</td>\n",
       "      <td>likes cats</td>\n",
       "      <td>NaN</td>\n",
       "      <td>m</td>\n",
       "      <td>pisces</td>\n",
       "      <td>no</td>\n",
       "      <td>english, german (poorly)</td>\n",
       "      <td>single</td>\n",
       "    </tr>\n",
       "    <tr>\n",
       "      <th>4</th>\n",
       "      <td>29.0</td>\n",
       "      <td>fit</td>\n",
       "      <td>NaN</td>\n",
       "      <td>socially</td>\n",
       "      <td>never</td>\n",
       "      <td>graduated from college/university</td>\n",
       "      <td>asian, black, other</td>\n",
       "      <td>66.0</td>\n",
       "      <td>-1.0</td>\n",
       "      <td>artistic / musical / writer</td>\n",
       "      <td>...</td>\n",
       "      <td>san francisco, california</td>\n",
       "      <td>NaN</td>\n",
       "      <td>straight</td>\n",
       "      <td>likes dogs and likes cats</td>\n",
       "      <td>NaN</td>\n",
       "      <td>m</td>\n",
       "      <td>aquarius</td>\n",
       "      <td>no</td>\n",
       "      <td>english</td>\n",
       "      <td>single</td>\n",
       "    </tr>\n",
       "    <tr>\n",
       "      <th>...</th>\n",
       "      <td>...</td>\n",
       "      <td>...</td>\n",
       "      <td>...</td>\n",
       "      <td>...</td>\n",
       "      <td>...</td>\n",
       "      <td>...</td>\n",
       "      <td>...</td>\n",
       "      <td>...</td>\n",
       "      <td>...</td>\n",
       "      <td>...</td>\n",
       "      <td>...</td>\n",
       "      <td>...</td>\n",
       "      <td>...</td>\n",
       "      <td>...</td>\n",
       "      <td>...</td>\n",
       "      <td>...</td>\n",
       "      <td>...</td>\n",
       "      <td>...</td>\n",
       "      <td>...</td>\n",
       "      <td>...</td>\n",
       "      <td>...</td>\n",
       "    </tr>\n",
       "    <tr>\n",
       "      <th>9509</th>\n",
       "      <td>28.0</td>\n",
       "      <td>fit</td>\n",
       "      <td>anything</td>\n",
       "      <td>socially</td>\n",
       "      <td>never</td>\n",
       "      <td>working on med school</td>\n",
       "      <td>white</td>\n",
       "      <td>73.0</td>\n",
       "      <td>60000.0</td>\n",
       "      <td>medicine / health</td>\n",
       "      <td>...</td>\n",
       "      <td>san francisco, california</td>\n",
       "      <td>doesn&amp;rsquo;t have kids, but wants them</td>\n",
       "      <td>straight</td>\n",
       "      <td>likes dogs and likes cats</td>\n",
       "      <td>christianity</td>\n",
       "      <td>m</td>\n",
       "      <td>aries and it&amp;rsquo;s fun to think about</td>\n",
       "      <td>no</td>\n",
       "      <td>english, spanish (okay)</td>\n",
       "      <td>single</td>\n",
       "    </tr>\n",
       "    <tr>\n",
       "      <th>9510</th>\n",
       "      <td>31.0</td>\n",
       "      <td>fit</td>\n",
       "      <td>anything</td>\n",
       "      <td>socially</td>\n",
       "      <td>sometimes</td>\n",
       "      <td>NaN</td>\n",
       "      <td>white</td>\n",
       "      <td>72.0</td>\n",
       "      <td>-1.0</td>\n",
       "      <td>hospitality / travel</td>\n",
       "      <td>...</td>\n",
       "      <td>san francisco, california</td>\n",
       "      <td>NaN</td>\n",
       "      <td>gay</td>\n",
       "      <td>NaN</td>\n",
       "      <td>atheism</td>\n",
       "      <td>m</td>\n",
       "      <td>scorpio but it doesn&amp;rsquo;t matter</td>\n",
       "      <td>sometimes</td>\n",
       "      <td>english</td>\n",
       "      <td>single</td>\n",
       "    </tr>\n",
       "    <tr>\n",
       "      <th>9511</th>\n",
       "      <td>34.0</td>\n",
       "      <td>average</td>\n",
       "      <td>NaN</td>\n",
       "      <td>socially</td>\n",
       "      <td>NaN</td>\n",
       "      <td>dropped out of college/university</td>\n",
       "      <td>white</td>\n",
       "      <td>71.0</td>\n",
       "      <td>-1.0</td>\n",
       "      <td>hospitality / travel</td>\n",
       "      <td>...</td>\n",
       "      <td>san francisco, california</td>\n",
       "      <td>doesn&amp;rsquo;t want kids</td>\n",
       "      <td>gay</td>\n",
       "      <td>likes dogs and has cats</td>\n",
       "      <td>atheism and laughing about it</td>\n",
       "      <td>m</td>\n",
       "      <td>leo and it&amp;rsquo;s fun to think about</td>\n",
       "      <td>when drinking</td>\n",
       "      <td>english (fluently)</td>\n",
       "      <td>single</td>\n",
       "    </tr>\n",
       "    <tr>\n",
       "      <th>9512</th>\n",
       "      <td>29.0</td>\n",
       "      <td>fit</td>\n",
       "      <td>anything</td>\n",
       "      <td>rarely</td>\n",
       "      <td>never</td>\n",
       "      <td>two-year college</td>\n",
       "      <td>white</td>\n",
       "      <td>70.0</td>\n",
       "      <td>-1.0</td>\n",
       "      <td>NaN</td>\n",
       "      <td>...</td>\n",
       "      <td>san francisco, california</td>\n",
       "      <td>doesn&amp;rsquo;t have kids, and doesn&amp;rsquo;t wan...</td>\n",
       "      <td>gay</td>\n",
       "      <td>likes dogs and has cats</td>\n",
       "      <td>NaN</td>\n",
       "      <td>m</td>\n",
       "      <td>aries</td>\n",
       "      <td>no</td>\n",
       "      <td>english (fluently), french (okay), swedish (po...</td>\n",
       "      <td>single</td>\n",
       "    </tr>\n",
       "    <tr>\n",
       "      <th>9513</th>\n",
       "      <td>49.0</td>\n",
       "      <td>overweight</td>\n",
       "      <td>NaN</td>\n",
       "      <td>rarely</td>\n",
       "      <td>never</td>\n",
       "      <td>graduated from college/university</td>\n",
       "      <td>white</td>\n",
       "      <td>64.0</td>\n",
       "      <td>-1.0</td>\n",
       "      <td>nan</td>\n",
       "      <td>...</td>\n",
       "      <td>castro valley, california</td>\n",
       "      <td>NaN</td>\n",
       "      <td>straight</td>\n",
       "      <td>likes dogs and likes cats</td>\n",
       "      <td>NaN</td>\n",
       "      <td>f</td>\n",
       "      <td>pisces and it&amp;rsquo;s fun to think about</td>\n",
       "      <td>no</td>\n",
       "      <td>english</td>\n",
       "      <td>single</td>\n",
       "    </tr>\n",
       "  </tbody>\n",
       "</table>\n",
       "<p>9514 rows × 21 columns</p>\n",
       "</div>"
      ],
      "text/plain": [
       "       age   body_type        diet    drinks      drugs  \\\n",
       "0     22.0     average    anything  socially      never   \n",
       "1     35.0     average       other     often  sometimes   \n",
       "2     38.0        thin    anything  socially        NaN   \n",
       "3     23.0        thin  vegetarian  socially        NaN   \n",
       "4     29.0         fit         NaN  socially      never   \n",
       "...    ...         ...         ...       ...        ...   \n",
       "9509  28.0         fit    anything  socially      never   \n",
       "9510  31.0         fit    anything  socially  sometimes   \n",
       "9511  34.0     average         NaN  socially        NaN   \n",
       "9512  29.0         fit    anything    rarely      never   \n",
       "9513  49.0  overweight         NaN    rarely      never   \n",
       "\n",
       "                              education            ethnicity  height   income  \\\n",
       "0         working on college/university         asian, white    75.0     -1.0   \n",
       "1                 working on space camp                white    70.0  80000.0   \n",
       "2        graduated from masters program                  NaN    68.0     -1.0   \n",
       "3         working on college/university                white    71.0  20000.0   \n",
       "4     graduated from college/university  asian, black, other    66.0     -1.0   \n",
       "...                                 ...                  ...     ...      ...   \n",
       "9509              working on med school                white    73.0  60000.0   \n",
       "9510                                NaN                white    72.0     -1.0   \n",
       "9511  dropped out of college/university                white    71.0     -1.0   \n",
       "9512                   two-year college                white    70.0     -1.0   \n",
       "9513  graduated from college/university                white    64.0     -1.0   \n",
       "\n",
       "                              job  ...                         location  \\\n",
       "0                  transportation  ...  south san francisco, california   \n",
       "1            hospitality / travel  ...              oakland, california   \n",
       "2                             NaN  ...        san francisco, california   \n",
       "3                         student  ...             berkeley, california   \n",
       "4     artistic / musical / writer  ...        san francisco, california   \n",
       "...                           ...  ...                              ...   \n",
       "9509            medicine / health  ...        san francisco, california   \n",
       "9510         hospitality / travel  ...        san francisco, california   \n",
       "9511         hospitality / travel  ...        san francisco, california   \n",
       "9512                          NaN  ...        san francisco, california   \n",
       "9513                          nan  ...        castro valley, california   \n",
       "\n",
       "                                              offspring orientation  \\\n",
       "0          doesn&rsquo;t have kids, but might want them    straight   \n",
       "1          doesn&rsquo;t have kids, but might want them    straight   \n",
       "2                                                   NaN    straight   \n",
       "3                               doesn&rsquo;t want kids    straight   \n",
       "4                                                   NaN    straight   \n",
       "...                                                 ...         ...   \n",
       "9509            doesn&rsquo;t have kids, but wants them    straight   \n",
       "9510                                                NaN         gay   \n",
       "9511                            doesn&rsquo;t want kids         gay   \n",
       "9512  doesn&rsquo;t have kids, and doesn&rsquo;t wan...         gay   \n",
       "9513                                                NaN    straight   \n",
       "\n",
       "                           pets                                  religion sex  \\\n",
       "0     likes dogs and likes cats     agnosticism and very serious about it   m   \n",
       "1     likes dogs and likes cats  agnosticism but not too serious about it   m   \n",
       "2                      has cats                                       NaN   m   \n",
       "3                    likes cats                                       NaN   m   \n",
       "4     likes dogs and likes cats                                       NaN   m   \n",
       "...                         ...                                       ...  ..   \n",
       "9509  likes dogs and likes cats                              christianity   m   \n",
       "9510                        NaN                                   atheism   m   \n",
       "9511    likes dogs and has cats             atheism and laughing about it   m   \n",
       "9512    likes dogs and has cats                                       NaN   m   \n",
       "9513  likes dogs and likes cats                                       NaN   f   \n",
       "\n",
       "                                          sign         smokes  \\\n",
       "0                                       gemini      sometimes   \n",
       "1                                       cancer             no   \n",
       "2           pisces but it doesn&rsquo;t matter             no   \n",
       "3                                       pisces             no   \n",
       "4                                     aquarius             no   \n",
       "...                                        ...            ...   \n",
       "9509   aries and it&rsquo;s fun to think about             no   \n",
       "9510       scorpio but it doesn&rsquo;t matter      sometimes   \n",
       "9511     leo and it&rsquo;s fun to think about  when drinking   \n",
       "9512                                     aries             no   \n",
       "9513  pisces and it&rsquo;s fun to think about             no   \n",
       "\n",
       "                                                 speaks     status  \n",
       "0                                               english     single  \n",
       "1     english (fluently), spanish (poorly), french (...     single  \n",
       "2                                  english, french, c++  available  \n",
       "3                              english, german (poorly)     single  \n",
       "4                                               english     single  \n",
       "...                                                 ...        ...  \n",
       "9509                            english, spanish (okay)     single  \n",
       "9510                                            english     single  \n",
       "9511                                 english (fluently)     single  \n",
       "9512  english (fluently), french (okay), swedish (po...     single  \n",
       "9513                                            english     single  \n",
       "\n",
       "[9514 rows x 21 columns]"
      ]
     },
     "execution_count": 18,
     "metadata": {},
     "output_type": "execute_result"
    }
   ],
   "source": [
    "df.replace({'other':'anything'})"
   ]
  },
  {
   "cell_type": "code",
   "execution_count": 19,
   "id": "0fbe6f97",
   "metadata": {},
   "outputs": [
    {
     "data": {
      "text/plain": [
       "array(['socially', 'often', 'not at all', 'rarely', nan, 'very often',\n",
       "       'desperately'], dtype=object)"
      ]
     },
     "execution_count": 19,
     "metadata": {},
     "output_type": "execute_result"
    }
   ],
   "source": [
    "df['drinks'].unique()"
   ]
  },
  {
   "cell_type": "code",
   "execution_count": 20,
   "id": "aef5ecc6",
   "metadata": {},
   "outputs": [],
   "source": [
    "del df['religion']"
   ]
  },
  {
   "cell_type": "code",
   "execution_count": 21,
   "id": "a22d11dc",
   "metadata": {},
   "outputs": [],
   "source": [
    "df.replace({'often':2, 'very often':3, 'desperately':4, 'rarely':1,'socially':1,'not at all':0}, inplace=True)"
   ]
  },
  {
   "cell_type": "code",
   "execution_count": 22,
   "id": "62ad62a2",
   "metadata": {},
   "outputs": [
    {
     "data": {
      "text/plain": [
       "array(['never', 'sometimes', nan, 2], dtype=object)"
      ]
     },
     "execution_count": 22,
     "metadata": {},
     "output_type": "execute_result"
    }
   ],
   "source": [
    "df['drugs'].unique()"
   ]
  },
  {
   "cell_type": "code",
   "execution_count": 23,
   "id": "8b0a9edb",
   "metadata": {},
   "outputs": [],
   "source": [
    "df.replace({'never':0,'sometimes':1,'often':2},inplace=True)"
   ]
  },
  {
   "cell_type": "code",
   "execution_count": 24,
   "id": "3986b50f",
   "metadata": {},
   "outputs": [
    {
     "data": {
      "text/plain": [
       "array(['working on college/university', 'working on space camp',\n",
       "       'graduated from masters program',\n",
       "       'graduated from college/university', 'working on two-year college',\n",
       "       nan, 'graduated from high school', 'working on masters program',\n",
       "       'graduated from space camp', 'college/university',\n",
       "       'dropped out of space camp', 'graduated from ph.d program',\n",
       "       'graduated from law school', 'working on ph.d program',\n",
       "       'two-year college', 'graduated from two-year college',\n",
       "       'working on med school', 'dropped out of college/university',\n",
       "       'space camp', 'graduated from med school',\n",
       "       'dropped out of high school', 'working on high school',\n",
       "       'masters program', 'dropped out of ph.d program',\n",
       "       'dropped out of two-year college', 'dropped out of med school',\n",
       "       'high school', 'working on law school', 'law school',\n",
       "       'dropped out of masters program', 'ph.d program',\n",
       "       'dropped out of law school'], dtype=object)"
      ]
     },
     "execution_count": 24,
     "metadata": {},
     "output_type": "execute_result"
    }
   ],
   "source": [
    "df['education'].unique()"
   ]
  },
  {
   "cell_type": "code",
   "execution_count": 25,
   "id": "ff53ff17",
   "metadata": {},
   "outputs": [],
   "source": [
    "df.replace({'working on college/university':5, 'working on space camp':5,\n",
    "       'graduated from masters program':9,\n",
    "       'graduated from college/university':6, 'working on two-year college':2,\n",
    "       'nan':0, 'graduated from high school':1, 'working on masters program':9,\n",
    "       'graduated from space camp':5, 'college/university':5,\n",
    "       'dropped out of space camp':5, 'graduated from ph.d program':13,\n",
    "       'graduated from law school':7, 'working on ph.d program':12,\n",
    "       'two-year college':2, 'graduated from two-year college':3,\n",
    "       'working on med school':5, 'dropped out of college/university':6,\n",
    "       'space camp':5, 'graduated from med school':6,\n",
    "       'dropped out of high school':0, 'working on high school':0,\n",
    "       'masters program':8, 'dropped out of ph.d program':10,\n",
    "       'dropped out of two-year college':1, 'dropped out of med school':4,\n",
    "       'high school':1, 'working on law school':4, 'law school':6,\n",
    "       'dropped out of masters program':7, 'ph.d program':11,\n",
    "       'dropped out of law school':4},inplace=True)"
   ]
  },
  {
   "cell_type": "code",
   "execution_count": 26,
   "id": "4c5da846",
   "metadata": {},
   "outputs": [
    {
     "data": {
      "text/plain": [
       "array([ 5.,  9.,  6.,  2., nan,  1., 13.,  7., 12.,  3.,  0.,  8., 10.,\n",
       "        4., 11.])"
      ]
     },
     "execution_count": 26,
     "metadata": {},
     "output_type": "execute_result"
    }
   ],
   "source": [
    "df['education'].unique()"
   ]
  },
  {
   "cell_type": "code",
   "execution_count": 27,
   "id": "660c48d1",
   "metadata": {},
   "outputs": [
    {
     "data": {
      "text/plain": [
       "1331"
      ]
     },
     "execution_count": 27,
     "metadata": {},
     "output_type": "execute_result"
    }
   ],
   "source": [
    "df['job'].isnull().sum()"
   ]
  },
  {
   "cell_type": "code",
   "execution_count": 28,
   "id": "c19584fc",
   "metadata": {},
   "outputs": [
    {
     "data": {
      "text/plain": [
       "0    other\n",
       "dtype: object"
      ]
     },
     "execution_count": 28,
     "metadata": {},
     "output_type": "execute_result"
    }
   ],
   "source": [
    "df['job'].mode()"
   ]
  },
  {
   "cell_type": "code",
   "execution_count": 29,
   "id": "a1ea4a19",
   "metadata": {},
   "outputs": [],
   "source": [
    "df['job']=df['job'].fillna('other')"
   ]
  },
  {
   "cell_type": "code",
   "execution_count": 30,
   "id": "ce5f54e8",
   "metadata": {},
   "outputs": [
    {
     "data": {
      "text/plain": [
       "0    san francisco, california\n",
       "dtype: object"
      ]
     },
     "execution_count": 30,
     "metadata": {},
     "output_type": "execute_result"
    }
   ],
   "source": [
    "df['location'].mode()"
   ]
  },
  {
   "cell_type": "code",
   "execution_count": 31,
   "id": "e51b7433",
   "metadata": {},
   "outputs": [
    {
     "data": {
      "text/plain": [
       "0    san francisco, california\n",
       "dtype: object"
      ]
     },
     "execution_count": 31,
     "metadata": {},
     "output_type": "execute_result"
    }
   ],
   "source": [
    "df['location'][df['ethnicity']=='white'].mode()"
   ]
  },
  {
   "cell_type": "code",
   "execution_count": 32,
   "id": "b52f8018",
   "metadata": {},
   "outputs": [],
   "source": [
    "df['ethnicity']=df['ethnicity'].fillna('white')"
   ]
  },
  {
   "cell_type": "code",
   "execution_count": 33,
   "id": "4f551c6d",
   "metadata": {},
   "outputs": [
    {
     "data": {
      "text/plain": [
       "array(['likes dogs and likes cats', 'has cats', 'likes cats', nan,\n",
       "       'has dogs and likes cats', 'likes dogs and has cats',\n",
       "       'likes dogs and dislikes cats', 'has dogs',\n",
       "       'has dogs and dislikes cats', 'likes dogs',\n",
       "       'has dogs and has cats', 'dislikes dogs and has cats',\n",
       "       'dislikes dogs and dislikes cats', 'dislikes cats',\n",
       "       'dislikes dogs and likes cats', 'dislikes dogs'], dtype=object)"
      ]
     },
     "execution_count": 33,
     "metadata": {},
     "output_type": "execute_result"
    }
   ],
   "source": [
    "df['pets'].unique()"
   ]
  },
  {
   "cell_type": "code",
   "execution_count": 34,
   "id": "19383331",
   "metadata": {},
   "outputs": [
    {
     "data": {
      "text/plain": [
       "0    likes dogs and likes cats\n",
       "dtype: object"
      ]
     },
     "execution_count": 34,
     "metadata": {},
     "output_type": "execute_result"
    }
   ],
   "source": [
    "df['pets'].mode()"
   ]
  },
  {
   "cell_type": "code",
   "execution_count": 35,
   "id": "593d0bff",
   "metadata": {},
   "outputs": [],
   "source": [
    "df['pets']=df['pets'].fillna('likes dogs and likes cats')"
   ]
  },
  {
   "cell_type": "code",
   "execution_count": 36,
   "id": "782ff214",
   "metadata": {},
   "outputs": [
    {
     "data": {
      "text/plain": [
       "array(['likes dogs and likes cats', 'has cats', 'likes cats',\n",
       "       'has dogs and likes cats', 'likes dogs and has cats',\n",
       "       'likes dogs and dislikes cats', 'has dogs',\n",
       "       'has dogs and dislikes cats', 'likes dogs',\n",
       "       'has dogs and has cats', 'dislikes dogs and has cats',\n",
       "       'dislikes dogs and dislikes cats', 'dislikes cats',\n",
       "       'dislikes dogs and likes cats', 'dislikes dogs'], dtype=object)"
      ]
     },
     "execution_count": 36,
     "metadata": {},
     "output_type": "execute_result"
    }
   ],
   "source": [
    "df['pets'].unique()"
   ]
  },
  {
   "cell_type": "code",
   "execution_count": 37,
   "id": "3955e70d",
   "metadata": {},
   "outputs": [
    {
     "data": {
      "text/plain": [
       "0    doesn&rsquo;t have kids\n",
       "dtype: object"
      ]
     },
     "execution_count": 37,
     "metadata": {},
     "output_type": "execute_result"
    }
   ],
   "source": [
    "df['offspring'].mode()"
   ]
  },
  {
   "cell_type": "code",
   "execution_count": 38,
   "id": "26528572",
   "metadata": {},
   "outputs": [],
   "source": [
    "df['offspring']=df['offspring'].fillna('doesn&rsquo;t have kids')"
   ]
  },
  {
   "cell_type": "code",
   "execution_count": 39,
   "id": "af95d28d",
   "metadata": {},
   "outputs": [
    {
     "data": {
      "text/plain": [
       "array([1, 'no', nan, 'when drinking', 'yes', 'trying to quit'],\n",
       "      dtype=object)"
      ]
     },
     "execution_count": 39,
     "metadata": {},
     "output_type": "execute_result"
    }
   ],
   "source": [
    "df['smokes'].unique()"
   ]
  },
  {
   "cell_type": "code",
   "execution_count": 40,
   "id": "53b7c6be",
   "metadata": {},
   "outputs": [],
   "source": [
    "df['smokes'].replace({'no':0,'when drinking':1, 'yes':1, 'trying to quit':0},inplace=True)"
   ]
  },
  {
   "cell_type": "code",
   "execution_count": 41,
   "id": "5d0248ba",
   "metadata": {},
   "outputs": [],
   "source": [
    "from sklearn.preprocessing import LabelEncoder\n",
    "le=LabelEncoder()"
   ]
  },
  {
   "cell_type": "code",
   "execution_count": 42,
   "id": "b781025c",
   "metadata": {},
   "outputs": [
    {
     "data": {
      "text/plain": [
       "array(['single', 'available', 'seeing someone', 'married'], dtype=object)"
      ]
     },
     "execution_count": 42,
     "metadata": {},
     "output_type": "execute_result"
    }
   ],
   "source": [
    "df['status'].unique()"
   ]
  },
  {
   "cell_type": "code",
   "execution_count": 43,
   "id": "46d3d3ad",
   "metadata": {},
   "outputs": [],
   "source": [
    "df['status']=le.fit_transform(df['status'])"
   ]
  },
  {
   "cell_type": "code",
   "execution_count": 44,
   "id": "bc668e7e",
   "metadata": {},
   "outputs": [
    {
     "data": {
      "text/plain": [
       "array([3, 0, 2, 1])"
      ]
     },
     "execution_count": 44,
     "metadata": {},
     "output_type": "execute_result"
    }
   ],
   "source": [
    "df['status'].unique()"
   ]
  },
  {
   "cell_type": "code",
   "execution_count": 45,
   "id": "14d0aa57",
   "metadata": {},
   "outputs": [],
   "source": [
    "df['drugs']=df['drugs'].fillna(0)"
   ]
  },
  {
   "cell_type": "code",
   "execution_count": 46,
   "id": "d5a5bafe",
   "metadata": {},
   "outputs": [],
   "source": [
    "df['height']=df['height'].astype('int')\n",
    "df['income']=df['income'].astype('int')\n",
    "df['sex']=le.fit_transform(df['sex'])"
   ]
  },
  {
   "cell_type": "markdown",
   "id": "16214ab4",
   "metadata": {},
   "source": [
    "### Filling missing values of smokes with XGBRegressor"
   ]
  },
  {
   "cell_type": "code",
   "execution_count": 47,
   "id": "f77c1420",
   "metadata": {},
   "outputs": [
    {
     "data": {
      "text/plain": [
       "array([ 1.,  0., nan])"
      ]
     },
     "execution_count": 47,
     "metadata": {},
     "output_type": "execute_result"
    }
   ],
   "source": [
    "df['smokes'].unique()"
   ]
  },
  {
   "cell_type": "code",
   "execution_count": 48,
   "id": "3c8731ad",
   "metadata": {},
   "outputs": [
    {
     "name": "stderr",
     "output_type": "stream",
     "text": [
      "C:\\Users\\hfran\\AppData\\Local\\Temp/ipykernel_1176/3371370588.py:3: SettingWithCopyWarning: \n",
      "A value is trying to be set on a copy of a slice from a DataFrame.\n",
      "Try using .loc[row_indexer,col_indexer] = value instead\n",
      "\n",
      "See the caveats in the documentation: https://pandas.pydata.org/pandas-docs/stable/user_guide/indexing.html#returning-a-view-versus-a-copy\n",
      "  fill['smokes']=fill['smokes'].astype('int')\n",
      "C:\\Users\\hfran\\AppData\\Local\\Temp/ipykernel_1176/3371370588.py:4: SettingWithCopyWarning: \n",
      "A value is trying to be set on a copy of a slice from a DataFrame.\n",
      "Try using .loc[row_indexer,col_indexer] = value instead\n",
      "\n",
      "See the caveats in the documentation: https://pandas.pydata.org/pandas-docs/stable/user_guide/indexing.html#returning-a-view-versus-a-copy\n",
      "  fill['drugs']=fill['drugs'].astype('int')\n"
     ]
    },
    {
     "data": {
      "text/plain": [
       "(8596, 20)"
      ]
     },
     "execution_count": 48,
     "metadata": {},
     "output_type": "execute_result"
    }
   ],
   "source": [
    "fill=df[df['smokes'].notnull()]\n",
    "null=df[df['smokes'].isnull()]\n",
    "fill['smokes']=fill['smokes'].astype('int')\n",
    "fill['drugs']=fill['drugs'].astype('int')\n",
    "fill.shape"
   ]
  },
  {
   "cell_type": "code",
   "execution_count": 49,
   "id": "bb552229",
   "metadata": {},
   "outputs": [
    {
     "data": {
      "text/plain": [
       "((8596, 5), (8596,))"
      ]
     },
     "execution_count": 49,
     "metadata": {},
     "output_type": "execute_result"
    }
   ],
   "source": [
    "x=fill[['age','height','sex','status','drugs']]\n",
    "y=fill['smokes']\n",
    "x.shape, y.shape"
   ]
  },
  {
   "cell_type": "code",
   "execution_count": 50,
   "id": "9f3bbd65",
   "metadata": {},
   "outputs": [],
   "source": [
    "from xgboost import XGBRegressor"
   ]
  },
  {
   "cell_type": "code",
   "execution_count": 51,
   "id": "1f7e7498",
   "metadata": {},
   "outputs": [],
   "source": [
    "xgbr=XGBRegressor()"
   ]
  },
  {
   "cell_type": "code",
   "execution_count": 52,
   "id": "0b7976af",
   "metadata": {},
   "outputs": [
    {
     "data": {
      "text/plain": [
       "XGBRegressor(base_score=0.5, booster='gbtree', colsample_bylevel=1,\n",
       "             colsample_bynode=1, colsample_bytree=1, enable_categorical=False,\n",
       "             gamma=0, gpu_id=-1, importance_type=None,\n",
       "             interaction_constraints='', learning_rate=0.300000012,\n",
       "             max_delta_step=0, max_depth=6, min_child_weight=1, missing=nan,\n",
       "             monotone_constraints='()', n_estimators=100, n_jobs=12,\n",
       "             num_parallel_tree=1, predictor='auto', random_state=0, reg_alpha=0,\n",
       "             reg_lambda=1, scale_pos_weight=1, subsample=1, tree_method='exact',\n",
       "             validate_parameters=1, verbosity=None)"
      ]
     },
     "execution_count": 52,
     "metadata": {},
     "output_type": "execute_result"
    }
   ],
   "source": [
    "xgbr.fit(x,y)"
   ]
  },
  {
   "cell_type": "code",
   "execution_count": 53,
   "id": "02397796",
   "metadata": {},
   "outputs": [
    {
     "data": {
      "text/plain": [
       "((918, 5), (918,))"
      ]
     },
     "execution_count": 53,
     "metadata": {},
     "output_type": "execute_result"
    }
   ],
   "source": [
    "x=null[['age','height','sex','status','drugs']]\n",
    "y=null['smokes']\n",
    "x.shape,y.shape"
   ]
  },
  {
   "cell_type": "code",
   "execution_count": 54,
   "id": "a0e558e9",
   "metadata": {},
   "outputs": [],
   "source": [
    "pred_smoke=xgbr.predict(x)"
   ]
  },
  {
   "cell_type": "code",
   "execution_count": 55,
   "id": "c5e661e0",
   "metadata": {},
   "outputs": [
    {
     "data": {
      "text/plain": [
       "0"
      ]
     },
     "execution_count": 55,
     "metadata": {},
     "output_type": "execute_result"
    }
   ],
   "source": [
    "df.loc[df['smokes'].isnull(),'smokes']=xgbr.predict(x)\n",
    "df['smokes'].isnull().sum()"
   ]
  },
  {
   "cell_type": "markdown",
   "id": "8052fee7",
   "metadata": {},
   "source": [
    "### Filling missing value of education with XGBRegressor"
   ]
  },
  {
   "cell_type": "code",
   "execution_count": 56,
   "id": "3c09d8dd",
   "metadata": {},
   "outputs": [
    {
     "data": {
      "text/plain": [
       "array([ 5.,  9.,  6.,  2., nan,  1., 13.,  7., 12.,  3.,  0.,  8., 10.,\n",
       "        4., 11.])"
      ]
     },
     "execution_count": 56,
     "metadata": {},
     "output_type": "execute_result"
    }
   ],
   "source": [
    "df['education'].unique()"
   ]
  },
  {
   "cell_type": "code",
   "execution_count": 57,
   "id": "51969135",
   "metadata": {},
   "outputs": [
    {
     "data": {
      "text/plain": [
       "(8459, 20)"
      ]
     },
     "execution_count": 57,
     "metadata": {},
     "output_type": "execute_result"
    }
   ],
   "source": [
    "fill=df[df['education'].notnull()]\n",
    "null=df[df['education'].isnull()]\n",
    "fill.shape"
   ]
  },
  {
   "cell_type": "code",
   "execution_count": 58,
   "id": "02b98b37",
   "metadata": {},
   "outputs": [
    {
     "data": {
      "text/plain": [
       "((8459, 5), (8459,))"
      ]
     },
     "execution_count": 58,
     "metadata": {},
     "output_type": "execute_result"
    }
   ],
   "source": [
    "x=fill[['age','smokes','sex','status','drugs']]\n",
    "y=fill['education']\n",
    "x.shape, y.shape"
   ]
  },
  {
   "cell_type": "code",
   "execution_count": 59,
   "id": "e6a9ebce",
   "metadata": {},
   "outputs": [
    {
     "data": {
      "text/plain": [
       "XGBRegressor(base_score=0.5, booster='gbtree', colsample_bylevel=1,\n",
       "             colsample_bynode=1, colsample_bytree=1, enable_categorical=False,\n",
       "             gamma=0, gpu_id=-1, importance_type=None,\n",
       "             interaction_constraints='', learning_rate=0.300000012,\n",
       "             max_delta_step=0, max_depth=6, min_child_weight=1, missing=nan,\n",
       "             monotone_constraints='()', n_estimators=100, n_jobs=12,\n",
       "             num_parallel_tree=1, predictor='auto', random_state=0, reg_alpha=0,\n",
       "             reg_lambda=1, scale_pos_weight=1, subsample=1, tree_method='exact',\n",
       "             validate_parameters=1, verbosity=None)"
      ]
     },
     "execution_count": 59,
     "metadata": {},
     "output_type": "execute_result"
    }
   ],
   "source": [
    "from xgboost import XGBRegressor\n",
    "xgbr=XGBRegressor()\n",
    "xgbr.fit(x,y)"
   ]
  },
  {
   "cell_type": "code",
   "execution_count": 60,
   "id": "ba5f500f",
   "metadata": {},
   "outputs": [
    {
     "data": {
      "text/plain": [
       "((1055, 5), (1055,))"
      ]
     },
     "execution_count": 60,
     "metadata": {},
     "output_type": "execute_result"
    }
   ],
   "source": [
    "x=null[['age','smokes','sex','status','drugs']]\n",
    "y=null['education']\n",
    "x.shape,y.shape"
   ]
  },
  {
   "cell_type": "code",
   "execution_count": 61,
   "id": "639cb41b",
   "metadata": {},
   "outputs": [
    {
     "data": {
      "text/plain": [
       "0"
      ]
     },
     "execution_count": 61,
     "metadata": {},
     "output_type": "execute_result"
    }
   ],
   "source": [
    "df.loc[df['education'].isnull(),'education']=xgbr.predict(x)\n",
    "df['education'].isnull().sum()"
   ]
  },
  {
   "cell_type": "markdown",
   "id": "eea24114",
   "metadata": {},
   "source": [
    "### Filling missing value of body_type with XGBRegressor"
   ]
  },
  {
   "cell_type": "code",
   "execution_count": 62,
   "id": "34887da6",
   "metadata": {},
   "outputs": [
    {
     "data": {
      "text/plain": [
       "array(['average', 'thin', 'fit', nan, 'curvy', 'full figured', 'jacked',\n",
       "       0, 'overweight'], dtype=object)"
      ]
     },
     "execution_count": 62,
     "metadata": {},
     "output_type": "execute_result"
    }
   ],
   "source": [
    "df['body_type'].unique()"
   ]
  },
  {
   "cell_type": "code",
   "execution_count": 63,
   "id": "1dccc6b1",
   "metadata": {},
   "outputs": [],
   "source": [
    "df['body_type']=df['body_type'].replace({0:'nan'})"
   ]
  },
  {
   "cell_type": "code",
   "execution_count": 64,
   "id": "aba9d10a",
   "metadata": {},
   "outputs": [
    {
     "data": {
      "text/plain": [
       "array(['average', 'thin', 'fit', nan, 'curvy', 'full figured', 'jacked',\n",
       "       'nan', 'overweight'], dtype=object)"
      ]
     },
     "execution_count": 64,
     "metadata": {},
     "output_type": "execute_result"
    }
   ],
   "source": [
    "df['body_type'].unique()"
   ]
  },
  {
   "cell_type": "code",
   "execution_count": 65,
   "id": "b1642edd",
   "metadata": {},
   "outputs": [
    {
     "name": "stderr",
     "output_type": "stream",
     "text": [
      "C:\\Users\\hfran\\AppData\\Local\\Temp/ipykernel_1176/1169225882.py:3: SettingWithCopyWarning: \n",
      "A value is trying to be set on a copy of a slice from a DataFrame.\n",
      "Try using .loc[row_indexer,col_indexer] = value instead\n",
      "\n",
      "See the caveats in the documentation: https://pandas.pydata.org/pandas-docs/stable/user_guide/indexing.html#returning-a-view-versus-a-copy\n",
      "  fill['body_type']=le.fit_transform(fill['body_type'])\n"
     ]
    },
    {
     "data": {
      "text/plain": [
       "(8666, 20)"
      ]
     },
     "execution_count": 65,
     "metadata": {},
     "output_type": "execute_result"
    }
   ],
   "source": [
    "fill=df[df['body_type'].notnull()]\n",
    "null=df[df['body_type'].isnull()]\n",
    "fill['body_type']=le.fit_transform(fill['body_type'])\n",
    "fill.shape"
   ]
  },
  {
   "cell_type": "code",
   "execution_count": 66,
   "id": "438268a8",
   "metadata": {},
   "outputs": [
    {
     "data": {
      "text/plain": [
       "array([0, 7, 2, 1, 3, 4, 5, 6])"
      ]
     },
     "execution_count": 66,
     "metadata": {},
     "output_type": "execute_result"
    }
   ],
   "source": [
    "fill['body_type'].unique()"
   ]
  },
  {
   "cell_type": "code",
   "execution_count": 67,
   "id": "661ee5d4",
   "metadata": {},
   "outputs": [
    {
     "data": {
      "text/plain": [
       "((8666, 7), (8666,))"
      ]
     },
     "execution_count": 67,
     "metadata": {},
     "output_type": "execute_result"
    }
   ],
   "source": [
    "x=fill[['age','height','education','smokes','sex','status','drugs']]\n",
    "y=fill['body_type']\n",
    "x.shape, y.shape"
   ]
  },
  {
   "cell_type": "code",
   "execution_count": 68,
   "id": "c4155644",
   "metadata": {},
   "outputs": [
    {
     "data": {
      "text/plain": [
       "XGBRegressor(base_score=0.5, booster='gbtree', colsample_bylevel=1,\n",
       "             colsample_bynode=1, colsample_bytree=1, enable_categorical=False,\n",
       "             gamma=0, gpu_id=-1, importance_type=None,\n",
       "             interaction_constraints='', learning_rate=0.300000012,\n",
       "             max_delta_step=0, max_depth=6, min_child_weight=1, missing=nan,\n",
       "             monotone_constraints='()', n_estimators=100, n_jobs=12,\n",
       "             num_parallel_tree=1, predictor='auto', random_state=0, reg_alpha=0,\n",
       "             reg_lambda=1, scale_pos_weight=1, subsample=1, tree_method='exact',\n",
       "             validate_parameters=1, verbosity=None)"
      ]
     },
     "execution_count": 68,
     "metadata": {},
     "output_type": "execute_result"
    }
   ],
   "source": [
    "from xgboost import XGBRegressor\n",
    "xgbr=XGBRegressor()\n",
    "xgbr.fit(x,y)"
   ]
  },
  {
   "cell_type": "code",
   "execution_count": 69,
   "id": "e795fd9c",
   "metadata": {},
   "outputs": [
    {
     "data": {
      "text/plain": [
       "((848, 7), (848,))"
      ]
     },
     "execution_count": 69,
     "metadata": {},
     "output_type": "execute_result"
    }
   ],
   "source": [
    "x=null[['age','height','education','smokes','sex','status','drugs']]\n",
    "y=null['body_type']\n",
    "x.shape,y.shape"
   ]
  },
  {
   "cell_type": "code",
   "execution_count": 70,
   "id": "adfe4762",
   "metadata": {},
   "outputs": [
    {
     "data": {
      "text/plain": [
       "0"
      ]
     },
     "execution_count": 70,
     "metadata": {},
     "output_type": "execute_result"
    }
   ],
   "source": [
    "df.loc[df['body_type'].isnull(),'body_type']=xgbr.predict(x)\n",
    "df['body_type'].isnull().sum()"
   ]
  },
  {
   "cell_type": "markdown",
   "id": "48c28c37",
   "metadata": {},
   "source": [
    "### Filling missing value of drinks with XGBRegressor"
   ]
  },
  {
   "cell_type": "code",
   "execution_count": 71,
   "id": "9ff03dfe",
   "metadata": {},
   "outputs": [
    {
     "data": {
      "text/plain": [
       "array([ 1.,  2.,  0., nan,  3.,  4.])"
      ]
     },
     "execution_count": 71,
     "metadata": {},
     "output_type": "execute_result"
    }
   ],
   "source": [
    "df['drinks'].unique()"
   ]
  },
  {
   "cell_type": "code",
   "execution_count": 72,
   "id": "07714505",
   "metadata": {},
   "outputs": [
    {
     "data": {
      "text/plain": [
       "(9012, 20)"
      ]
     },
     "execution_count": 72,
     "metadata": {},
     "output_type": "execute_result"
    }
   ],
   "source": [
    "fill=df[df['drinks'].notnull()]\n",
    "null=df[df['drinks'].isnull()]\n",
    "fill.shape"
   ]
  },
  {
   "cell_type": "code",
   "execution_count": 73,
   "id": "0beeaa5f",
   "metadata": {},
   "outputs": [
    {
     "data": {
      "text/plain": [
       "((9012, 3), (9012,))"
      ]
     },
     "execution_count": 73,
     "metadata": {},
     "output_type": "execute_result"
    }
   ],
   "source": [
    "x=fill[['age','smokes','drugs']]\n",
    "y=fill['drinks']\n",
    "x.shape, y.shape"
   ]
  },
  {
   "cell_type": "code",
   "execution_count": 74,
   "id": "7cd1ca42",
   "metadata": {},
   "outputs": [
    {
     "data": {
      "text/plain": [
       "XGBRegressor(base_score=0.5, booster='gbtree', colsample_bylevel=1,\n",
       "             colsample_bynode=1, colsample_bytree=1, enable_categorical=False,\n",
       "             gamma=0, gpu_id=-1, importance_type=None,\n",
       "             interaction_constraints='', learning_rate=0.300000012,\n",
       "             max_delta_step=0, max_depth=6, min_child_weight=1, missing=nan,\n",
       "             monotone_constraints='()', n_estimators=100, n_jobs=12,\n",
       "             num_parallel_tree=1, predictor='auto', random_state=0, reg_alpha=0,\n",
       "             reg_lambda=1, scale_pos_weight=1, subsample=1, tree_method='exact',\n",
       "             validate_parameters=1, verbosity=None)"
      ]
     },
     "execution_count": 74,
     "metadata": {},
     "output_type": "execute_result"
    }
   ],
   "source": [
    "from xgboost import XGBRegressor\n",
    "xgbr=XGBRegressor()\n",
    "xgbr.fit(x,y)"
   ]
  },
  {
   "cell_type": "code",
   "execution_count": 75,
   "id": "07e9ea50",
   "metadata": {},
   "outputs": [
    {
     "data": {
      "text/plain": [
       "((502, 3), (502,))"
      ]
     },
     "execution_count": 75,
     "metadata": {},
     "output_type": "execute_result"
    }
   ],
   "source": [
    "x=null[['age','smokes','drugs']]\n",
    "y=null['drinks']\n",
    "x.shape,y.shape"
   ]
  },
  {
   "cell_type": "code",
   "execution_count": 76,
   "id": "b2bf8e7e",
   "metadata": {},
   "outputs": [
    {
     "data": {
      "text/plain": [
       "0"
      ]
     },
     "execution_count": 76,
     "metadata": {},
     "output_type": "execute_result"
    }
   ],
   "source": [
    "df.loc[df['drinks'].isnull(),'drinks']=xgbr.predict(x)\n",
    "df['drinks'].isnull().sum()"
   ]
  },
  {
   "cell_type": "markdown",
   "id": "de19114f",
   "metadata": {},
   "source": [
    "### Filling missing value of diet with XGBRegressor"
   ]
  },
  {
   "cell_type": "code",
   "execution_count": 77,
   "id": "7f61d0e6",
   "metadata": {},
   "outputs": [
    {
     "data": {
      "text/plain": [
       "array([' anything', ' other', 'anything', 'vegetarian', nan,\n",
       "       ' vegetarian', ' vegan', ' halal', 'other', 'vegan', ' kosher',\n",
       "       'halal', 'kosher'], dtype=object)"
      ]
     },
     "execution_count": 77,
     "metadata": {},
     "output_type": "execute_result"
    }
   ],
   "source": [
    "df['diet'].unique()"
   ]
  },
  {
   "cell_type": "code",
   "execution_count": 78,
   "id": "9a0a95d2",
   "metadata": {},
   "outputs": [
    {
     "name": "stderr",
     "output_type": "stream",
     "text": [
      "C:\\Users\\hfran\\AppData\\Local\\Temp/ipykernel_1176/3817502262.py:3: SettingWithCopyWarning: \n",
      "A value is trying to be set on a copy of a slice from a DataFrame.\n",
      "Try using .loc[row_indexer,col_indexer] = value instead\n",
      "\n",
      "See the caveats in the documentation: https://pandas.pydata.org/pandas-docs/stable/user_guide/indexing.html#returning-a-view-versus-a-copy\n",
      "  fill['diet']=le.fit_transform(fill['diet'])\n"
     ]
    },
    {
     "data": {
      "text/plain": [
       "(5761, 20)"
      ]
     },
     "execution_count": 78,
     "metadata": {},
     "output_type": "execute_result"
    }
   ],
   "source": [
    "fill=df[df['diet'].notnull()]\n",
    "null=df[df['diet'].isnull()]\n",
    "fill['diet']=le.fit_transform(fill['diet'])\n",
    "fill.shape"
   ]
  },
  {
   "cell_type": "code",
   "execution_count": 79,
   "id": "763f6823",
   "metadata": {},
   "outputs": [
    {
     "data": {
      "text/plain": [
       "((5761, 7), (5761,))"
      ]
     },
     "execution_count": 79,
     "metadata": {},
     "output_type": "execute_result"
    }
   ],
   "source": [
    "x=fill[['age','height','smokes','sex','status','drugs','drinks']]\n",
    "y=fill['diet']\n",
    "x.shape, y.shape"
   ]
  },
  {
   "cell_type": "code",
   "execution_count": 80,
   "id": "082008f0",
   "metadata": {},
   "outputs": [
    {
     "data": {
      "text/plain": [
       "XGBRegressor(base_score=0.5, booster='gbtree', colsample_bylevel=1,\n",
       "             colsample_bynode=1, colsample_bytree=1, enable_categorical=False,\n",
       "             gamma=0, gpu_id=-1, importance_type=None,\n",
       "             interaction_constraints='', learning_rate=0.300000012,\n",
       "             max_delta_step=0, max_depth=6, min_child_weight=1, missing=nan,\n",
       "             monotone_constraints='()', n_estimators=100, n_jobs=12,\n",
       "             num_parallel_tree=1, predictor='auto', random_state=0, reg_alpha=0,\n",
       "             reg_lambda=1, scale_pos_weight=1, subsample=1, tree_method='exact',\n",
       "             validate_parameters=1, verbosity=None)"
      ]
     },
     "execution_count": 80,
     "metadata": {},
     "output_type": "execute_result"
    }
   ],
   "source": [
    "from xgboost import XGBRegressor\n",
    "xgbr=XGBRegressor()\n",
    "xgbr.fit(x,y)"
   ]
  },
  {
   "cell_type": "code",
   "execution_count": 81,
   "id": "4226b2fc",
   "metadata": {},
   "outputs": [
    {
     "data": {
      "text/plain": [
       "((3753, 7), (3753,))"
      ]
     },
     "execution_count": 81,
     "metadata": {},
     "output_type": "execute_result"
    }
   ],
   "source": [
    "x=null[['age','height','smokes','sex','status','drugs','drinks']]\n",
    "y=null['diet']\n",
    "x.shape, y.shape"
   ]
  },
  {
   "cell_type": "code",
   "execution_count": 82,
   "id": "7ebbddbc",
   "metadata": {},
   "outputs": [
    {
     "data": {
      "text/plain": [
       "0"
      ]
     },
     "execution_count": 82,
     "metadata": {},
     "output_type": "execute_result"
    }
   ],
   "source": [
    "df.loc[df['diet'].isnull(),'diet']=xgbr.predict(x)\n",
    "df['diet'].isnull().sum()"
   ]
  },
  {
   "cell_type": "code",
   "execution_count": 83,
   "id": "157a4ccd",
   "metadata": {},
   "outputs": [
    {
     "data": {
      "text/plain": [
       "age               0\n",
       "body_type         0\n",
       "diet              0\n",
       "drinks            0\n",
       "drugs             0\n",
       "education         0\n",
       "ethnicity         0\n",
       "height            0\n",
       "income            0\n",
       "job               0\n",
       "last_online       0\n",
       "location          0\n",
       "offspring         0\n",
       "orientation       0\n",
       "pets              0\n",
       "sex               0\n",
       "sign           1738\n",
       "smokes            0\n",
       "speaks            6\n",
       "status            0\n",
       "dtype: int64"
      ]
     },
     "execution_count": 83,
     "metadata": {},
     "output_type": "execute_result"
    }
   ],
   "source": [
    "df.isnull().sum()"
   ]
  },
  {
   "cell_type": "code",
   "execution_count": 84,
   "id": "01298134",
   "metadata": {},
   "outputs": [],
   "source": [
    "del df['sign']"
   ]
  },
  {
   "cell_type": "code",
   "execution_count": 85,
   "id": "a5888372",
   "metadata": {},
   "outputs": [
    {
     "data": {
      "text/plain": [
       "age            0\n",
       "body_type      0\n",
       "diet           0\n",
       "drinks         0\n",
       "drugs          0\n",
       "education      0\n",
       "ethnicity      0\n",
       "height         0\n",
       "income         0\n",
       "job            0\n",
       "last_online    0\n",
       "location       0\n",
       "offspring      0\n",
       "orientation    0\n",
       "pets           0\n",
       "sex            0\n",
       "smokes         0\n",
       "speaks         6\n",
       "status         0\n",
       "dtype: int64"
      ]
     },
     "execution_count": 85,
     "metadata": {},
     "output_type": "execute_result"
    }
   ],
   "source": [
    "df.isnull().sum()"
   ]
  },
  {
   "cell_type": "code",
   "execution_count": 86,
   "id": "5708fd9e",
   "metadata": {},
   "outputs": [],
   "source": [
    "from catboost import CatBoostRegressor,CatBoostClassifier\n",
    "from sklearn.ensemble import AdaBoostRegressor\n",
    "from sklearn.model_selection import train_test_split\n",
    "from sklearn.metrics import mean_squared_error,r2_score\n",
    "from sklearn.metrics import r2_score, mean_absolute_error, mean_squared_error\n",
    "import numpy as np"
   ]
  },
  {
   "cell_type": "code",
   "execution_count": 87,
   "id": "9311eeb6",
   "metadata": {},
   "outputs": [],
   "source": [
    "df=pd.get_dummies(df)"
   ]
  },
  {
   "cell_type": "code",
   "execution_count": 88,
   "id": "8e1f96da",
   "metadata": {},
   "outputs": [
    {
     "data": {
      "text/html": [
       "<div>\n",
       "<style scoped>\n",
       "    .dataframe tbody tr th:only-of-type {\n",
       "        vertical-align: middle;\n",
       "    }\n",
       "\n",
       "    .dataframe tbody tr th {\n",
       "        vertical-align: top;\n",
       "    }\n",
       "\n",
       "    .dataframe thead th {\n",
       "        text-align: right;\n",
       "    }\n",
       "</style>\n",
       "<table border=\"1\" class=\"dataframe\">\n",
       "  <thead>\n",
       "    <tr style=\"text-align: right;\">\n",
       "      <th></th>\n",
       "      <th>age</th>\n",
       "      <th>drinks</th>\n",
       "      <th>drugs</th>\n",
       "      <th>education</th>\n",
       "      <th>height</th>\n",
       "      <th>income</th>\n",
       "      <th>sex</th>\n",
       "      <th>smokes</th>\n",
       "      <th>status</th>\n",
       "      <th>body_type_0.025342073291540146</th>\n",
       "      <th>...</th>\n",
       "      <th>speaks_english, turkish</th>\n",
       "      <th>speaks_english, turkish (fluently), italian (okay)</th>\n",
       "      <th>speaks_english, turkish, c++</th>\n",
       "      <th>speaks_english, urdu, french, arabic, russian (poorly)</th>\n",
       "      <th>speaks_english, vietnamese</th>\n",
       "      <th>speaks_english, vietnamese (okay)</th>\n",
       "      <th>speaks_english, vietnamese (okay), spanish (okay)</th>\n",
       "      <th>speaks_english, vietnamese (poorly)</th>\n",
       "      <th>speaks_english, vietnamese, spanish</th>\n",
       "      <th>speaks_english, yiddish (poorly)</th>\n",
       "    </tr>\n",
       "  </thead>\n",
       "  <tbody>\n",
       "    <tr>\n",
       "      <th>0</th>\n",
       "      <td>22.0</td>\n",
       "      <td>1.0</td>\n",
       "      <td>0.0</td>\n",
       "      <td>5.000000</td>\n",
       "      <td>75</td>\n",
       "      <td>-1</td>\n",
       "      <td>1</td>\n",
       "      <td>1.0</td>\n",
       "      <td>3</td>\n",
       "      <td>0</td>\n",
       "      <td>...</td>\n",
       "      <td>0</td>\n",
       "      <td>0</td>\n",
       "      <td>0</td>\n",
       "      <td>0</td>\n",
       "      <td>0</td>\n",
       "      <td>0</td>\n",
       "      <td>0</td>\n",
       "      <td>0</td>\n",
       "      <td>0</td>\n",
       "      <td>0</td>\n",
       "    </tr>\n",
       "    <tr>\n",
       "      <th>1</th>\n",
       "      <td>35.0</td>\n",
       "      <td>2.0</td>\n",
       "      <td>1.0</td>\n",
       "      <td>5.000000</td>\n",
       "      <td>70</td>\n",
       "      <td>80000</td>\n",
       "      <td>1</td>\n",
       "      <td>0.0</td>\n",
       "      <td>3</td>\n",
       "      <td>0</td>\n",
       "      <td>...</td>\n",
       "      <td>0</td>\n",
       "      <td>0</td>\n",
       "      <td>0</td>\n",
       "      <td>0</td>\n",
       "      <td>0</td>\n",
       "      <td>0</td>\n",
       "      <td>0</td>\n",
       "      <td>0</td>\n",
       "      <td>0</td>\n",
       "      <td>0</td>\n",
       "    </tr>\n",
       "    <tr>\n",
       "      <th>2</th>\n",
       "      <td>38.0</td>\n",
       "      <td>1.0</td>\n",
       "      <td>0.0</td>\n",
       "      <td>9.000000</td>\n",
       "      <td>68</td>\n",
       "      <td>-1</td>\n",
       "      <td>1</td>\n",
       "      <td>0.0</td>\n",
       "      <td>0</td>\n",
       "      <td>0</td>\n",
       "      <td>...</td>\n",
       "      <td>0</td>\n",
       "      <td>0</td>\n",
       "      <td>0</td>\n",
       "      <td>0</td>\n",
       "      <td>0</td>\n",
       "      <td>0</td>\n",
       "      <td>0</td>\n",
       "      <td>0</td>\n",
       "      <td>0</td>\n",
       "      <td>0</td>\n",
       "    </tr>\n",
       "    <tr>\n",
       "      <th>3</th>\n",
       "      <td>23.0</td>\n",
       "      <td>1.0</td>\n",
       "      <td>0.0</td>\n",
       "      <td>5.000000</td>\n",
       "      <td>71</td>\n",
       "      <td>20000</td>\n",
       "      <td>1</td>\n",
       "      <td>0.0</td>\n",
       "      <td>3</td>\n",
       "      <td>0</td>\n",
       "      <td>...</td>\n",
       "      <td>0</td>\n",
       "      <td>0</td>\n",
       "      <td>0</td>\n",
       "      <td>0</td>\n",
       "      <td>0</td>\n",
       "      <td>0</td>\n",
       "      <td>0</td>\n",
       "      <td>0</td>\n",
       "      <td>0</td>\n",
       "      <td>0</td>\n",
       "    </tr>\n",
       "    <tr>\n",
       "      <th>4</th>\n",
       "      <td>29.0</td>\n",
       "      <td>1.0</td>\n",
       "      <td>0.0</td>\n",
       "      <td>6.000000</td>\n",
       "      <td>66</td>\n",
       "      <td>-1</td>\n",
       "      <td>1</td>\n",
       "      <td>0.0</td>\n",
       "      <td>3</td>\n",
       "      <td>0</td>\n",
       "      <td>...</td>\n",
       "      <td>0</td>\n",
       "      <td>0</td>\n",
       "      <td>0</td>\n",
       "      <td>0</td>\n",
       "      <td>0</td>\n",
       "      <td>0</td>\n",
       "      <td>0</td>\n",
       "      <td>0</td>\n",
       "      <td>0</td>\n",
       "      <td>0</td>\n",
       "    </tr>\n",
       "    <tr>\n",
       "      <th>...</th>\n",
       "      <td>...</td>\n",
       "      <td>...</td>\n",
       "      <td>...</td>\n",
       "      <td>...</td>\n",
       "      <td>...</td>\n",
       "      <td>...</td>\n",
       "      <td>...</td>\n",
       "      <td>...</td>\n",
       "      <td>...</td>\n",
       "      <td>...</td>\n",
       "      <td>...</td>\n",
       "      <td>...</td>\n",
       "      <td>...</td>\n",
       "      <td>...</td>\n",
       "      <td>...</td>\n",
       "      <td>...</td>\n",
       "      <td>...</td>\n",
       "      <td>...</td>\n",
       "      <td>...</td>\n",
       "      <td>...</td>\n",
       "      <td>...</td>\n",
       "    </tr>\n",
       "    <tr>\n",
       "      <th>9509</th>\n",
       "      <td>28.0</td>\n",
       "      <td>1.0</td>\n",
       "      <td>0.0</td>\n",
       "      <td>5.000000</td>\n",
       "      <td>73</td>\n",
       "      <td>60000</td>\n",
       "      <td>1</td>\n",
       "      <td>0.0</td>\n",
       "      <td>3</td>\n",
       "      <td>0</td>\n",
       "      <td>...</td>\n",
       "      <td>0</td>\n",
       "      <td>0</td>\n",
       "      <td>0</td>\n",
       "      <td>0</td>\n",
       "      <td>0</td>\n",
       "      <td>0</td>\n",
       "      <td>0</td>\n",
       "      <td>0</td>\n",
       "      <td>0</td>\n",
       "      <td>0</td>\n",
       "    </tr>\n",
       "    <tr>\n",
       "      <th>9510</th>\n",
       "      <td>31.0</td>\n",
       "      <td>1.0</td>\n",
       "      <td>1.0</td>\n",
       "      <td>6.426177</td>\n",
       "      <td>72</td>\n",
       "      <td>-1</td>\n",
       "      <td>1</td>\n",
       "      <td>1.0</td>\n",
       "      <td>3</td>\n",
       "      <td>0</td>\n",
       "      <td>...</td>\n",
       "      <td>0</td>\n",
       "      <td>0</td>\n",
       "      <td>0</td>\n",
       "      <td>0</td>\n",
       "      <td>0</td>\n",
       "      <td>0</td>\n",
       "      <td>0</td>\n",
       "      <td>0</td>\n",
       "      <td>0</td>\n",
       "      <td>0</td>\n",
       "    </tr>\n",
       "    <tr>\n",
       "      <th>9511</th>\n",
       "      <td>34.0</td>\n",
       "      <td>1.0</td>\n",
       "      <td>0.0</td>\n",
       "      <td>6.000000</td>\n",
       "      <td>71</td>\n",
       "      <td>-1</td>\n",
       "      <td>1</td>\n",
       "      <td>1.0</td>\n",
       "      <td>3</td>\n",
       "      <td>0</td>\n",
       "      <td>...</td>\n",
       "      <td>0</td>\n",
       "      <td>0</td>\n",
       "      <td>0</td>\n",
       "      <td>0</td>\n",
       "      <td>0</td>\n",
       "      <td>0</td>\n",
       "      <td>0</td>\n",
       "      <td>0</td>\n",
       "      <td>0</td>\n",
       "      <td>0</td>\n",
       "    </tr>\n",
       "    <tr>\n",
       "      <th>9512</th>\n",
       "      <td>29.0</td>\n",
       "      <td>1.0</td>\n",
       "      <td>0.0</td>\n",
       "      <td>2.000000</td>\n",
       "      <td>70</td>\n",
       "      <td>-1</td>\n",
       "      <td>1</td>\n",
       "      <td>0.0</td>\n",
       "      <td>3</td>\n",
       "      <td>0</td>\n",
       "      <td>...</td>\n",
       "      <td>0</td>\n",
       "      <td>0</td>\n",
       "      <td>0</td>\n",
       "      <td>0</td>\n",
       "      <td>0</td>\n",
       "      <td>0</td>\n",
       "      <td>0</td>\n",
       "      <td>0</td>\n",
       "      <td>0</td>\n",
       "      <td>0</td>\n",
       "    </tr>\n",
       "    <tr>\n",
       "      <th>9513</th>\n",
       "      <td>49.0</td>\n",
       "      <td>1.0</td>\n",
       "      <td>0.0</td>\n",
       "      <td>6.000000</td>\n",
       "      <td>64</td>\n",
       "      <td>-1</td>\n",
       "      <td>0</td>\n",
       "      <td>0.0</td>\n",
       "      <td>3</td>\n",
       "      <td>0</td>\n",
       "      <td>...</td>\n",
       "      <td>0</td>\n",
       "      <td>0</td>\n",
       "      <td>0</td>\n",
       "      <td>0</td>\n",
       "      <td>0</td>\n",
       "      <td>0</td>\n",
       "      <td>0</td>\n",
       "      <td>0</td>\n",
       "      <td>0</td>\n",
       "      <td>0</td>\n",
       "    </tr>\n",
       "  </tbody>\n",
       "</table>\n",
       "<p>9514 rows × 11883 columns</p>\n",
       "</div>"
      ],
      "text/plain": [
       "       age  drinks  drugs  education  height  income  sex  smokes  status  \\\n",
       "0     22.0     1.0    0.0   5.000000      75      -1    1     1.0       3   \n",
       "1     35.0     2.0    1.0   5.000000      70   80000    1     0.0       3   \n",
       "2     38.0     1.0    0.0   9.000000      68      -1    1     0.0       0   \n",
       "3     23.0     1.0    0.0   5.000000      71   20000    1     0.0       3   \n",
       "4     29.0     1.0    0.0   6.000000      66      -1    1     0.0       3   \n",
       "...    ...     ...    ...        ...     ...     ...  ...     ...     ...   \n",
       "9509  28.0     1.0    0.0   5.000000      73   60000    1     0.0       3   \n",
       "9510  31.0     1.0    1.0   6.426177      72      -1    1     1.0       3   \n",
       "9511  34.0     1.0    0.0   6.000000      71      -1    1     1.0       3   \n",
       "9512  29.0     1.0    0.0   2.000000      70      -1    1     0.0       3   \n",
       "9513  49.0     1.0    0.0   6.000000      64      -1    0     0.0       3   \n",
       "\n",
       "      body_type_0.025342073291540146  ...  speaks_english, turkish  \\\n",
       "0                                  0  ...                        0   \n",
       "1                                  0  ...                        0   \n",
       "2                                  0  ...                        0   \n",
       "3                                  0  ...                        0   \n",
       "4                                  0  ...                        0   \n",
       "...                              ...  ...                      ...   \n",
       "9509                               0  ...                        0   \n",
       "9510                               0  ...                        0   \n",
       "9511                               0  ...                        0   \n",
       "9512                               0  ...                        0   \n",
       "9513                               0  ...                        0   \n",
       "\n",
       "      speaks_english, turkish (fluently), italian (okay)  \\\n",
       "0                                                     0    \n",
       "1                                                     0    \n",
       "2                                                     0    \n",
       "3                                                     0    \n",
       "4                                                     0    \n",
       "...                                                 ...    \n",
       "9509                                                  0    \n",
       "9510                                                  0    \n",
       "9511                                                  0    \n",
       "9512                                                  0    \n",
       "9513                                                  0    \n",
       "\n",
       "      speaks_english, turkish, c++  \\\n",
       "0                                0   \n",
       "1                                0   \n",
       "2                                0   \n",
       "3                                0   \n",
       "4                                0   \n",
       "...                            ...   \n",
       "9509                             0   \n",
       "9510                             0   \n",
       "9511                             0   \n",
       "9512                             0   \n",
       "9513                             0   \n",
       "\n",
       "      speaks_english, urdu, french, arabic, russian (poorly)  \\\n",
       "0                                                     0        \n",
       "1                                                     0        \n",
       "2                                                     0        \n",
       "3                                                     0        \n",
       "4                                                     0        \n",
       "...                                                 ...        \n",
       "9509                                                  0        \n",
       "9510                                                  0        \n",
       "9511                                                  0        \n",
       "9512                                                  0        \n",
       "9513                                                  0        \n",
       "\n",
       "      speaks_english, vietnamese  speaks_english, vietnamese (okay)  \\\n",
       "0                              0                                  0   \n",
       "1                              0                                  0   \n",
       "2                              0                                  0   \n",
       "3                              0                                  0   \n",
       "4                              0                                  0   \n",
       "...                          ...                                ...   \n",
       "9509                           0                                  0   \n",
       "9510                           0                                  0   \n",
       "9511                           0                                  0   \n",
       "9512                           0                                  0   \n",
       "9513                           0                                  0   \n",
       "\n",
       "      speaks_english, vietnamese (okay), spanish (okay)  \\\n",
       "0                                                     0   \n",
       "1                                                     0   \n",
       "2                                                     0   \n",
       "3                                                     0   \n",
       "4                                                     0   \n",
       "...                                                 ...   \n",
       "9509                                                  0   \n",
       "9510                                                  0   \n",
       "9511                                                  0   \n",
       "9512                                                  0   \n",
       "9513                                                  0   \n",
       "\n",
       "      speaks_english, vietnamese (poorly)  \\\n",
       "0                                       0   \n",
       "1                                       0   \n",
       "2                                       0   \n",
       "3                                       0   \n",
       "4                                       0   \n",
       "...                                   ...   \n",
       "9509                                    0   \n",
       "9510                                    0   \n",
       "9511                                    0   \n",
       "9512                                    0   \n",
       "9513                                    0   \n",
       "\n",
       "      speaks_english, vietnamese, spanish  speaks_english, yiddish (poorly)  \n",
       "0                                       0                                 0  \n",
       "1                                       0                                 0  \n",
       "2                                       0                                 0  \n",
       "3                                       0                                 0  \n",
       "4                                       0                                 0  \n",
       "...                                   ...                               ...  \n",
       "9509                                    0                                 0  \n",
       "9510                                    0                                 0  \n",
       "9511                                    0                                 0  \n",
       "9512                                    0                                 0  \n",
       "9513                                    0                                 0  \n",
       "\n",
       "[9514 rows x 11883 columns]"
      ]
     },
     "execution_count": 88,
     "metadata": {},
     "output_type": "execute_result"
    }
   ],
   "source": [
    "df"
   ]
  },
  {
   "cell_type": "code",
   "execution_count": 89,
   "id": "dcb447aa",
   "metadata": {},
   "outputs": [],
   "source": [
    "y=df['age']\n",
    "x=df.drop('age',axis=1)"
   ]
  },
  {
   "cell_type": "code",
   "execution_count": 90,
   "id": "50faa859",
   "metadata": {},
   "outputs": [],
   "source": [
    "x_train,x_test,y_train,y_test=train_test_split(x,y,test_size=0.2,random_state=40)"
   ]
  },
  {
   "cell_type": "code",
   "execution_count": 91,
   "id": "d458438f",
   "metadata": {},
   "outputs": [],
   "source": [
    "model = CatBoostRegressor(iterations=100,\n",
    "                          learning_rate=1,\n",
    "                          depth=3)"
   ]
  },
  {
   "cell_type": "code",
   "execution_count": 92,
   "id": "aad9bfe2",
   "metadata": {},
   "outputs": [
    {
     "name": "stdout",
     "output_type": "stream",
     "text": [
      "0:\tlearn: 8.4639141\ttotal: 154ms\tremaining: 15.2s\n",
      "1:\tlearn: 8.1311303\ttotal: 165ms\tremaining: 8.06s\n",
      "2:\tlearn: 7.9883221\ttotal: 175ms\tremaining: 5.66s\n",
      "3:\tlearn: 7.9135840\ttotal: 186ms\tremaining: 4.45s\n",
      "4:\tlearn: 7.7655075\ttotal: 196ms\tremaining: 3.72s\n",
      "5:\tlearn: 7.6745853\ttotal: 206ms\tremaining: 3.22s\n",
      "6:\tlearn: 7.6606418\ttotal: 216ms\tremaining: 2.87s\n",
      "7:\tlearn: 7.6095650\ttotal: 225ms\tremaining: 2.59s\n",
      "8:\tlearn: 7.6020929\ttotal: 235ms\tremaining: 2.38s\n",
      "9:\tlearn: 7.5670910\ttotal: 244ms\tremaining: 2.2s\n",
      "10:\tlearn: 7.5473657\ttotal: 254ms\tremaining: 2.05s\n",
      "11:\tlearn: 7.5071506\ttotal: 263ms\tremaining: 1.93s\n",
      "12:\tlearn: 7.4934421\ttotal: 273ms\tremaining: 1.82s\n",
      "13:\tlearn: 7.4750810\ttotal: 282ms\tremaining: 1.73s\n",
      "14:\tlearn: 7.4478653\ttotal: 291ms\tremaining: 1.65s\n",
      "15:\tlearn: 7.4358594\ttotal: 300ms\tremaining: 1.58s\n",
      "16:\tlearn: 7.4100997\ttotal: 309ms\tremaining: 1.51s\n",
      "17:\tlearn: 7.3983668\ttotal: 318ms\tremaining: 1.45s\n",
      "18:\tlearn: 7.3875221\ttotal: 326ms\tremaining: 1.39s\n",
      "19:\tlearn: 7.3550031\ttotal: 336ms\tremaining: 1.34s\n",
      "20:\tlearn: 7.3260550\ttotal: 346ms\tremaining: 1.3s\n",
      "21:\tlearn: 7.3138030\ttotal: 356ms\tremaining: 1.26s\n",
      "22:\tlearn: 7.3034456\ttotal: 367ms\tremaining: 1.23s\n",
      "23:\tlearn: 7.2957260\ttotal: 377ms\tremaining: 1.19s\n",
      "24:\tlearn: 7.2782590\ttotal: 386ms\tremaining: 1.16s\n",
      "25:\tlearn: 7.2690553\ttotal: 395ms\tremaining: 1.13s\n",
      "26:\tlearn: 7.2588906\ttotal: 405ms\tremaining: 1.09s\n",
      "27:\tlearn: 7.2491361\ttotal: 414ms\tremaining: 1.06s\n",
      "28:\tlearn: 7.2399819\ttotal: 423ms\tremaining: 1.03s\n",
      "29:\tlearn: 7.2319044\ttotal: 432ms\tremaining: 1.01s\n",
      "30:\tlearn: 7.2177262\ttotal: 441ms\tremaining: 982ms\n",
      "31:\tlearn: 7.2092424\ttotal: 450ms\tremaining: 957ms\n",
      "32:\tlearn: 7.1911130\ttotal: 459ms\tremaining: 932ms\n",
      "33:\tlearn: 7.1826210\ttotal: 469ms\tremaining: 910ms\n",
      "34:\tlearn: 7.1597063\ttotal: 478ms\tremaining: 888ms\n",
      "35:\tlearn: 7.1516018\ttotal: 487ms\tremaining: 866ms\n",
      "36:\tlearn: 7.1406329\ttotal: 496ms\tremaining: 844ms\n",
      "37:\tlearn: 7.1326784\ttotal: 505ms\tremaining: 824ms\n",
      "38:\tlearn: 7.1198700\ttotal: 514ms\tremaining: 803ms\n",
      "39:\tlearn: 7.1131210\ttotal: 522ms\tremaining: 783ms\n",
      "40:\tlearn: 7.1054922\ttotal: 530ms\tremaining: 763ms\n",
      "41:\tlearn: 7.0991763\ttotal: 539ms\tremaining: 744ms\n",
      "42:\tlearn: 7.0897495\ttotal: 548ms\tremaining: 727ms\n",
      "43:\tlearn: 7.0825489\ttotal: 569ms\tremaining: 724ms\n",
      "44:\tlearn: 7.0755103\ttotal: 578ms\tremaining: 706ms\n",
      "45:\tlearn: 7.0606759\ttotal: 586ms\tremaining: 688ms\n",
      "46:\tlearn: 7.0390282\ttotal: 595ms\tremaining: 670ms\n",
      "47:\tlearn: 7.0287223\ttotal: 603ms\tremaining: 653ms\n",
      "48:\tlearn: 7.0140118\ttotal: 611ms\tremaining: 636ms\n",
      "49:\tlearn: 7.0067683\ttotal: 619ms\tremaining: 619ms\n",
      "50:\tlearn: 6.9961761\ttotal: 628ms\tremaining: 603ms\n",
      "51:\tlearn: 6.9892656\ttotal: 636ms\tremaining: 587ms\n",
      "52:\tlearn: 6.9825541\ttotal: 644ms\tremaining: 571ms\n",
      "53:\tlearn: 6.9759146\ttotal: 652ms\tremaining: 556ms\n",
      "54:\tlearn: 6.9693371\ttotal: 661ms\tremaining: 541ms\n",
      "55:\tlearn: 6.9628212\ttotal: 669ms\tremaining: 526ms\n",
      "56:\tlearn: 6.9563390\ttotal: 678ms\tremaining: 512ms\n",
      "57:\tlearn: 6.9422107\ttotal: 687ms\tremaining: 497ms\n",
      "58:\tlearn: 6.9247921\ttotal: 696ms\tremaining: 483ms\n",
      "59:\tlearn: 6.9183649\ttotal: 705ms\tremaining: 470ms\n",
      "60:\tlearn: 6.9031722\ttotal: 713ms\tremaining: 456ms\n",
      "61:\tlearn: 6.8970743\ttotal: 721ms\tremaining: 442ms\n",
      "62:\tlearn: 6.8907446\ttotal: 730ms\tremaining: 429ms\n",
      "63:\tlearn: 6.8670712\ttotal: 739ms\tremaining: 416ms\n",
      "64:\tlearn: 6.8583011\ttotal: 748ms\tremaining: 403ms\n",
      "65:\tlearn: 6.8521187\ttotal: 756ms\tremaining: 390ms\n",
      "66:\tlearn: 6.8460176\ttotal: 765ms\tremaining: 377ms\n",
      "67:\tlearn: 6.8336012\ttotal: 774ms\tremaining: 364ms\n",
      "68:\tlearn: 6.8274637\ttotal: 783ms\tremaining: 352ms\n",
      "69:\tlearn: 6.8188671\ttotal: 792ms\tremaining: 339ms\n",
      "70:\tlearn: 6.8075613\ttotal: 801ms\tremaining: 327ms\n",
      "71:\tlearn: 6.8021904\ttotal: 809ms\tremaining: 315ms\n",
      "72:\tlearn: 6.7968628\ttotal: 818ms\tremaining: 302ms\n",
      "73:\tlearn: 6.7884417\ttotal: 826ms\tremaining: 290ms\n",
      "74:\tlearn: 6.7796144\ttotal: 835ms\tremaining: 278ms\n",
      "75:\tlearn: 6.7744907\ttotal: 844ms\tremaining: 266ms\n",
      "76:\tlearn: 6.7686459\ttotal: 852ms\tremaining: 255ms\n",
      "77:\tlearn: 6.7628415\ttotal: 861ms\tremaining: 243ms\n",
      "78:\tlearn: 6.7571242\ttotal: 869ms\tremaining: 231ms\n",
      "79:\tlearn: 6.7425997\ttotal: 878ms\tremaining: 220ms\n",
      "80:\tlearn: 6.7369399\ttotal: 887ms\tremaining: 208ms\n",
      "81:\tlearn: 6.7298113\ttotal: 896ms\tremaining: 197ms\n",
      "82:\tlearn: 6.7241667\ttotal: 905ms\tremaining: 185ms\n",
      "83:\tlearn: 6.7196630\ttotal: 914ms\tremaining: 174ms\n",
      "84:\tlearn: 6.7142058\ttotal: 924ms\tremaining: 163ms\n",
      "85:\tlearn: 6.7087685\ttotal: 933ms\tremaining: 152ms\n",
      "86:\tlearn: 6.6804753\ttotal: 944ms\tremaining: 141ms\n",
      "87:\tlearn: 6.6746809\ttotal: 953ms\tremaining: 130ms\n",
      "88:\tlearn: 6.6635567\ttotal: 962ms\tremaining: 119ms\n",
      "89:\tlearn: 6.6562938\ttotal: 972ms\tremaining: 108ms\n",
      "90:\tlearn: 6.6507348\ttotal: 981ms\tremaining: 97ms\n",
      "91:\tlearn: 6.6460422\ttotal: 990ms\tremaining: 86.1ms\n",
      "92:\tlearn: 6.6407406\ttotal: 1000ms\tremaining: 75.2ms\n",
      "93:\tlearn: 6.6355630\ttotal: 1.01s\tremaining: 64.4ms\n",
      "94:\tlearn: 6.6283615\ttotal: 1.02s\tremaining: 53.6ms\n",
      "95:\tlearn: 6.6232491\ttotal: 1.03s\tremaining: 42.8ms\n",
      "96:\tlearn: 6.6182444\ttotal: 1.03s\tremaining: 32ms\n",
      "97:\tlearn: 6.6136368\ttotal: 1.04s\tremaining: 21.3ms\n",
      "98:\tlearn: 6.6086610\ttotal: 1.05s\tremaining: 10.6ms\n",
      "99:\tlearn: 6.6007559\ttotal: 1.06s\tremaining: 0us\n"
     ]
    },
    {
     "data": {
      "text/plain": [
       "<catboost.core.CatBoostRegressor at 0x1ebea927a30>"
      ]
     },
     "execution_count": 92,
     "metadata": {},
     "output_type": "execute_result"
    }
   ],
   "source": [
    "model.fit(x_train, y_train)"
   ]
  },
  {
   "cell_type": "code",
   "execution_count": 93,
   "id": "d865b248",
   "metadata": {},
   "outputs": [
    {
     "data": {
      "text/plain": [
       "array([53.97998782, 30.72464715, 47.58544457, ..., 32.95735351,\n",
       "       34.30780184, 27.76050057])"
      ]
     },
     "execution_count": 93,
     "metadata": {},
     "output_type": "execute_result"
    }
   ],
   "source": [
    "preds = model.predict(x_test)\n",
    "preds"
   ]
  },
  {
   "cell_type": "code",
   "execution_count": 94,
   "id": "8ed5fb9f",
   "metadata": {},
   "outputs": [
    {
     "data": {
      "text/plain": [
       "3158.813469469409"
      ]
     },
     "execution_count": 94,
     "metadata": {},
     "output_type": "execute_result"
    }
   ],
   "source": [
    "(mean_squared_error(y_test,preds))**2"
   ]
  },
  {
   "cell_type": "code",
   "execution_count": 95,
   "id": "1ae0a626",
   "metadata": {},
   "outputs": [
    {
     "data": {
      "text/plain": [
       "0.35145487302962863"
      ]
     },
     "execution_count": 95,
     "metadata": {},
     "output_type": "execute_result"
    }
   ],
   "source": [
    "r2_score(y_test,preds)"
   ]
  }
 ],
 "metadata": {
  "kernelspec": {
   "display_name": "Python 3 (ipykernel)",
   "language": "python",
   "name": "python3"
  },
  "language_info": {
   "codemirror_mode": {
    "name": "ipython",
    "version": 3
   },
   "file_extension": ".py",
   "mimetype": "text/x-python",
   "name": "python",
   "nbconvert_exporter": "python",
   "pygments_lexer": "ipython3",
   "version": "3.9.7"
  }
 },
 "nbformat": 4,
 "nbformat_minor": 5
}
